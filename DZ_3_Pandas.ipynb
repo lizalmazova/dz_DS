{
  "nbformat": 4,
  "nbformat_minor": 0,
  "metadata": {
    "colab": {
      "provenance": [],
      "collapsed_sections": []
    },
    "kernelspec": {
      "name": "python3",
      "display_name": "Python 3"
    },
    "language_info": {
      "name": "python"
    }
  },
  "cells": [
    {
      "cell_type": "markdown",
      "source": [
        "# **Python Base. Pandas. Домашнее задание (HW)**\n",
        "**Задача:**\n",
        "\n",
        "*Используя библиотеку pandas (или аналоги), проанализировать как можно больше характеристик, влияющих на успеваемость студентов.*\n",
        "\n",
        "Импортируем библиотеку Pandas:"
      ],
      "metadata": {
        "id": "bnNKQwE4CaKV"
      }
    },
    {
      "cell_type": "code",
      "source": [
        "import pandas as pd"
      ],
      "metadata": {
        "id": "vHc7YwO08Uwj"
      },
      "execution_count": 1,
      "outputs": []
    },
    {
      "cell_type": "markdown",
      "source": [
        "Импортируем данные файлов train.csv, questions.csv, lectures.csv:\n",
        "Для улучшения производительности задаем тип переменных и уменьшаем исходный размер файла train.csv:"
      ],
      "metadata": {
        "id": "QVO3-mcqCYbM"
      }
    },
    {
      "cell_type": "code",
      "source": [
        "dtypes = {\n",
        "    \"row_id\": \"int64\",\n",
        "    \"timestamp\": \"int64\",\n",
        "    \"user_id\": \"int32\",\n",
        "    \"content_id\": \"int16\",\n",
        "    \"content_type_id\": \"boolean\",\n",
        "    \"task_container_id\": \"int16\",\n",
        "    \"user_answer\": \"int8\",\n",
        "    \"answered_correctly\": \"int8\",\n",
        "    \"prior_question_elapsed_time\": \"float32\", \n",
        "    \"prior_question_had_explanation\": \"boolean\"\n",
        "}\n",
        "train=pd.read_csv('/content/drive/MyDrive/riiid-test-answer-prediction/train.csv', dtype=dtypes, nrows=20230332)\n",
        "print(\"Train size:\", train.shape)"
      ],
      "metadata": {
        "id": "Yg03UyaHAgCY",
        "colab": {
          "base_uri": "https://localhost:8080/"
        },
        "outputId": "4eb5f714-1549-4258-f527-0588954f94c5"
      },
      "execution_count": 2,
      "outputs": [
        {
          "output_type": "stream",
          "name": "stdout",
          "text": [
            "Train size: (20230332, 10)\n"
          ]
        }
      ]
    },
    {
      "cell_type": "markdown",
      "source": [
        "**Для дополнительного улучшения производительности количество строк исходного файла было сокращено.**\n",
        "\n",
        "`TRAIN.CSV:`\n",
        "\n",
        "Это основная таблица, которая связывает студента с вопросом или лекцией, с которыми он взаимодействует, а также дополнительная информация\n",
        "об этом взаимодействии. Список колонок и краткое их описание:\n",
        "\n",
        "* row_id: (int64) порядковый номер строки в этой таблице.\n",
        "* timestamp: (int64) время в миллисекундах между текущим взаимодействием и первым событием связанным с данным ученика.\n",
        "* user_id: (int32) идентификационный код ученика.\n",
        "* content_id: (int16) идентификационный код вопроса или лекции.\n",
        "* content_type_id: (int8) 0 если это вопрос, 1 если лекция.\n",
        "11\n",
        "* task_container_id: (int16) идентификационный код группы вопросов, в которой задан текущий вопрос.\n",
        "* user_answer: (int8) вариант ответа, который выбрал ученик. Всего вариантов может быть 4. В случае если взаимодействие - это лекция, а не вопрос, то данное поле равно -1.\n",
        "* answered_correctly: (int8) правильно ли ученик ответил на вопрос. В случае, если взаимодействие - это лекция, а не вопрос, то данное поле равно -1. Данное поле нужно будет предсказывать.\n",
        "* prior_question_elapsed_time: (float32) среднее время в миллисекундах, которое ученику потребовалось, чтобы ответить на все вопросы в предыдущей группе, игнорируя любые лекции между ними. Равен 0 для первой группы вопросов, заданной ученику.\n",
        "* prior_question_had_explanation: (bool) смотрел ли ученик объяснение и правильный ответ на предыдущий вопрос.\n"
      ],
      "metadata": {
        "id": "mAP5w92oMtxs"
      }
    },
    {
      "cell_type": "code",
      "source": [
        "lectures=pd.read_csv('/content/drive/MyDrive/riiid-test-answer-prediction/lectures.csv')"
      ],
      "metadata": {
        "id": "COJxTzp6CDgo"
      },
      "execution_count": 4,
      "outputs": []
    },
    {
      "cell_type": "markdown",
      "source": [
        "`LECTIONS.CSV`\n",
        "\n",
        "Данная таблица аналогична таблице про вопросы, но она про лекции,\n",
        "перейдем к ее описанию:\n",
        "\n",
        "* lecture_id: внешний ключ(foreign key) для связывание данной информации с таблицей train.\n",
        "* type_of: краткое описание основной цели лекции.\n",
        "* part: один из семи типов, который был в таблице с вопросами.\n",
        "* tag: один тэг в качестве числа, который представляет лекцию, его значение не дано, также как и в вопросах.\n",
        "\n"
      ],
      "metadata": {
        "id": "VS46voF1M2-t"
      }
    },
    {
      "cell_type": "code",
      "source": [
        "questions=pd.read_csv('/content/drive/MyDrive/riiid-test-answer-prediction/questions.csv')"
      ],
      "metadata": {
        "id": "WSkLRRE-Fm4b"
      },
      "execution_count": 5,
      "outputs": []
    },
    {
      "cell_type": "markdown",
      "source": [
        "`QUESTIONS.CSV:`\n",
        "\n",
        "Таблица описывающая вопрос. Количество вопросов в отличии от количества учеников заранее зафиксировано, также задания повторно предлагаются\n",
        "различным ученикам. Список колонок:\n",
        "\n",
        "* question_id: внешний ключ(foreign key) для связывание данной информации с таблицей train.\n",
        "* bundle_id: код по которому вопросы объединяются в группы.\n",
        "* correct_answer: правильный ответ на вопрос.\n",
        "* part: один из семи типов вопросов TOEIC. Ниже будет краткое описание каждого\n",
        "* tags: один или несколько кодов с тэгами для данного вопроса. Описание тэгов не представлено, но самих кодов достаточно для того, чтобы\n",
        "сделать кластеризацию.\n"
      ],
      "metadata": {
        "id": "tbPFHa7qM9Q9"
      }
    },
    {
      "cell_type": "markdown",
      "source": [
        "Данные прочитаны. Проверим их корректность посредством вывода 5 первых строк:"
      ],
      "metadata": {
        "id": "wExt_e3WFxCE"
      }
    },
    {
      "cell_type": "code",
      "source": [
        "display(train.head(),lectures.head(),questions.head())"
      ],
      "metadata": {
        "colab": {
          "base_uri": "https://localhost:8080/",
          "height": 648
        },
        "id": "VFfvj10zF8Nx",
        "outputId": "064f433f-d258-4806-b766-11e651326e41"
      },
      "execution_count": 6,
      "outputs": [
        {
          "output_type": "display_data",
          "data": {
            "text/plain": [
              "   row_id  timestamp  user_id  content_id  content_type_id  task_container_id  \\\n",
              "0       0          0      115        5692            False                  1   \n",
              "1       1      56943      115        5716            False                  2   \n",
              "2       2     118363      115         128            False                  0   \n",
              "3       3     131167      115        7860            False                  3   \n",
              "4       4     137965      115        7922            False                  4   \n",
              "\n",
              "   user_answer  answered_correctly  prior_question_elapsed_time  \\\n",
              "0            3                   1                          NaN   \n",
              "1            2                   1                      37000.0   \n",
              "2            0                   1                      55000.0   \n",
              "3            0                   1                      19000.0   \n",
              "4            1                   1                      11000.0   \n",
              "\n",
              "   prior_question_had_explanation  \n",
              "0                            <NA>  \n",
              "1                           False  \n",
              "2                           False  \n",
              "3                           False  \n",
              "4                           False  "
            ],
            "text/html": [
              "\n",
              "  <div id=\"df-f2493cf1-4725-4c17-8644-ae337b3c459a\">\n",
              "    <div class=\"colab-df-container\">\n",
              "      <div>\n",
              "<style scoped>\n",
              "    .dataframe tbody tr th:only-of-type {\n",
              "        vertical-align: middle;\n",
              "    }\n",
              "\n",
              "    .dataframe tbody tr th {\n",
              "        vertical-align: top;\n",
              "    }\n",
              "\n",
              "    .dataframe thead th {\n",
              "        text-align: right;\n",
              "    }\n",
              "</style>\n",
              "<table border=\"1\" class=\"dataframe\">\n",
              "  <thead>\n",
              "    <tr style=\"text-align: right;\">\n",
              "      <th></th>\n",
              "      <th>row_id</th>\n",
              "      <th>timestamp</th>\n",
              "      <th>user_id</th>\n",
              "      <th>content_id</th>\n",
              "      <th>content_type_id</th>\n",
              "      <th>task_container_id</th>\n",
              "      <th>user_answer</th>\n",
              "      <th>answered_correctly</th>\n",
              "      <th>prior_question_elapsed_time</th>\n",
              "      <th>prior_question_had_explanation</th>\n",
              "    </tr>\n",
              "  </thead>\n",
              "  <tbody>\n",
              "    <tr>\n",
              "      <th>0</th>\n",
              "      <td>0</td>\n",
              "      <td>0</td>\n",
              "      <td>115</td>\n",
              "      <td>5692</td>\n",
              "      <td>False</td>\n",
              "      <td>1</td>\n",
              "      <td>3</td>\n",
              "      <td>1</td>\n",
              "      <td>NaN</td>\n",
              "      <td>&lt;NA&gt;</td>\n",
              "    </tr>\n",
              "    <tr>\n",
              "      <th>1</th>\n",
              "      <td>1</td>\n",
              "      <td>56943</td>\n",
              "      <td>115</td>\n",
              "      <td>5716</td>\n",
              "      <td>False</td>\n",
              "      <td>2</td>\n",
              "      <td>2</td>\n",
              "      <td>1</td>\n",
              "      <td>37000.0</td>\n",
              "      <td>False</td>\n",
              "    </tr>\n",
              "    <tr>\n",
              "      <th>2</th>\n",
              "      <td>2</td>\n",
              "      <td>118363</td>\n",
              "      <td>115</td>\n",
              "      <td>128</td>\n",
              "      <td>False</td>\n",
              "      <td>0</td>\n",
              "      <td>0</td>\n",
              "      <td>1</td>\n",
              "      <td>55000.0</td>\n",
              "      <td>False</td>\n",
              "    </tr>\n",
              "    <tr>\n",
              "      <th>3</th>\n",
              "      <td>3</td>\n",
              "      <td>131167</td>\n",
              "      <td>115</td>\n",
              "      <td>7860</td>\n",
              "      <td>False</td>\n",
              "      <td>3</td>\n",
              "      <td>0</td>\n",
              "      <td>1</td>\n",
              "      <td>19000.0</td>\n",
              "      <td>False</td>\n",
              "    </tr>\n",
              "    <tr>\n",
              "      <th>4</th>\n",
              "      <td>4</td>\n",
              "      <td>137965</td>\n",
              "      <td>115</td>\n",
              "      <td>7922</td>\n",
              "      <td>False</td>\n",
              "      <td>4</td>\n",
              "      <td>1</td>\n",
              "      <td>1</td>\n",
              "      <td>11000.0</td>\n",
              "      <td>False</td>\n",
              "    </tr>\n",
              "  </tbody>\n",
              "</table>\n",
              "</div>\n",
              "      <button class=\"colab-df-convert\" onclick=\"convertToInteractive('df-f2493cf1-4725-4c17-8644-ae337b3c459a')\"\n",
              "              title=\"Convert this dataframe to an interactive table.\"\n",
              "              style=\"display:none;\">\n",
              "        \n",
              "  <svg xmlns=\"http://www.w3.org/2000/svg\" height=\"24px\"viewBox=\"0 0 24 24\"\n",
              "       width=\"24px\">\n",
              "    <path d=\"M0 0h24v24H0V0z\" fill=\"none\"/>\n",
              "    <path d=\"M18.56 5.44l.94 2.06.94-2.06 2.06-.94-2.06-.94-.94-2.06-.94 2.06-2.06.94zm-11 1L8.5 8.5l.94-2.06 2.06-.94-2.06-.94L8.5 2.5l-.94 2.06-2.06.94zm10 10l.94 2.06.94-2.06 2.06-.94-2.06-.94-.94-2.06-.94 2.06-2.06.94z\"/><path d=\"M17.41 7.96l-1.37-1.37c-.4-.4-.92-.59-1.43-.59-.52 0-1.04.2-1.43.59L10.3 9.45l-7.72 7.72c-.78.78-.78 2.05 0 2.83L4 21.41c.39.39.9.59 1.41.59.51 0 1.02-.2 1.41-.59l7.78-7.78 2.81-2.81c.8-.78.8-2.07 0-2.86zM5.41 20L4 18.59l7.72-7.72 1.47 1.35L5.41 20z\"/>\n",
              "  </svg>\n",
              "      </button>\n",
              "      \n",
              "  <style>\n",
              "    .colab-df-container {\n",
              "      display:flex;\n",
              "      flex-wrap:wrap;\n",
              "      gap: 12px;\n",
              "    }\n",
              "\n",
              "    .colab-df-convert {\n",
              "      background-color: #E8F0FE;\n",
              "      border: none;\n",
              "      border-radius: 50%;\n",
              "      cursor: pointer;\n",
              "      display: none;\n",
              "      fill: #1967D2;\n",
              "      height: 32px;\n",
              "      padding: 0 0 0 0;\n",
              "      width: 32px;\n",
              "    }\n",
              "\n",
              "    .colab-df-convert:hover {\n",
              "      background-color: #E2EBFA;\n",
              "      box-shadow: 0px 1px 2px rgba(60, 64, 67, 0.3), 0px 1px 3px 1px rgba(60, 64, 67, 0.15);\n",
              "      fill: #174EA6;\n",
              "    }\n",
              "\n",
              "    [theme=dark] .colab-df-convert {\n",
              "      background-color: #3B4455;\n",
              "      fill: #D2E3FC;\n",
              "    }\n",
              "\n",
              "    [theme=dark] .colab-df-convert:hover {\n",
              "      background-color: #434B5C;\n",
              "      box-shadow: 0px 1px 3px 1px rgba(0, 0, 0, 0.15);\n",
              "      filter: drop-shadow(0px 1px 2px rgba(0, 0, 0, 0.3));\n",
              "      fill: #FFFFFF;\n",
              "    }\n",
              "  </style>\n",
              "\n",
              "      <script>\n",
              "        const buttonEl =\n",
              "          document.querySelector('#df-f2493cf1-4725-4c17-8644-ae337b3c459a button.colab-df-convert');\n",
              "        buttonEl.style.display =\n",
              "          google.colab.kernel.accessAllowed ? 'block' : 'none';\n",
              "\n",
              "        async function convertToInteractive(key) {\n",
              "          const element = document.querySelector('#df-f2493cf1-4725-4c17-8644-ae337b3c459a');\n",
              "          const dataTable =\n",
              "            await google.colab.kernel.invokeFunction('convertToInteractive',\n",
              "                                                     [key], {});\n",
              "          if (!dataTable) return;\n",
              "\n",
              "          const docLinkHtml = 'Like what you see? Visit the ' +\n",
              "            '<a target=\"_blank\" href=https://colab.research.google.com/notebooks/data_table.ipynb>data table notebook</a>'\n",
              "            + ' to learn more about interactive tables.';\n",
              "          element.innerHTML = '';\n",
              "          dataTable['output_type'] = 'display_data';\n",
              "          await google.colab.output.renderOutput(dataTable, element);\n",
              "          const docLink = document.createElement('div');\n",
              "          docLink.innerHTML = docLinkHtml;\n",
              "          element.appendChild(docLink);\n",
              "        }\n",
              "      </script>\n",
              "    </div>\n",
              "  </div>\n",
              "  "
            ]
          },
          "metadata": {}
        },
        {
          "output_type": "display_data",
          "data": {
            "text/plain": [
              "   lecture_id  tag  part           type_of\n",
              "0          89  159     5           concept\n",
              "1         100   70     1           concept\n",
              "2         185   45     6           concept\n",
              "3         192   79     5  solving question\n",
              "4         317  156     5  solving question"
            ],
            "text/html": [
              "\n",
              "  <div id=\"df-14a220e0-8357-48e4-8421-ce8fdaade7e6\">\n",
              "    <div class=\"colab-df-container\">\n",
              "      <div>\n",
              "<style scoped>\n",
              "    .dataframe tbody tr th:only-of-type {\n",
              "        vertical-align: middle;\n",
              "    }\n",
              "\n",
              "    .dataframe tbody tr th {\n",
              "        vertical-align: top;\n",
              "    }\n",
              "\n",
              "    .dataframe thead th {\n",
              "        text-align: right;\n",
              "    }\n",
              "</style>\n",
              "<table border=\"1\" class=\"dataframe\">\n",
              "  <thead>\n",
              "    <tr style=\"text-align: right;\">\n",
              "      <th></th>\n",
              "      <th>lecture_id</th>\n",
              "      <th>tag</th>\n",
              "      <th>part</th>\n",
              "      <th>type_of</th>\n",
              "    </tr>\n",
              "  </thead>\n",
              "  <tbody>\n",
              "    <tr>\n",
              "      <th>0</th>\n",
              "      <td>89</td>\n",
              "      <td>159</td>\n",
              "      <td>5</td>\n",
              "      <td>concept</td>\n",
              "    </tr>\n",
              "    <tr>\n",
              "      <th>1</th>\n",
              "      <td>100</td>\n",
              "      <td>70</td>\n",
              "      <td>1</td>\n",
              "      <td>concept</td>\n",
              "    </tr>\n",
              "    <tr>\n",
              "      <th>2</th>\n",
              "      <td>185</td>\n",
              "      <td>45</td>\n",
              "      <td>6</td>\n",
              "      <td>concept</td>\n",
              "    </tr>\n",
              "    <tr>\n",
              "      <th>3</th>\n",
              "      <td>192</td>\n",
              "      <td>79</td>\n",
              "      <td>5</td>\n",
              "      <td>solving question</td>\n",
              "    </tr>\n",
              "    <tr>\n",
              "      <th>4</th>\n",
              "      <td>317</td>\n",
              "      <td>156</td>\n",
              "      <td>5</td>\n",
              "      <td>solving question</td>\n",
              "    </tr>\n",
              "  </tbody>\n",
              "</table>\n",
              "</div>\n",
              "      <button class=\"colab-df-convert\" onclick=\"convertToInteractive('df-14a220e0-8357-48e4-8421-ce8fdaade7e6')\"\n",
              "              title=\"Convert this dataframe to an interactive table.\"\n",
              "              style=\"display:none;\">\n",
              "        \n",
              "  <svg xmlns=\"http://www.w3.org/2000/svg\" height=\"24px\"viewBox=\"0 0 24 24\"\n",
              "       width=\"24px\">\n",
              "    <path d=\"M0 0h24v24H0V0z\" fill=\"none\"/>\n",
              "    <path d=\"M18.56 5.44l.94 2.06.94-2.06 2.06-.94-2.06-.94-.94-2.06-.94 2.06-2.06.94zm-11 1L8.5 8.5l.94-2.06 2.06-.94-2.06-.94L8.5 2.5l-.94 2.06-2.06.94zm10 10l.94 2.06.94-2.06 2.06-.94-2.06-.94-.94-2.06-.94 2.06-2.06.94z\"/><path d=\"M17.41 7.96l-1.37-1.37c-.4-.4-.92-.59-1.43-.59-.52 0-1.04.2-1.43.59L10.3 9.45l-7.72 7.72c-.78.78-.78 2.05 0 2.83L4 21.41c.39.39.9.59 1.41.59.51 0 1.02-.2 1.41-.59l7.78-7.78 2.81-2.81c.8-.78.8-2.07 0-2.86zM5.41 20L4 18.59l7.72-7.72 1.47 1.35L5.41 20z\"/>\n",
              "  </svg>\n",
              "      </button>\n",
              "      \n",
              "  <style>\n",
              "    .colab-df-container {\n",
              "      display:flex;\n",
              "      flex-wrap:wrap;\n",
              "      gap: 12px;\n",
              "    }\n",
              "\n",
              "    .colab-df-convert {\n",
              "      background-color: #E8F0FE;\n",
              "      border: none;\n",
              "      border-radius: 50%;\n",
              "      cursor: pointer;\n",
              "      display: none;\n",
              "      fill: #1967D2;\n",
              "      height: 32px;\n",
              "      padding: 0 0 0 0;\n",
              "      width: 32px;\n",
              "    }\n",
              "\n",
              "    .colab-df-convert:hover {\n",
              "      background-color: #E2EBFA;\n",
              "      box-shadow: 0px 1px 2px rgba(60, 64, 67, 0.3), 0px 1px 3px 1px rgba(60, 64, 67, 0.15);\n",
              "      fill: #174EA6;\n",
              "    }\n",
              "\n",
              "    [theme=dark] .colab-df-convert {\n",
              "      background-color: #3B4455;\n",
              "      fill: #D2E3FC;\n",
              "    }\n",
              "\n",
              "    [theme=dark] .colab-df-convert:hover {\n",
              "      background-color: #434B5C;\n",
              "      box-shadow: 0px 1px 3px 1px rgba(0, 0, 0, 0.15);\n",
              "      filter: drop-shadow(0px 1px 2px rgba(0, 0, 0, 0.3));\n",
              "      fill: #FFFFFF;\n",
              "    }\n",
              "  </style>\n",
              "\n",
              "      <script>\n",
              "        const buttonEl =\n",
              "          document.querySelector('#df-14a220e0-8357-48e4-8421-ce8fdaade7e6 button.colab-df-convert');\n",
              "        buttonEl.style.display =\n",
              "          google.colab.kernel.accessAllowed ? 'block' : 'none';\n",
              "\n",
              "        async function convertToInteractive(key) {\n",
              "          const element = document.querySelector('#df-14a220e0-8357-48e4-8421-ce8fdaade7e6');\n",
              "          const dataTable =\n",
              "            await google.colab.kernel.invokeFunction('convertToInteractive',\n",
              "                                                     [key], {});\n",
              "          if (!dataTable) return;\n",
              "\n",
              "          const docLinkHtml = 'Like what you see? Visit the ' +\n",
              "            '<a target=\"_blank\" href=https://colab.research.google.com/notebooks/data_table.ipynb>data table notebook</a>'\n",
              "            + ' to learn more about interactive tables.';\n",
              "          element.innerHTML = '';\n",
              "          dataTable['output_type'] = 'display_data';\n",
              "          await google.colab.output.renderOutput(dataTable, element);\n",
              "          const docLink = document.createElement('div');\n",
              "          docLink.innerHTML = docLinkHtml;\n",
              "          element.appendChild(docLink);\n",
              "        }\n",
              "      </script>\n",
              "    </div>\n",
              "  </div>\n",
              "  "
            ]
          },
          "metadata": {}
        },
        {
          "output_type": "display_data",
          "data": {
            "text/plain": [
              "   question_id  bundle_id  correct_answer  part            tags\n",
              "0            0          0               0     1   51 131 162 38\n",
              "1            1          1               1     1       131 36 81\n",
              "2            2          2               0     1  131 101 162 92\n",
              "3            3          3               0     1  131 149 162 29\n",
              "4            4          4               3     1    131 5 162 38"
            ],
            "text/html": [
              "\n",
              "  <div id=\"df-7f344e7d-8c05-46c8-87a9-0b2ae52a9c82\">\n",
              "    <div class=\"colab-df-container\">\n",
              "      <div>\n",
              "<style scoped>\n",
              "    .dataframe tbody tr th:only-of-type {\n",
              "        vertical-align: middle;\n",
              "    }\n",
              "\n",
              "    .dataframe tbody tr th {\n",
              "        vertical-align: top;\n",
              "    }\n",
              "\n",
              "    .dataframe thead th {\n",
              "        text-align: right;\n",
              "    }\n",
              "</style>\n",
              "<table border=\"1\" class=\"dataframe\">\n",
              "  <thead>\n",
              "    <tr style=\"text-align: right;\">\n",
              "      <th></th>\n",
              "      <th>question_id</th>\n",
              "      <th>bundle_id</th>\n",
              "      <th>correct_answer</th>\n",
              "      <th>part</th>\n",
              "      <th>tags</th>\n",
              "    </tr>\n",
              "  </thead>\n",
              "  <tbody>\n",
              "    <tr>\n",
              "      <th>0</th>\n",
              "      <td>0</td>\n",
              "      <td>0</td>\n",
              "      <td>0</td>\n",
              "      <td>1</td>\n",
              "      <td>51 131 162 38</td>\n",
              "    </tr>\n",
              "    <tr>\n",
              "      <th>1</th>\n",
              "      <td>1</td>\n",
              "      <td>1</td>\n",
              "      <td>1</td>\n",
              "      <td>1</td>\n",
              "      <td>131 36 81</td>\n",
              "    </tr>\n",
              "    <tr>\n",
              "      <th>2</th>\n",
              "      <td>2</td>\n",
              "      <td>2</td>\n",
              "      <td>0</td>\n",
              "      <td>1</td>\n",
              "      <td>131 101 162 92</td>\n",
              "    </tr>\n",
              "    <tr>\n",
              "      <th>3</th>\n",
              "      <td>3</td>\n",
              "      <td>3</td>\n",
              "      <td>0</td>\n",
              "      <td>1</td>\n",
              "      <td>131 149 162 29</td>\n",
              "    </tr>\n",
              "    <tr>\n",
              "      <th>4</th>\n",
              "      <td>4</td>\n",
              "      <td>4</td>\n",
              "      <td>3</td>\n",
              "      <td>1</td>\n",
              "      <td>131 5 162 38</td>\n",
              "    </tr>\n",
              "  </tbody>\n",
              "</table>\n",
              "</div>\n",
              "      <button class=\"colab-df-convert\" onclick=\"convertToInteractive('df-7f344e7d-8c05-46c8-87a9-0b2ae52a9c82')\"\n",
              "              title=\"Convert this dataframe to an interactive table.\"\n",
              "              style=\"display:none;\">\n",
              "        \n",
              "  <svg xmlns=\"http://www.w3.org/2000/svg\" height=\"24px\"viewBox=\"0 0 24 24\"\n",
              "       width=\"24px\">\n",
              "    <path d=\"M0 0h24v24H0V0z\" fill=\"none\"/>\n",
              "    <path d=\"M18.56 5.44l.94 2.06.94-2.06 2.06-.94-2.06-.94-.94-2.06-.94 2.06-2.06.94zm-11 1L8.5 8.5l.94-2.06 2.06-.94-2.06-.94L8.5 2.5l-.94 2.06-2.06.94zm10 10l.94 2.06.94-2.06 2.06-.94-2.06-.94-.94-2.06-.94 2.06-2.06.94z\"/><path d=\"M17.41 7.96l-1.37-1.37c-.4-.4-.92-.59-1.43-.59-.52 0-1.04.2-1.43.59L10.3 9.45l-7.72 7.72c-.78.78-.78 2.05 0 2.83L4 21.41c.39.39.9.59 1.41.59.51 0 1.02-.2 1.41-.59l7.78-7.78 2.81-2.81c.8-.78.8-2.07 0-2.86zM5.41 20L4 18.59l7.72-7.72 1.47 1.35L5.41 20z\"/>\n",
              "  </svg>\n",
              "      </button>\n",
              "      \n",
              "  <style>\n",
              "    .colab-df-container {\n",
              "      display:flex;\n",
              "      flex-wrap:wrap;\n",
              "      gap: 12px;\n",
              "    }\n",
              "\n",
              "    .colab-df-convert {\n",
              "      background-color: #E8F0FE;\n",
              "      border: none;\n",
              "      border-radius: 50%;\n",
              "      cursor: pointer;\n",
              "      display: none;\n",
              "      fill: #1967D2;\n",
              "      height: 32px;\n",
              "      padding: 0 0 0 0;\n",
              "      width: 32px;\n",
              "    }\n",
              "\n",
              "    .colab-df-convert:hover {\n",
              "      background-color: #E2EBFA;\n",
              "      box-shadow: 0px 1px 2px rgba(60, 64, 67, 0.3), 0px 1px 3px 1px rgba(60, 64, 67, 0.15);\n",
              "      fill: #174EA6;\n",
              "    }\n",
              "\n",
              "    [theme=dark] .colab-df-convert {\n",
              "      background-color: #3B4455;\n",
              "      fill: #D2E3FC;\n",
              "    }\n",
              "\n",
              "    [theme=dark] .colab-df-convert:hover {\n",
              "      background-color: #434B5C;\n",
              "      box-shadow: 0px 1px 3px 1px rgba(0, 0, 0, 0.15);\n",
              "      filter: drop-shadow(0px 1px 2px rgba(0, 0, 0, 0.3));\n",
              "      fill: #FFFFFF;\n",
              "    }\n",
              "  </style>\n",
              "\n",
              "      <script>\n",
              "        const buttonEl =\n",
              "          document.querySelector('#df-7f344e7d-8c05-46c8-87a9-0b2ae52a9c82 button.colab-df-convert');\n",
              "        buttonEl.style.display =\n",
              "          google.colab.kernel.accessAllowed ? 'block' : 'none';\n",
              "\n",
              "        async function convertToInteractive(key) {\n",
              "          const element = document.querySelector('#df-7f344e7d-8c05-46c8-87a9-0b2ae52a9c82');\n",
              "          const dataTable =\n",
              "            await google.colab.kernel.invokeFunction('convertToInteractive',\n",
              "                                                     [key], {});\n",
              "          if (!dataTable) return;\n",
              "\n",
              "          const docLinkHtml = 'Like what you see? Visit the ' +\n",
              "            '<a target=\"_blank\" href=https://colab.research.google.com/notebooks/data_table.ipynb>data table notebook</a>'\n",
              "            + ' to learn more about interactive tables.';\n",
              "          element.innerHTML = '';\n",
              "          dataTable['output_type'] = 'display_data';\n",
              "          await google.colab.output.renderOutput(dataTable, element);\n",
              "          const docLink = document.createElement('div');\n",
              "          docLink.innerHTML = docLinkHtml;\n",
              "          element.appendChild(docLink);\n",
              "        }\n",
              "      </script>\n",
              "    </div>\n",
              "  </div>\n",
              "  "
            ]
          },
          "metadata": {}
        }
      ]
    },
    {
      "cell_type": "markdown",
      "source": [
        "Получим основную информацию из DF:"
      ],
      "metadata": {
        "id": "uuvAFhZBJb71"
      }
    },
    {
      "cell_type": "code",
      "source": [
        "display(train.info(),lectures.info(),questions.info())"
      ],
      "metadata": {
        "colab": {
          "base_uri": "https://localhost:8080/",
          "height": 763
        },
        "id": "BtYJ7htBJmnM",
        "outputId": "9b5936cd-6cbe-48ff-a6d1-262d3c855571"
      },
      "execution_count": 7,
      "outputs": [
        {
          "output_type": "stream",
          "name": "stdout",
          "text": [
            "<class 'pandas.core.frame.DataFrame'>\n",
            "RangeIndex: 20230332 entries, 0 to 20230331\n",
            "Data columns (total 10 columns):\n",
            " #   Column                          Dtype  \n",
            "---  ------                          -----  \n",
            " 0   row_id                          int64  \n",
            " 1   timestamp                       int64  \n",
            " 2   user_id                         int32  \n",
            " 3   content_id                      int16  \n",
            " 4   content_type_id                 boolean\n",
            " 5   task_container_id               int16  \n",
            " 6   user_answer                     int8   \n",
            " 7   answered_correctly              int8   \n",
            " 8   prior_question_elapsed_time     float32\n",
            " 9   prior_question_had_explanation  boolean\n",
            "dtypes: boolean(2), float32(1), int16(2), int32(1), int64(2), int8(2)\n",
            "memory usage: 656.0 MB\n",
            "<class 'pandas.core.frame.DataFrame'>\n",
            "RangeIndex: 418 entries, 0 to 417\n",
            "Data columns (total 4 columns):\n",
            " #   Column      Non-Null Count  Dtype \n",
            "---  ------      --------------  ----- \n",
            " 0   lecture_id  418 non-null    int64 \n",
            " 1   tag         418 non-null    int64 \n",
            " 2   part        418 non-null    int64 \n",
            " 3   type_of     418 non-null    object\n",
            "dtypes: int64(3), object(1)\n",
            "memory usage: 13.2+ KB\n",
            "<class 'pandas.core.frame.DataFrame'>\n",
            "RangeIndex: 13523 entries, 0 to 13522\n",
            "Data columns (total 5 columns):\n",
            " #   Column          Non-Null Count  Dtype \n",
            "---  ------          --------------  ----- \n",
            " 0   question_id     13523 non-null  int64 \n",
            " 1   bundle_id       13523 non-null  int64 \n",
            " 2   correct_answer  13523 non-null  int64 \n",
            " 3   part            13523 non-null  int64 \n",
            " 4   tags            13522 non-null  object\n",
            "dtypes: int64(4), object(1)\n",
            "memory usage: 528.4+ KB\n"
          ]
        },
        {
          "output_type": "display_data",
          "data": {
            "text/plain": [
              "None"
            ]
          },
          "metadata": {}
        },
        {
          "output_type": "display_data",
          "data": {
            "text/plain": [
              "None"
            ]
          },
          "metadata": {}
        },
        {
          "output_type": "display_data",
          "data": {
            "text/plain": [
              "None"
            ]
          },
          "metadata": {}
        }
      ]
    },
    {
      "cell_type": "markdown",
      "source": [
        "Определение типов переменных при чтении файла train.csv позволило уменьшить размер исходного файла.\n",
        "\n",
        "Перейдем непосредственно к анализу наших данных.\n",
        "\n",
        "Сколько значений пропущено?"
      ],
      "metadata": {
        "id": "E_vQwNZWPRBN"
      }
    },
    {
      "cell_type": "code",
      "source": [
        "print('Доля пропущенных значений в столбцах train:')\n",
        "print(train.isnull().sum() / len(train))\n",
        "print('Доля пропущенных значений в столбцах questions:')\n",
        "print(questions.isnull().sum() / len(questions))\n",
        "print('Доля пропущенных значений в столбцах lectures:')\n",
        "print(lectures.isnull().sum() / len(lectures))"
      ],
      "metadata": {
        "colab": {
          "base_uri": "https://localhost:8080/"
        },
        "id": "XyTwAppKcuzy",
        "outputId": "39248e97-7c94-4271-c7b9-479582c366ac"
      },
      "execution_count": 8,
      "outputs": [
        {
          "output_type": "stream",
          "name": "stdout",
          "text": [
            "Доля пропущенных значений в столбцах train:\n",
            "row_id                            0.000000\n",
            "timestamp                         0.000000\n",
            "user_id                           0.000000\n",
            "content_id                        0.000000\n",
            "content_type_id                   0.000000\n",
            "task_container_id                 0.000000\n",
            "user_answer                       0.000000\n",
            "answered_correctly                0.000000\n",
            "prior_question_elapsed_time       0.023387\n",
            "prior_question_had_explanation    0.003903\n",
            "dtype: float64\n",
            "Доля пропущенных значений в столбцах questions:\n",
            "question_id       0.000000\n",
            "bundle_id         0.000000\n",
            "correct_answer    0.000000\n",
            "part              0.000000\n",
            "tags              0.000074\n",
            "dtype: float64\n",
            "Доля пропущенных значений в столбцах lectures:\n",
            "lecture_id    0.0\n",
            "tag           0.0\n",
            "part          0.0\n",
            "type_of       0.0\n",
            "dtype: float64\n"
          ]
        }
      ]
    },
    {
      "cell_type": "markdown",
      "source": [
        "Сколько у нас пользователей?"
      ],
      "metadata": {
        "id": "Uosr2yuqczCZ"
      }
    },
    {
      "cell_type": "code",
      "source": [
        "print(train['user_id'].nunique())"
      ],
      "metadata": {
        "colab": {
          "base_uri": "https://localhost:8080/"
        },
        "id": "gWom5gT8P3l0",
        "outputId": "b6af07b7-faf6-42ec-bbb7-e0fd30861e31"
      },
      "execution_count": 11,
      "outputs": [
        {
          "output_type": "stream",
          "name": "stdout",
          "text": [
            "79175\n"
          ]
        }
      ]
    },
    {
      "cell_type": "markdown",
      "source": [
        "Сколько всего вопросов?"
      ],
      "metadata": {
        "id": "pI5PriR6WAl0"
      }
    },
    {
      "cell_type": "code",
      "source": [
        "print(questions['question_id'].nunique())"
      ],
      "metadata": {
        "colab": {
          "base_uri": "https://localhost:8080/"
        },
        "id": "k4S1rJdWWG46",
        "outputId": "99c6a64c-fd0e-4df3-ecb8-1ba989f44d04"
      },
      "execution_count": 10,
      "outputs": [
        {
          "output_type": "stream",
          "name": "stdout",
          "text": [
            "13523\n"
          ]
        }
      ]
    },
    {
      "cell_type": "markdown",
      "source": [
        "Сколько всего лекций?"
      ],
      "metadata": {
        "id": "gW25UUeePip5"
      }
    },
    {
      "cell_type": "code",
      "source": [
        "print(lectures['lecture_id'].nunique())\n",
        "print((questions['question_id'].nunique())//(lectures['lecture_id'].nunique()))"
      ],
      "metadata": {
        "colab": {
          "base_uri": "https://localhost:8080/"
        },
        "id": "48QIzC5rPhzi",
        "outputId": "2bc4e19e-cb23-4a0c-fc20-47e7e8683b58"
      },
      "execution_count": 9,
      "outputs": [
        {
          "output_type": "stream",
          "name": "stdout",
          "text": [
            "418\n",
            "32\n"
          ]
        }
      ]
    },
    {
      "cell_type": "markdown",
      "source": [
        "Таким образом, количество вопросов в 32 раза превышает количество лекций.\n",
        "\n",
        "Сколько правильных ответов дано?"
      ],
      "metadata": {
        "id": "Kgs5fWkkXdz3"
      }
    },
    {
      "cell_type": "code",
      "source": [
        "train[train['answered_correctly'] == 1]['answered_correctly'].value_counts()[1]"
      ],
      "metadata": {
        "colab": {
          "base_uri": "https://localhost:8080/"
        },
        "id": "RVPsc4vNX4T6",
        "outputId": "a42ef5d6-0fdd-4422-bf45-a6700198f3df"
      },
      "execution_count": 12,
      "outputs": [
        {
          "output_type": "execute_result",
          "data": {
            "text/plain": [
              "13047450"
            ]
          },
          "metadata": {},
          "execution_count": 12
        }
      ]
    },
    {
      "cell_type": "markdown",
      "source": [
        "Среднее, минимальное, максимальное, медианное количества вопросов у пользователей:"
      ],
      "metadata": {
        "id": "GZ9rIwXRQsU-"
      }
    },
    {
      "cell_type": "code",
      "source": [
        "temp = train[train['content_type_id'] == 0].groupby(\"user_id\")['content_id'].count()\n",
        "print( \" Mean:\", temp.mean() )\n",
        "print( \" Median:\",temp.median() )\n",
        "print( \" Min:\", temp.min() )\n",
        "print( \" Max:\", temp.max() )"
      ],
      "metadata": {
        "colab": {
          "base_uri": "https://localhost:8080/"
        },
        "id": "61_woT26Q4k8",
        "outputId": "5f88bcbf-542a-4c26-d471-3a0f29ad68e1"
      },
      "execution_count": 13,
      "outputs": [
        {
          "output_type": "stream",
          "name": "stdout",
          "text": [
            " Mean: 250.53573729081148\n",
            " Median: 40.0\n",
            " Min: 1\n",
            " Max: 15859\n"
          ]
        }
      ]
    },
    {
      "cell_type": "markdown",
      "source": [
        "Таким образом, у нас есть как очень активные пользователи, так и пользователи с низким уровнем активности.\n",
        "\n",
        "Среднее, минимальное, максимальное, медианное количества лекций у пользователей:"
      ],
      "metadata": {
        "id": "T5D3JUdSSFNX"
      }
    },
    {
      "cell_type": "code",
      "source": [
        "temp = train[train['content_type_id'] == 1].groupby(\"user_id\")['content_id'].count()\n",
        "print( \" Mean:\", temp.mean() )\n",
        "print( \" Median:\",temp.median() )\n",
        "print( \" Min:\", temp.min() )\n",
        "print( \" Max:\", temp.max() )"
      ],
      "metadata": {
        "colab": {
          "base_uri": "https://localhost:8080/"
        },
        "id": "IND545EuSOU8",
        "outputId": "fd38a65f-9f7c-4cb1-de66-d5d038e4281a"
      },
      "execution_count": 14,
      "outputs": [
        {
          "output_type": "stream",
          "name": "stdout",
          "text": [
            " Mean: 13.089529439112676\n",
            " Median: 4.0\n",
            " Min: 1\n",
            " Max: 397\n"
          ]
        }
      ]
    },
    {
      "cell_type": "markdown",
      "source": [
        "Мы наблюдаем крайне низкие показатели просмотров лекций. Стоит проверить гипотезу о том, влияет ли данный фактор на корректность ответов.\n",
        "\n",
        "Создадим собственный рейтинг студентов, основанный на производительности (количество правильных ответов+среднее затраченное время):"
      ],
      "metadata": {
        "id": "1zgET91dSbaZ"
      }
    },
    {
      "cell_type": "code",
      "source": [
        "user_grouped_df = train[train['content_type_id']==0].groupby(\"user_id\")\n",
        "user_info = user_grouped_df.agg({\"answered_correctly\":[\"sum\", \"count\"],\"prior_question_elapsed_time\": 'median' })\n",
        "user_info.columns=['total_correct_ans', 'total_q_attempted', 'prior_question_elapsed_time']\n",
        "user_info['performance'] = user_info['total_correct_ans'] / user_info['total_q_attempted']"
      ],
      "metadata": {
        "id": "h0R5T7KmVfSj"
      },
      "execution_count": null,
      "outputs": []
    },
    {
      "cell_type": "markdown",
      "source": [
        "Добавим счетчик лекций:"
      ],
      "metadata": {
        "id": "GOww9lprXmxV"
      }
    },
    {
      "cell_type": "code",
      "source": [
        "user_lectures = train[train['content_type_id']==1].groupby(\"user_id\")['content_id'].count()\n",
        "user_info = user_info.join(user_lectures)\n",
        "user_info = user_info.rename (columns = { \"content_id\": \"lecture_count\" } )\n",
        "user_info['lecture_count'] = user_info['lecture_count'].fillna(0).astype(int)"
      ],
      "metadata": {
        "id": "MHefUMo5VqFf"
      },
      "execution_count": null,
      "outputs": []
    },
    {
      "cell_type": "markdown",
      "source": [
        "Введем понятие средневзвешенной производительности:"
      ],
      "metadata": {
        "id": "ElFXnurTXsEI"
      }
    },
    {
      "cell_type": "code",
      "source": [
        "correct_answers_max = user_info['total_correct_ans'].max()\n",
        "user_info['weighted_performance'] = user_info['performance']*0.5 +  (user_info['total_correct_ans']/correct_answers_max)*0.5\n",
        "user_info"
      ],
      "metadata": {
        "colab": {
          "base_uri": "https://localhost:8080/",
          "height": 455
        },
        "id": "og5Ho0dNVyPU",
        "outputId": "52645d0b-5400-4d5b-f7ef-fa63b19519cf"
      },
      "execution_count": null,
      "outputs": [
        {
          "output_type": "execute_result",
          "data": {
            "text/plain": [
              "           total_correct_ans  total_q_attempted  prior_question_elapsed_time  \\\n",
              "user_id                                                                        \n",
              "115                     32.0                 46                      20000.0   \n",
              "124                      7.0                 30                      21000.0   \n",
              "2746                    11.0                 19                      17500.0   \n",
              "5382                    84.0                125                      25000.0   \n",
              "8623                    70.0                109                      20000.0   \n",
              "...                      ...                ...                          ...   \n",
              "434229743               75.0                116                      27000.0   \n",
              "434234189               16.0                 30                      30666.0   \n",
              "434235103                4.0                 12                      28000.0   \n",
              "434237616               44.0                 62                      17000.0   \n",
              "434238841             1616.0               2080                      23000.0   \n",
              "\n",
              "           performance  lecture_count  weighted_performance  \n",
              "user_id                                                      \n",
              "115           0.695652              0              0.349019  \n",
              "124           0.233333              0              0.116928  \n",
              "2746          0.578947              1              0.289884  \n",
              "5382          0.672000              3              0.339131  \n",
              "8623          0.642202              3              0.323710  \n",
              "...                ...            ...                   ...  \n",
              "434229743     0.646552              1              0.326071  \n",
              "434234189     0.533333              0              0.267263  \n",
              "434235103     0.333333              0              0.166816  \n",
              "434237616     0.709677              2              0.356479  \n",
              "434238841     0.776923             30              0.448688  \n",
              "\n",
              "[79175 rows x 6 columns]"
            ],
            "text/html": [
              "\n",
              "  <div id=\"df-172827b6-d8e9-443e-a7d1-ede67a814a8a\">\n",
              "    <div class=\"colab-df-container\">\n",
              "      <div>\n",
              "<style scoped>\n",
              "    .dataframe tbody tr th:only-of-type {\n",
              "        vertical-align: middle;\n",
              "    }\n",
              "\n",
              "    .dataframe tbody tr th {\n",
              "        vertical-align: top;\n",
              "    }\n",
              "\n",
              "    .dataframe thead th {\n",
              "        text-align: right;\n",
              "    }\n",
              "</style>\n",
              "<table border=\"1\" class=\"dataframe\">\n",
              "  <thead>\n",
              "    <tr style=\"text-align: right;\">\n",
              "      <th></th>\n",
              "      <th>total_correct_ans</th>\n",
              "      <th>total_q_attempted</th>\n",
              "      <th>prior_question_elapsed_time</th>\n",
              "      <th>performance</th>\n",
              "      <th>lecture_count</th>\n",
              "      <th>weighted_performance</th>\n",
              "    </tr>\n",
              "    <tr>\n",
              "      <th>user_id</th>\n",
              "      <th></th>\n",
              "      <th></th>\n",
              "      <th></th>\n",
              "      <th></th>\n",
              "      <th></th>\n",
              "      <th></th>\n",
              "    </tr>\n",
              "  </thead>\n",
              "  <tbody>\n",
              "    <tr>\n",
              "      <th>115</th>\n",
              "      <td>32.0</td>\n",
              "      <td>46</td>\n",
              "      <td>20000.0</td>\n",
              "      <td>0.695652</td>\n",
              "      <td>0</td>\n",
              "      <td>0.349019</td>\n",
              "    </tr>\n",
              "    <tr>\n",
              "      <th>124</th>\n",
              "      <td>7.0</td>\n",
              "      <td>30</td>\n",
              "      <td>21000.0</td>\n",
              "      <td>0.233333</td>\n",
              "      <td>0</td>\n",
              "      <td>0.116928</td>\n",
              "    </tr>\n",
              "    <tr>\n",
              "      <th>2746</th>\n",
              "      <td>11.0</td>\n",
              "      <td>19</td>\n",
              "      <td>17500.0</td>\n",
              "      <td>0.578947</td>\n",
              "      <td>1</td>\n",
              "      <td>0.289884</td>\n",
              "    </tr>\n",
              "    <tr>\n",
              "      <th>5382</th>\n",
              "      <td>84.0</td>\n",
              "      <td>125</td>\n",
              "      <td>25000.0</td>\n",
              "      <td>0.672000</td>\n",
              "      <td>3</td>\n",
              "      <td>0.339131</td>\n",
              "    </tr>\n",
              "    <tr>\n",
              "      <th>8623</th>\n",
              "      <td>70.0</td>\n",
              "      <td>109</td>\n",
              "      <td>20000.0</td>\n",
              "      <td>0.642202</td>\n",
              "      <td>3</td>\n",
              "      <td>0.323710</td>\n",
              "    </tr>\n",
              "    <tr>\n",
              "      <th>...</th>\n",
              "      <td>...</td>\n",
              "      <td>...</td>\n",
              "      <td>...</td>\n",
              "      <td>...</td>\n",
              "      <td>...</td>\n",
              "      <td>...</td>\n",
              "    </tr>\n",
              "    <tr>\n",
              "      <th>434229743</th>\n",
              "      <td>75.0</td>\n",
              "      <td>116</td>\n",
              "      <td>27000.0</td>\n",
              "      <td>0.646552</td>\n",
              "      <td>1</td>\n",
              "      <td>0.326071</td>\n",
              "    </tr>\n",
              "    <tr>\n",
              "      <th>434234189</th>\n",
              "      <td>16.0</td>\n",
              "      <td>30</td>\n",
              "      <td>30666.0</td>\n",
              "      <td>0.533333</td>\n",
              "      <td>0</td>\n",
              "      <td>0.267263</td>\n",
              "    </tr>\n",
              "    <tr>\n",
              "      <th>434235103</th>\n",
              "      <td>4.0</td>\n",
              "      <td>12</td>\n",
              "      <td>28000.0</td>\n",
              "      <td>0.333333</td>\n",
              "      <td>0</td>\n",
              "      <td>0.166816</td>\n",
              "    </tr>\n",
              "    <tr>\n",
              "      <th>434237616</th>\n",
              "      <td>44.0</td>\n",
              "      <td>62</td>\n",
              "      <td>17000.0</td>\n",
              "      <td>0.709677</td>\n",
              "      <td>2</td>\n",
              "      <td>0.356479</td>\n",
              "    </tr>\n",
              "    <tr>\n",
              "      <th>434238841</th>\n",
              "      <td>1616.0</td>\n",
              "      <td>2080</td>\n",
              "      <td>23000.0</td>\n",
              "      <td>0.776923</td>\n",
              "      <td>30</td>\n",
              "      <td>0.448688</td>\n",
              "    </tr>\n",
              "  </tbody>\n",
              "</table>\n",
              "<p>79175 rows × 6 columns</p>\n",
              "</div>\n",
              "      <button class=\"colab-df-convert\" onclick=\"convertToInteractive('df-172827b6-d8e9-443e-a7d1-ede67a814a8a')\"\n",
              "              title=\"Convert this dataframe to an interactive table.\"\n",
              "              style=\"display:none;\">\n",
              "        \n",
              "  <svg xmlns=\"http://www.w3.org/2000/svg\" height=\"24px\"viewBox=\"0 0 24 24\"\n",
              "       width=\"24px\">\n",
              "    <path d=\"M0 0h24v24H0V0z\" fill=\"none\"/>\n",
              "    <path d=\"M18.56 5.44l.94 2.06.94-2.06 2.06-.94-2.06-.94-.94-2.06-.94 2.06-2.06.94zm-11 1L8.5 8.5l.94-2.06 2.06-.94-2.06-.94L8.5 2.5l-.94 2.06-2.06.94zm10 10l.94 2.06.94-2.06 2.06-.94-2.06-.94-.94-2.06-.94 2.06-2.06.94z\"/><path d=\"M17.41 7.96l-1.37-1.37c-.4-.4-.92-.59-1.43-.59-.52 0-1.04.2-1.43.59L10.3 9.45l-7.72 7.72c-.78.78-.78 2.05 0 2.83L4 21.41c.39.39.9.59 1.41.59.51 0 1.02-.2 1.41-.59l7.78-7.78 2.81-2.81c.8-.78.8-2.07 0-2.86zM5.41 20L4 18.59l7.72-7.72 1.47 1.35L5.41 20z\"/>\n",
              "  </svg>\n",
              "      </button>\n",
              "      \n",
              "  <style>\n",
              "    .colab-df-container {\n",
              "      display:flex;\n",
              "      flex-wrap:wrap;\n",
              "      gap: 12px;\n",
              "    }\n",
              "\n",
              "    .colab-df-convert {\n",
              "      background-color: #E8F0FE;\n",
              "      border: none;\n",
              "      border-radius: 50%;\n",
              "      cursor: pointer;\n",
              "      display: none;\n",
              "      fill: #1967D2;\n",
              "      height: 32px;\n",
              "      padding: 0 0 0 0;\n",
              "      width: 32px;\n",
              "    }\n",
              "\n",
              "    .colab-df-convert:hover {\n",
              "      background-color: #E2EBFA;\n",
              "      box-shadow: 0px 1px 2px rgba(60, 64, 67, 0.3), 0px 1px 3px 1px rgba(60, 64, 67, 0.15);\n",
              "      fill: #174EA6;\n",
              "    }\n",
              "\n",
              "    [theme=dark] .colab-df-convert {\n",
              "      background-color: #3B4455;\n",
              "      fill: #D2E3FC;\n",
              "    }\n",
              "\n",
              "    [theme=dark] .colab-df-convert:hover {\n",
              "      background-color: #434B5C;\n",
              "      box-shadow: 0px 1px 3px 1px rgba(0, 0, 0, 0.15);\n",
              "      filter: drop-shadow(0px 1px 2px rgba(0, 0, 0, 0.3));\n",
              "      fill: #FFFFFF;\n",
              "    }\n",
              "  </style>\n",
              "\n",
              "      <script>\n",
              "        const buttonEl =\n",
              "          document.querySelector('#df-172827b6-d8e9-443e-a7d1-ede67a814a8a button.colab-df-convert');\n",
              "        buttonEl.style.display =\n",
              "          google.colab.kernel.accessAllowed ? 'block' : 'none';\n",
              "\n",
              "        async function convertToInteractive(key) {\n",
              "          const element = document.querySelector('#df-172827b6-d8e9-443e-a7d1-ede67a814a8a');\n",
              "          const dataTable =\n",
              "            await google.colab.kernel.invokeFunction('convertToInteractive',\n",
              "                                                     [key], {});\n",
              "          if (!dataTable) return;\n",
              "\n",
              "          const docLinkHtml = 'Like what you see? Visit the ' +\n",
              "            '<a target=\"_blank\" href=https://colab.research.google.com/notebooks/data_table.ipynb>data table notebook</a>'\n",
              "            + ' to learn more about interactive tables.';\n",
              "          element.innerHTML = '';\n",
              "          dataTable['output_type'] = 'display_data';\n",
              "          await google.colab.output.renderOutput(dataTable, element);\n",
              "          const docLink = document.createElement('div');\n",
              "          docLink.innerHTML = docLinkHtml;\n",
              "          element.appendChild(docLink);\n",
              "        }\n",
              "      </script>\n",
              "    </div>\n",
              "  </div>\n",
              "  "
            ]
          },
          "metadata": {},
          "execution_count": 58
        }
      ]
    },
    {
      "cell_type": "markdown",
      "source": [
        "Избавимся от данных с околонулевыми значениями:"
      ],
      "metadata": {
        "id": "q4dmTvdTYMu0"
      }
    },
    {
      "cell_type": "code",
      "source": [
        "user_info = user_info[user_info['total_q_attempted'] > 10 ]\n",
        "user_info = user_info[user_info['performance'] != 0.0 ]\n",
        "user_info"
      ],
      "metadata": {
        "colab": {
          "base_uri": "https://localhost:8080/",
          "height": 455
        },
        "id": "iWGeHxPEWLf1",
        "outputId": "a8a93a75-aa16-490a-9503-e1b4ae8edef6"
      },
      "execution_count": null,
      "outputs": [
        {
          "output_type": "execute_result",
          "data": {
            "text/plain": [
              "           total_correct_ans  total_q_attempted  prior_question_elapsed_time  \\\n",
              "user_id                                                                        \n",
              "115                     32.0                 46                      20000.0   \n",
              "124                      7.0                 30                      21000.0   \n",
              "2746                    11.0                 19                      17500.0   \n",
              "5382                    84.0                125                      25000.0   \n",
              "8623                    70.0                109                      20000.0   \n",
              "...                      ...                ...                          ...   \n",
              "434229743               75.0                116                      27000.0   \n",
              "434234189               16.0                 30                      30666.0   \n",
              "434235103                4.0                 12                      28000.0   \n",
              "434237616               44.0                 62                      17000.0   \n",
              "434238841             1616.0               2080                      23000.0   \n",
              "\n",
              "           performance  lecture_count  weighted_performance  \n",
              "user_id                                                      \n",
              "115           0.695652              0              0.349019  \n",
              "124           0.233333              0              0.116928  \n",
              "2746          0.578947              1              0.289884  \n",
              "5382          0.672000              3              0.339131  \n",
              "8623          0.642202              3              0.323710  \n",
              "...                ...            ...                   ...  \n",
              "434229743     0.646552              1              0.326071  \n",
              "434234189     0.533333              0              0.267263  \n",
              "434235103     0.333333              0              0.166816  \n",
              "434237616     0.709677              2              0.356479  \n",
              "434238841     0.776923             30              0.448688  \n",
              "\n",
              "[78563 rows x 6 columns]"
            ],
            "text/html": [
              "\n",
              "  <div id=\"df-3b05c338-9326-4f05-b153-8faba4151fdb\">\n",
              "    <div class=\"colab-df-container\">\n",
              "      <div>\n",
              "<style scoped>\n",
              "    .dataframe tbody tr th:only-of-type {\n",
              "        vertical-align: middle;\n",
              "    }\n",
              "\n",
              "    .dataframe tbody tr th {\n",
              "        vertical-align: top;\n",
              "    }\n",
              "\n",
              "    .dataframe thead th {\n",
              "        text-align: right;\n",
              "    }\n",
              "</style>\n",
              "<table border=\"1\" class=\"dataframe\">\n",
              "  <thead>\n",
              "    <tr style=\"text-align: right;\">\n",
              "      <th></th>\n",
              "      <th>total_correct_ans</th>\n",
              "      <th>total_q_attempted</th>\n",
              "      <th>prior_question_elapsed_time</th>\n",
              "      <th>performance</th>\n",
              "      <th>lecture_count</th>\n",
              "      <th>weighted_performance</th>\n",
              "    </tr>\n",
              "    <tr>\n",
              "      <th>user_id</th>\n",
              "      <th></th>\n",
              "      <th></th>\n",
              "      <th></th>\n",
              "      <th></th>\n",
              "      <th></th>\n",
              "      <th></th>\n",
              "    </tr>\n",
              "  </thead>\n",
              "  <tbody>\n",
              "    <tr>\n",
              "      <th>115</th>\n",
              "      <td>32.0</td>\n",
              "      <td>46</td>\n",
              "      <td>20000.0</td>\n",
              "      <td>0.695652</td>\n",
              "      <td>0</td>\n",
              "      <td>0.349019</td>\n",
              "    </tr>\n",
              "    <tr>\n",
              "      <th>124</th>\n",
              "      <td>7.0</td>\n",
              "      <td>30</td>\n",
              "      <td>21000.0</td>\n",
              "      <td>0.233333</td>\n",
              "      <td>0</td>\n",
              "      <td>0.116928</td>\n",
              "    </tr>\n",
              "    <tr>\n",
              "      <th>2746</th>\n",
              "      <td>11.0</td>\n",
              "      <td>19</td>\n",
              "      <td>17500.0</td>\n",
              "      <td>0.578947</td>\n",
              "      <td>1</td>\n",
              "      <td>0.289884</td>\n",
              "    </tr>\n",
              "    <tr>\n",
              "      <th>5382</th>\n",
              "      <td>84.0</td>\n",
              "      <td>125</td>\n",
              "      <td>25000.0</td>\n",
              "      <td>0.672000</td>\n",
              "      <td>3</td>\n",
              "      <td>0.339131</td>\n",
              "    </tr>\n",
              "    <tr>\n",
              "      <th>8623</th>\n",
              "      <td>70.0</td>\n",
              "      <td>109</td>\n",
              "      <td>20000.0</td>\n",
              "      <td>0.642202</td>\n",
              "      <td>3</td>\n",
              "      <td>0.323710</td>\n",
              "    </tr>\n",
              "    <tr>\n",
              "      <th>...</th>\n",
              "      <td>...</td>\n",
              "      <td>...</td>\n",
              "      <td>...</td>\n",
              "      <td>...</td>\n",
              "      <td>...</td>\n",
              "      <td>...</td>\n",
              "    </tr>\n",
              "    <tr>\n",
              "      <th>434229743</th>\n",
              "      <td>75.0</td>\n",
              "      <td>116</td>\n",
              "      <td>27000.0</td>\n",
              "      <td>0.646552</td>\n",
              "      <td>1</td>\n",
              "      <td>0.326071</td>\n",
              "    </tr>\n",
              "    <tr>\n",
              "      <th>434234189</th>\n",
              "      <td>16.0</td>\n",
              "      <td>30</td>\n",
              "      <td>30666.0</td>\n",
              "      <td>0.533333</td>\n",
              "      <td>0</td>\n",
              "      <td>0.267263</td>\n",
              "    </tr>\n",
              "    <tr>\n",
              "      <th>434235103</th>\n",
              "      <td>4.0</td>\n",
              "      <td>12</td>\n",
              "      <td>28000.0</td>\n",
              "      <td>0.333333</td>\n",
              "      <td>0</td>\n",
              "      <td>0.166816</td>\n",
              "    </tr>\n",
              "    <tr>\n",
              "      <th>434237616</th>\n",
              "      <td>44.0</td>\n",
              "      <td>62</td>\n",
              "      <td>17000.0</td>\n",
              "      <td>0.709677</td>\n",
              "      <td>2</td>\n",
              "      <td>0.356479</td>\n",
              "    </tr>\n",
              "    <tr>\n",
              "      <th>434238841</th>\n",
              "      <td>1616.0</td>\n",
              "      <td>2080</td>\n",
              "      <td>23000.0</td>\n",
              "      <td>0.776923</td>\n",
              "      <td>30</td>\n",
              "      <td>0.448688</td>\n",
              "    </tr>\n",
              "  </tbody>\n",
              "</table>\n",
              "<p>78563 rows × 6 columns</p>\n",
              "</div>\n",
              "      <button class=\"colab-df-convert\" onclick=\"convertToInteractive('df-3b05c338-9326-4f05-b153-8faba4151fdb')\"\n",
              "              title=\"Convert this dataframe to an interactive table.\"\n",
              "              style=\"display:none;\">\n",
              "        \n",
              "  <svg xmlns=\"http://www.w3.org/2000/svg\" height=\"24px\"viewBox=\"0 0 24 24\"\n",
              "       width=\"24px\">\n",
              "    <path d=\"M0 0h24v24H0V0z\" fill=\"none\"/>\n",
              "    <path d=\"M18.56 5.44l.94 2.06.94-2.06 2.06-.94-2.06-.94-.94-2.06-.94 2.06-2.06.94zm-11 1L8.5 8.5l.94-2.06 2.06-.94-2.06-.94L8.5 2.5l-.94 2.06-2.06.94zm10 10l.94 2.06.94-2.06 2.06-.94-2.06-.94-.94-2.06-.94 2.06-2.06.94z\"/><path d=\"M17.41 7.96l-1.37-1.37c-.4-.4-.92-.59-1.43-.59-.52 0-1.04.2-1.43.59L10.3 9.45l-7.72 7.72c-.78.78-.78 2.05 0 2.83L4 21.41c.39.39.9.59 1.41.59.51 0 1.02-.2 1.41-.59l7.78-7.78 2.81-2.81c.8-.78.8-2.07 0-2.86zM5.41 20L4 18.59l7.72-7.72 1.47 1.35L5.41 20z\"/>\n",
              "  </svg>\n",
              "      </button>\n",
              "      \n",
              "  <style>\n",
              "    .colab-df-container {\n",
              "      display:flex;\n",
              "      flex-wrap:wrap;\n",
              "      gap: 12px;\n",
              "    }\n",
              "\n",
              "    .colab-df-convert {\n",
              "      background-color: #E8F0FE;\n",
              "      border: none;\n",
              "      border-radius: 50%;\n",
              "      cursor: pointer;\n",
              "      display: none;\n",
              "      fill: #1967D2;\n",
              "      height: 32px;\n",
              "      padding: 0 0 0 0;\n",
              "      width: 32px;\n",
              "    }\n",
              "\n",
              "    .colab-df-convert:hover {\n",
              "      background-color: #E2EBFA;\n",
              "      box-shadow: 0px 1px 2px rgba(60, 64, 67, 0.3), 0px 1px 3px 1px rgba(60, 64, 67, 0.15);\n",
              "      fill: #174EA6;\n",
              "    }\n",
              "\n",
              "    [theme=dark] .colab-df-convert {\n",
              "      background-color: #3B4455;\n",
              "      fill: #D2E3FC;\n",
              "    }\n",
              "\n",
              "    [theme=dark] .colab-df-convert:hover {\n",
              "      background-color: #434B5C;\n",
              "      box-shadow: 0px 1px 3px 1px rgba(0, 0, 0, 0.15);\n",
              "      filter: drop-shadow(0px 1px 2px rgba(0, 0, 0, 0.3));\n",
              "      fill: #FFFFFF;\n",
              "    }\n",
              "  </style>\n",
              "\n",
              "      <script>\n",
              "        const buttonEl =\n",
              "          document.querySelector('#df-3b05c338-9326-4f05-b153-8faba4151fdb button.colab-df-convert');\n",
              "        buttonEl.style.display =\n",
              "          google.colab.kernel.accessAllowed ? 'block' : 'none';\n",
              "\n",
              "        async function convertToInteractive(key) {\n",
              "          const element = document.querySelector('#df-3b05c338-9326-4f05-b153-8faba4151fdb');\n",
              "          const dataTable =\n",
              "            await google.colab.kernel.invokeFunction('convertToInteractive',\n",
              "                                                     [key], {});\n",
              "          if (!dataTable) return;\n",
              "\n",
              "          const docLinkHtml = 'Like what you see? Visit the ' +\n",
              "            '<a target=\"_blank\" href=https://colab.research.google.com/notebooks/data_table.ipynb>data table notebook</a>'\n",
              "            + ' to learn more about interactive tables.';\n",
              "          element.innerHTML = '';\n",
              "          dataTable['output_type'] = 'display_data';\n",
              "          await google.colab.output.renderOutput(dataTable, element);\n",
              "          const docLink = document.createElement('div');\n",
              "          docLink.innerHTML = docLinkHtml;\n",
              "          element.appendChild(docLink);\n",
              "        }\n",
              "      </script>\n",
              "    </div>\n",
              "  </div>\n",
              "  "
            ]
          },
          "metadata": {},
          "execution_count": 59
        }
      ]
    },
    {
      "cell_type": "markdown",
      "source": [
        "Есть ли связь между просмотренными лекциями и правильностью ответов?"
      ],
      "metadata": {
        "id": "bEDW0LBRYd-M"
      }
    },
    {
      "cell_type": "code",
      "source": [
        "import numpy as np\n",
        "import matplotlib.pyplot as plt \n",
        "import seaborn as sns\n",
        "from scipy.stats import pearsonr, spearmanr\n",
        "import gc\n",
        "import pyarrow.parquet as pq\n",
        "import pyarrow as pa"
      ],
      "metadata": {
        "id": "kYvvQR0DZCI_"
      },
      "execution_count": null,
      "outputs": []
    },
    {
      "cell_type": "code",
      "source": [
        "ax = sns.scatterplot ( x=user_info['weighted_performance'], y=user_info['lecture_count'] )\n",
        "print ( pearsonr(user_info['weighted_performance'], user_info['lecture_count']) )\n",
        "print ( spearmanr(user_info['weighted_performance'], user_info['lecture_count'])) "
      ],
      "metadata": {
        "colab": {
          "base_uri": "https://localhost:8080/",
          "height": 315
        },
        "id": "6zLiMjZkY0DY",
        "outputId": "75a32174-3510-43c6-c3ac-f146e5ec8a79"
      },
      "execution_count": null,
      "outputs": [
        {
          "output_type": "stream",
          "name": "stdout",
          "text": [
            "(0.3483619528444939, 0.0)\n",
            "SpearmanrResult(correlation=0.413986448980238, pvalue=0.0)\n"
          ]
        },
        {
          "output_type": "display_data",
          "data": {
            "text/plain": [
              "<Figure size 432x288 with 1 Axes>"
            ],
            "image/png": "[encoded data removed]"
          },
          "metadata": {
            "needs_background": "light"
          }
        }
      ]
    },
    {
      "cell_type": "markdown",
      "source": [
        "Есть ли зависимость между производительностью и средним затраченным на вопросы временем?"
      ],
      "metadata": {
        "id": "jKbdZocnb02-"
      }
    },
    {
      "cell_type": "code",
      "source": [
        "ax = sns.scatterplot ( x=user_info['weighted_performance'], y=user_info['prior_question_elapsed_time']  )\n",
        "from scipy.stats import pearsonr, spearmanr\n",
        "print ( pearsonr(user_info['weighted_performance'], user_info['prior_question_elapsed_time']) )\n",
        "print (  spearmanr(user_info['weighted_performance'], user_info['prior_question_elapsed_time']) )"
      ],
      "metadata": {
        "colab": {
          "base_uri": "https://localhost:8080/",
          "height": 315
        },
        "id": "ctx51YFrb4xZ",
        "outputId": "6b760665-6764-435f-ec40-dc6487e84f4b"
      },
      "execution_count": null,
      "outputs": [
        {
          "output_type": "stream",
          "name": "stdout",
          "text": [
            "(-0.008249250290650812, 0.020767077207633204)\n",
            "SpearmanrResult(correlation=-0.06582789941315115, pvalue=3.55417925571988e-76)\n"
          ]
        },
        {
          "output_type": "display_data",
          "data": {
            "text/plain": [
              "<Figure size 432x288 with 1 Axes>"
            ],
            "image/png": "[encoded data removed]"
          },
          "metadata": {
            "needs_background": "light"
          }
        }
      ]
    },
    {
      "cell_type": "markdown",
      "source": [
        "Есть ли зависимость между производительностью и общим количеством попыток ответа?"
      ],
      "metadata": {
        "id": "vWKYPIQJb8yL"
      }
    },
    {
      "cell_type": "code",
      "source": [
        "ax = sns.scatterplot ( x=user_info['performance'], y=user_info['total_q_attempted']  )\n",
        "print ( pearsonr(user_info['performance'], user_info['total_q_attempted']) )\n",
        "print ( spearmanr(user_info['performance'], user_info['total_q_attempted'])) "
      ],
      "metadata": {
        "colab": {
          "base_uri": "https://localhost:8080/",
          "height": 314
        },
        "id": "qxJPpxpGcAVF",
        "outputId": "8b8fa190-e9d5-49d6-9dd1-81e050c9f4fb"
      },
      "execution_count": null,
      "outputs": [
        {
          "output_type": "stream",
          "name": "stdout",
          "text": [
            "(0.23683730807504982, 0.0)\n",
            "SpearmanrResult(correlation=0.43856069817006066, pvalue=0.0)\n"
          ]
        },
        {
          "output_type": "display_data",
          "data": {
            "text/plain": [
              "<Figure size 432x288 with 1 Axes>"
            ],
            "image/png": "[encoded data removed]"
          },
          "metadata": {
            "needs_background": "light"
          }
        }
      ]
    },
    {
      "cell_type": "markdown",
      "source": [
        "Наблюдаем хорошие корреляции между количеством просмотренных лекций, числом попыток и производительностью."
      ],
      "metadata": {
        "id": "XoC5mZEjZSnr"
      }
    },
    {
      "cell_type": "markdown",
      "source": [
        "Исследуем столбец timestamp:"
      ],
      "metadata": {
        "id": "6N0FyoQbxQKg"
      }
    },
    {
      "cell_type": "code",
      "source": [
        "import matplotlib.pyplot as plt"
      ],
      "metadata": {
        "id": "ilhjyq6wxWCr"
      },
      "execution_count": null,
      "outputs": []
    },
    {
      "cell_type": "code",
      "source": [
        "fig = plt.figure(figsize=(10,8))\n",
        "ax1 = fig.add_subplot(211)\n",
        "ax1.hist(train['timestamp'], bins = 40)\n",
        "ax1.set_ylabel('Frequency')\n",
        "ax1.set_xlabel(\"Timestamp\")\n",
        "plt.show()"
      ],
      "metadata": {
        "colab": {
          "base_uri": "https://localhost:8080/",
          "height": 271
        },
        "id": "su2vyzqE3Ci8",
        "outputId": "365a247a-7168-4071-92b5-ab65698fb0e3"
      },
      "execution_count": null,
      "outputs": [
        {
          "output_type": "display_data",
          "data": {
            "text/plain": [
              "<Figure size 720x576 with 1 Axes>"
            ],
            "image/png": "[encoded data removed]"
          },
          "metadata": {
            "needs_background": "light"
          }
        }
      ]
    },
    {
      "cell_type": "markdown",
      "source": [
        "На графике мы видим сильный перекос влево. Можем сделать вывод о том, что большинство пользователей сначала просматривали вопросы, а ответы на них давали позже."
      ],
      "metadata": {
        "id": "vNSbZ_ge3MTM"
      }
    },
    {
      "cell_type": "markdown",
      "source": [
        "Влияет ли тип вопроса TOEIC на количество правильных ответов?![2wqNAJ1.png](data:image/png;base64,iVBORw0KGgoAAAANSUhEUgAAA8cAAALRCAYAAAB299FoAAAgAElEQVR4nOydveskR5rn52+R1V4bCe3Jk9deo5kmPRkHssSO0ExDIk+ezGUNsTBoNEZ6bV3DgAwx7STytMct2jNmhjFEniHjoFkY5MUZVVkZ709ERmRVVsXnA1+k/uVLRDzx+q2MyvqVUkr96lf/wysAAAAAAACAFviVUphjAAAAAAAAaBvMMQAAAAAAADQP5hgAAAAAAACaB3MMAAAAAAAAzYM5BgAAAAAAgObBHAMAAAAAAEDzYI4BAAAAAACgea5sjt+oj957T72XqY/e7JCVKD+rt1+8UL/bnO4v6m9vvlAfP3+mnj7RyvLkqXr2/GP1xZsf1bua2a3EL397rT7uv1Q/3jojZ46WHwAAAAAAeFwwxxY/v/1CvXhakO5Pr9XHzxLK9fSF+uooru+Xv6nXHz875ev9L25vRo+WHwAAAAAAeHgwx5H8Zaf745fqg5yyPflIvTnAI+Qfv3h/zdMBzOjR8gMAAAAAAI/PAb5zXGhID5OXH9UX75vm99nHX6vvf1rc7y/q3Q9v1OcvnhrnPPn42x3KkcfRzOjR8gMAAAAAAI/PHZnjn9XbL3v1wdMnq7F8+oF68flr9bdf/Ff88rc36ov+A8/3fj9RX/9gPrJ981HkCW+CS343vjCuef+LkKV7p8YXT07fPX79vfrJ++T4nfrx9efqxQdP1RMr368DhTUM5UdvTluTP3munl3K/kQ9e/G5+vYn4yL1fvDJ9vvKLEJe/PfPDwAAAAAAQD3uwxy/+1797v2QaXpPvffkufP93XdvPlJPo9uan6iPtD3NZeb4nRpf6N8n/kR9vzUc775VnwjfWf7g8++dF3qZT1ufq+dPQte/r7788XJRmhndEP9d8wMAAAAAAFCZOzDH79Tr/knYmF0M2ifq7eWaH9Tnz1ZT9fn379Qv53v9oJu2916o8ewyy8zxW/XJk5zzQ/yovoyZUP3J9JemUzTMqKAnn7xdLkowo1viv2d+AAAAAAAA6nN8c/zD5+qZ9rT3xdfLzyD9on769neGmXqxOF3dZD3p1eufjRtqxvk99fwr/eDW7xy/Vr1uXDe6OHtr9rOPXqsfz0V69+Nr9ZHxRHk19qciW2b02Ufq9fnidz98aT65tb7HG/2O75b475kfAAAAAACAHTi8Of7xi2erUepfO1cbx5eLf/5KPbeePD59/rH64uu36oefY6+H3miOrSee28yxtTX7xej+FvK7Ub3Q0tGNvWlGP1Bf/mRe+v3vnm4yo5viv2N+AAAAAAAA9uDw5ji63dnWxUj9pL56HtsC/L7qv3jjeZHURnNsmdZt5thMW38KqyVkGuiQGbW2ODvHM8zotvjvlx8AAAAAAIA9eFBzrJJebPXeex8o86u7W7dVW7/fvOk7x2lpG/EImWOPobypOa6YHwAAAAAAgD24K3N8eXFTBu9+fKO++Fj/CSFLH3yp1h2/W82x9UT3yccq/9eLzZd6FT053skc58QfcwwAAAAAAPfE4c2x8d3UZ7/b/hNJSql3P/+g3n79uXrxVDfIH6k1ya3mOO93jt989FQ9+eCF+vyrt+qHd8ve7p/NreAl3zmuaEa3xh9zDAAAAAAA98ThzbF6+4l6oh1/8uJr7Q3OX6sX2tPWD85vffr5q+eaoftc/eAk+VHg+7BmXp5//U4p9Yt69875crKH79XvrG3czz5+rZnfX9S7H96oz188Nc7RTfDPXz83r9/6tuoSM7r8RvO7d6d8bYj/rvkBAAAAAADYgeObY+nlWj6T++6N+kgzbe//7lv109lZ/fLuB/X1i/V3e82twtZ3h3OfXv74pfpAyqeh963vPP+ovkj8nePnX5mvfy4xo3/70v+bxKe62BD/XfMDAAAAAABQnzswx+pkdp/GzJn9Yi2VZlQd02Z9pzfXHCul1E+j6qN5XZ6IvlBf/uB5Ip3wIrEPvvhB2VeWmFHzt4w9dbEh/rvmBwAAAAAAoDL3YY6VUkr9rN5+2asPnq5Pfd978lR90H+p3v4cuOSXv6nXn78wr3nviXr67Ln65OsflPeyd9+rL/sP1q3ET56qDz56rf6WVaZ36sc3X6iPnz8ztiS/9+Spevb8Y/XF60Da+vWvP1cvPnhq5uPF5+q1+/tTSqlCM6qU+un1J+r5M+2J+rPn6ou3elp58d8/PwAAAAAAAPU4gDkGAAAAAAAAuC2YYwAAAAAAAGgezDEAAAAAAAA0D+YYAAAAAAAAmgdzDAAAAAAAAM2DOQYAAAAAAIDmwRwDAAAAAABA82COAQAAAAAAoHkwxwAAAAAAANA8v7p1BgAAAAAAAABuDeYYAAAAAAAAmgdzDAAAAAAAAM2DOQYAAAAAAIDmwRwDAAAAAABA82COAQAAAAAAoHkwxwAAAAAAANA8mGMAAAAAAABoHswxAAAAAAAANA/mGAAAAAAAAJoHcwwAAAAAAADNgzkGAAAAAACA5sEcAwAAAAAAQPNgjgEAAAAAAKB5MMcAAAAAAADQPJhjAAAAAAAAaB7MMQAAAAAAADQP5hgAAAAAAACaB3MMAAAAAAAAzYM5BgAAAAAAgObBHAMAAAAAAEDzYI4BAAAAAACgeTDHAAAAAAAA0DyYYwAAAAAAAGgezDEAAAAAAAA0z6+UUup//e//gxBCCCGEEEIIPbxEc/x/f/5/CCGEEEIIIYTQwwpzjBBCCCGEEEKoeWGOEUIIIYQQQgg1L8wxQgghhBBCCKHmhTlGCCGEEEIIIdS8MMcIIYQQQgghhJoX5hghhBBCCCGEUPPCHCOEEEIIIYQQal6YY4QQQgghhBBCzQtzjBBCCCGEEEKoeWGOEUIIIYQQQgg1L8wxQgghhBBCCKHmhTlGCCGEEEIIIdS8MMcIIYQQQgghhJoX5hghhBBCCCGEUPPCHCOEEEIIIYQQal6YY4QQQgghhBBCzQtzjBBCCCGEEEKoeWGOEUIIIYQQQgg1L8wxQgghhBBCCKHmhTlGCCGEEEIIIdS8MMcIIYQQQgghhJoX5hghhBBCCCGEUPPa3xz/5x/Uh12nul//Qf2H95xv1W+7TnXdZ+pNxn3ffNqp3/65dkC25aU8vbOCMSqTGavrlvE//v03qut+o776z2vE83h68+mpbo22uvQJQ7XqY9/63affJWqJ26ffWsf+S331ay2W2cePrVv2Xzv2H/77f9Wvz7uYG26fVgs6RFuvpnP+d5rXqQfq7Tr1v8yfj1//bbd7pOsA5jhfXsNxd7KM8U4L99vG6lzGOzMj1fTnzy71asRf+3t9c7yfbtmWlrR9fcQ45jlHOn5kHWmsO+WlYju987nhSHXzCHq8eN6nyXq8emij3var/zbMMe0e6TqAOfZ8OuM8WVuOWU+ArEXu6Snlesxs5FoHN8yJ3uHtvKRcY+frM/UmZXB14uL/lCpeJl9MpFilpWM+IUqNg6nlnnFjqD9VTkkn55zfqN9++hsnnWhZL23PjWPWoGm1Yf3arKfpSxk//YPVxsxyhD/tzIyp3Rd+/Qf1H0X9LtafU7Sm/eGvf+MaW6e+rPJLx4U0T+3jD1Z/luKV0X+zx7od+69UT+drqz09vqu5Idw+pLTkeIXG8Hr1e/mAKPTBUnasPGNrYvtxx/7bz1Xl85Jbjt/+WVoHJN43KW92fUTq6Uj1UDQ33KreKqUrjmXr+Uus1xi7edzcb8VxTcuPkWd5nJLXTMy1m9o92l0HNMeBJ6rCIt37dMhouJ5rrXuEjUXsGs85v/6N/ERE6xyhAWR7mT5TbzI6fCidaBmdc2ytg/E6AMfqVkin9JzzMbms1ieIF3Oa86RxHSC/cj4g8OU/MjB6nzKH6ry0DeebY7mNSnWeEktrUafXhedvpzyFrzGOZ/S73Am7LDbX7r8p9VT5icpdzQ2+/p2eljxOhseEKvW79ANffWp9YVOsfv0H9R9i+zlSWw+1M6m/b0xXNMcl/TJUH1vq6YhjTky3qrca6cbvYT9YcD7Esj6o3N5vU8a1tD4l54G5tk67R9fQ8cxxwlY7Z/uD9xq7U2lPoJYO4ywYwsYieI3zZEr7ZCna2AWTlFImT9p2bNytIqEnaz4T636iHI5doF6jMUiItzaQnMqQd47/KWOsrHref+PEN0V6zN2n54GBMZTGxRzb9bXc087/hjacOQFl9buaW2cj5lifgH0fbgSPh8YrvT1siVel2Fyt/ybVk6/cBbqruSEjLXF88bW3wBhebXz2fFiZ1AbCsfKOrdnGJjx3XW+ukvK21zqgYF6V6iP49wPVQ/WvVVxz/VYp3VAaxjseTvf/7aefXdIwdp+V9NuUcc1XHjvNpDz4y8hci46o45ljr3kwO5fTiKNP1+xG6zNBkjmOXON9spj+hMX9JOqcdkqZErY5ih0+8GTUNHUpscupd7uOw9uJ9LycyplzjrUgTSqr26aytlNbdeLc24nLOph603HyLLXRDW14qzlO6ndyf86N7a7mOKk/J8SrUmyu139T6inQr7bqruYGV8G0UsaXSPuV2+O28dnemlkvVjn9PDT233CuEvO21zogJ685eUvpq0eoh1pzw7XrrUK6YtnPxz/99jxO/kZ99efzf//Tev9DUb9NGNdy4hjNQ8rYxlyLjqEDmmPtmkAHK5vUYwYgZCwSOuZGc+zEqTMX9dEyJWz5rdvh5e99ROvdW69SvG9jjvXvlaR/x9K3G0BToJ7c7xPF8hyaPCRzHKu7Pc2x3J+TdY1t1VedsDeMdXv234R6krakP+7c4KqmOQ6O4VXHZ/1vntiWLrJjdSOO/QeYq7LmpZrmOOGpmJi3RHN8tHoomRtuVW810k0ey5bvrn6mlnfZXL4TbX9lYmu/lca1mvOdOLYx1xbPq6iKjmmOLYlbhTdvCaxgjjduy7mcE/qua0qZImkHnw4UbRUpM8eOCYy8/KrOturQwiBWVu28y0uwUgetBHMc3DaU+eR4F3O85sHXhrf1O7k/J8s3OdV+IZenjbixSIhXpdjcrP960771k+MN8ao2NyTEp9K2amOcrFy/lw83/v0zawzNjVXeIlse+2/X1tPnpdrrAPm+6XlLM8dHrgd/2mHdqt6qpJtS9j9/pi4v0Dpf9+bTTn346Wfqw81j3E7meMt8x1y7qd2j6+h65tgj/fsUbgO05Q7e+kK5zhf7y4zFmmbeC7mSyhktU06s3AVn+ksGcjq853jwEz7P92Kyy+w7x50I0stqPfEItpG4kr9zHIrjVcxxSlvb2O/Edp4Rz8Ant7V/yik7FlvP2TTW7dR/E/Ky23eOPTre3CC0k0O8kCsh/0YMM8ZHaWyV6kYc+284VyXPS5nrAM+Y4K/7LU/FNj45PlI9lM4Nt6q3GukmjbfrWsH+mlZoS3B2v00a1+qtIZhrK7R7dBUdzxx7r4lMxLEOYnTKvcyxft1ybuK2aqmcYpl850ix8ne85NfTR+Pgy5eZHz2vH/77f4W3pOgTUKgexXP8E0GsrLEn+sH2GpF/S6VlkGPt5Erm2M6T9+csNvU7qZ2Xm2NngZN93JZ5vv+nPRLiVRybK/dfcTza8HWRrPHvyHODkH/PDhl/XfgVHcNr1a+dVqAfpMXKM7YKdRMf+6/c1iNljs5L0Xua44b7szShcSbddITzlmiOj1YPhXPDbeqtUrrieOvZVRZ5YdvmfiuOa7k7UyLzXbAPMNduWhOh3bS/OW5R2W/HfFCd45C+VSTlyVTlp1fo9vrPP6gPD91XKpvCe1Xt3zlGCKGYDj83oLpirkXHEOa4WIFtsiwi19gk/0Yw5rg9fat+e/gXUTBh/9+frTekIoTQrrqHuQHVr3PmWnR7YY5ryPcdlGRD+Ngyfo9PPB9zjI4oJmzzdzcPkB+EEEIPJuZadAxhjhFCCCGEEEIINS/MMUIIIYQQQgih5oU5RgghhBBCCCHUvDDHCCGEEEIIIYSaF+YYIYQQQgghhFDzwhwjhBBCCCGEEGpemGOEEEIIIYQQQs0Lc4wQQgghhBBCqHlhjhFCCCGEEEIINS/MMUIIIYQQQgih5oU5RgghhBBCCCHUvDDHCCGEEEIIIYSaF+YYIYQQQgghhFDzwhwjhBBCCCGEEGpemGOEEEIIIYQQQs0Lc4wQQgghhBBCqHlhjhFCCCGEEEIINS/MMUIIIYQQQgih5oU5RgghhBBCCCHUvDDHCCGEEEIIIYSaV5I5RgghhBBCCCGEHl2iOf7vf/6CEHpQxQYBAAAAAIBWwBwj1LgwxwAAAAAAmGOEmhfmGAAAAAAAc4xQ88IcAwAAAABgjhFqXphjAAAAAADMMULNC3MMAAAAAIA5Rqh5YY4BAAAAADDHCDUvzDEAAAAAAOYYoeaFOQYAAAAAwBwj1LwwxwAAAAAAmGOEmhfmGAAAAAAAc4xQ88IcAwAAAABgjhFqXphjAAAAAADMMULNC3MMAAAAAIA5Rqh5YY4BAAAAADDHCDUvzDEAAAAAAOYYoeaFOQYAAAAAwBwj1LwwxwAAAAAAmGOEmhfmGAAAAAAAc4xQ88IcAwAAAABgjhFqXphjAAAAAADMMULNC3MMAAAAAHAVc/xW/b7rVOfR7/9SZ3H/3avAvf7+J/Wy61T36u3NDQhCR1W5OZ7UEOjjw7ScM6ux71TXDWqK3So1xUG/9z1Qt/wxpkGrg35U887p1cSs16Vd7R8zAAAAAKVubI677qX649/LFvbfvfIb7eXvHeYYoaj2NMdd16txVqqmOVzMH+bYxTDGi+4kUPdZrwAAAPBIXM8cv/yT+qv298W8vvzmH6e//eVVxDj/Q/3x5elvv3/18nz8hfqXF9Yi8NVb7dxOvXz5EnOMkKBq5th6SrmYnX6clWEO51H1l37rmsV57I1+fbpeaffwG7/wdcpz/aAmJ9/L8V4Nw3Kvs7mfhoDp168b1GScp5ctsfzGMfu49CTVPp7y5NWMaT+OgZh48mHVtx1/x+QGyxaqV3/+4/WcUhdSnAEAAKBVDmKOA0+XL9eshnc99m/qX+2/Xczx2VgvhhtzjFBQ1zXH8Seb3iefl3PC5jh+nfJf2/cng+QYQf2cUc2hJ+Ox63LOueRRSkcwu2cz6H4oEKm5UNwyzXHoPmteYmVLN8eb6jk7zgAAANAqB91WvVzzSn33z1+UYY4toxvaVv3f//wFc4xQgq67rVozTMvTu8WUXJ7m6U9ll3uvf3O236ZcdzlnNVqXJ5A+Axvd22ubNk/ZtJicbpVR/q0mbTHHwxB9Mn/BF7flaWuOOfbm27ouoWzutmorzkntwxNnu0ylcQYAAICH5Ybm2GeM7XNtc+xegzlGqEz7mWPf1mOPsVlMymJiLGO6mNjlz46JSrnOe054W7X/4atdTtsc+7f/mk/OI+X3xjFju6+z9Vu4R1ZMIuY4mK5eXrlsojlOah9XiDMAAAA8LDfbVm1oeau0I8wxQntrr23VJhkm62jm2Pl+aok5Fr67600rZNYtnDKuT1G9D8Kvao7lstU1xzvGGQAAAB6WQ5jjv35zenHW5eVcF7OMOUZobx3GHB9mW7VpkkyT67tXzrZq+cVWRmRz3uC85MvzHW7v9Z64xbaaL/dwztm4TdnOW91t1TvGGQAAAB6WQ5hj903V+U+OvSYYc4yQqMOYY5XywiXrnF1eyGU9QRS3K+e8kCvlw4FQOvLbp/1xyD0/sU5yzhHL5qvXkhdylcQZAAAAWuUY5vifpsl9+c0/Lk+TT0+Ew+bY2JJtp4E5RkjUkcyxUgk/yaSbG+1a+aec9O+axn/Kyb5UN2X9OIe38upGOvaCqlD5HePme0oaN3GmgZQMn2nsh8lXJ+Z3dP3neIyr3R6iZVOeei38KafNcQYAAIBWuYI5RggdWeXm+E5x3sy8Ff93ju+TlA86AAAAAB4TzDFCjasNcxz+uamc3wX2gzkGAAAAeAQwxwg1rjbMsfJ/d7jKG5gwxwAAAACPAOYYocbVjDkGAAAAAIiAOUaocWGOAQAAAAAwxwg1L8wxAAAAAADmGKHmhTkGAAAAAMAcI9S8MMcAAAAAAJhjhJoX5hgAAAAAAHOMUPPCHAMAAAAAYI4Ral6YYwAAAAAAzDFCzQtzDAAAAACAOUaoeWGOAQAAAAAwxwg1L8wxAAAAAADmGKHmhTkuY57nq11bktbeHDlvkA/1CZAGfcUP89uxecQy1QJzjFDjKjfHsxr7TnWdX8NUePsqTGqonpdTuftxywSTe21JWntz5LwVMA2q6wZ1ajKTGrpe3UcRS9v6PdTnHv1Zr+PQ/18jH3txb3m9h/5m95Xb5Hse++D8u87B16x/5rd0tow7pUhluqexYh8wxwg1rlrm+JgT2wLmeD+OnLcCDHN8T2CO69wfc3w77tUcH4B5VL03dpjjbVwzb5jjo4A5RqhxXc8cW0+Y+1GtV3gGY8OczGrsezWOw/l6/6RhfoKun3O+/ziq3ntcyp+d/ofqsw+1cwOziD8/VjrLtbOeN/0T/8D5sfwuC6RLfs/XTUMgz1Ld9GqcfLHz5y1cD06EAvUay89an5drRsvIBmMZSzN2T8+ixRuPxPy5DSWSXxtf+vq9S9r6hrYmljcQ72iZa5TRLOtalNM1a7frz+UpeHI8hvKZEjsrt9ExLBYTKS1rjF3in1THKW3eKUnB/daYT4M7vs5jHxxzy8uRWl++vqK1lapjcAaSOd48B/qSYn673biztR2H4m3fv+64dm9gjhFqXNcxx+eBVBuIp0EfUFPMsTAA20/6nG2x5gBvpi/lz5e+UO5ofnzb8czyT0MXOd9Ne51slbvwXRYNxkLFXAAE75UYu8v10XLbpMXVl5/L8cuiy6xrKZbxNO0y24uWWDyk/NlI+fWfrx8/LdbqtnW7rUl9N1xeX7ylMpeW0cQwU9Og+r6/5HcalrxvN8fhfEpt2b5d3hjmSytpjLUW6uVjgE1aXuJ96BxzZ/ywTEfVdDPrK7atuuoYnIFgjquVnfnN/2+Na447ZWO8fP+ice0OwRwj1Lj2/M6xuWC2JxB9wkwzx1EDHjVhwv3F/PnSzzTHBrnlESZo7Rz/4tcuv/Zv6V65dZO1HdkTByk/0+BMwubE7UFqS740g985FuKxJX/R/DoHPVveMvpSbluXzhfLm7izxGMEN5fRd+9zHuexV8MwnBeOdjuv8Z3jnL4Vi0FmWsljrPVhRjDdnDHAoni8j/Q3770rpZtbXwnmuM4YnEHOtuqSsjO/yVxz3Clezwj336u9HhTMMUKN6ypPjj0LaPO6tAkqPvCaJj28sPbcX8yfL32p3LH8hK7Vt6eGP1mPvYClH2fPAsmeaNd4iPfK/uAiVm5/jPRzpPx4t1R6J+t4LJ007fo3Fhjp5jg9fzah/PrO82+hS6qvxLZuLAYj58vljfXdUJkLy+hN53RsGs7bES9bGiNb55MWqeF8yn3LRhrDIjFJHGN9WzDLxwA7LKXjvVlWfWt1dEt1Ybpb6ytsjmuNwRlsNMd12yrz25qPvcadimO89/41x7X7A3OMUON6HHOsX2ovAm9hjmP5CW3jDX1C7Vk8xLYw5S4eotuhtj/Vd8vtZDTNqCrreNSMpcXyOOZYyq/v/Hs3x1KZa5vjWY19r8Z5VmM/qGlZnM7LYtVOs6I53rjV0D+GlZtj39P+8jHAyXxVc7z2RWEeqGGOs+qrojmutSW1xBxXa6vMb+py7V7jzo3N8QNtofaBOUaocV3FHFfaVp23ZSdjMZa4DWmrOXbPTzAgJVu7MhYP8lPN7YsHt9z+Y+kmR3ljZWzjTYylmOa1tlWL+XUuKNtyfKNt1U5+omUuLKOHeexPL5jpRzUvi9Zx8BubkkVqVt+SEMYw/W9ZY2zuVtHMeFfdVr3m9/SCIGncq72tOkYdc1zeTvQs1dxWnZUw85s3q1cad26+rfqxwBwj1LiO8UIu+/iydSnDHNsDtjGBpk2AUv6yzHE0P8Ji4PJSo9An8ef86guOaVDdloWZdK/cxUO03DbhuIbzE3oqEVjkBWLpTfPyR+ueOeZYyp+NmF/nAud+m15uJ7T19BdySeVN+DDCKXNpGX1hG4wnV9PQq97I1/ZFajifUlv25TE+holpBevJipmnT20fA2wy8+Lcz435ZStndBIoTTezvmqZ4+x0YyHYaI6rtlXmN/Ne+4w79cZ4//2rjWt3COYYocZ1jJ9yUmodkM+T5qR/+pn25Hjd5mR/HyhlcRfLnz99acEWzo97rXnusgVrvcZNy8qvsw0xdfEg3CshdvGyxOotVK+x/Kx5uhwbzScT8VimpNkLP+UktaV4/mykurfOPh0bhkBbLW3rCW1N6rtGef3xjpe5RhkDcTP6k11nG7dV6z+pEtjOGG7Lsbh4xrBgTDxppbwhPPQTL5ljgEteXsRt9c5LmPZIV4qDJzWjr2w1x3K669uNpeJvNcf5ZWd+k+Y39/71xp3aY7x9/7rj2r2BOUaocZWbY4Ab4/2O1YGomr+YcT4IxeW9gzJencZjEntLNQBARTDHCDUuzDHcFc72rdzvfu/M7vk7mEnapbwHK+MhaDsm89gfp48DwEODOUaocWGO4d6wf0riaIvmffN3PJNUv7zHK+PtaTQmy/dTj7wzBAAeCswxQo0LcwwAAAAAgDlGqHlhjgEAAAAAMMcINS/MMQAAAAAA5hih5oU5BgAAAADAHCPUvDDHAAAAAACYY4SaF+YYAAAAAABzjFDzwhwDAAAAAGCOEWpemGMAAAAAAMwxQs0LcwwAAAAAgDlGqHlhjgEAAAAAMMcINS/MMQAAAAAA5hih5oU5BgAAAADAHCPUvO7FHM/zfOssbOae835tcmN15NgeOW9bkMrTWnlvfb97SfteuPcY3Xv+AY4C5hihxnUbczypoevVmDSXz2rsO9WnnRxIblBdN6gp66JTul2nqR+Vk4tpuBx382jnfVJD16khLyP7Ec37tcmt5wrtYjeOkrecfhZDKs/B23k2tcsjxW/PeG1oi5vGyxro7fWabWlwyDUAACAASURBVOjW7Xfv9nUEDjAm3KxdK3WI8kMymGOEGtfxnxzfwhyfJrLOmsmmoVOdZTamwT1v5daLrjjxvF8bzHF9MMfbwBzfzkRcMoE5TuYo402MA4wJmGNIBHOMUOMqN8fnBfg0qv7ylFWfgGY19r0ax+UpZa/G2X5CYF+/HLOe3l5mFuvvzhPds7ld7jXmTIrxhcY89pf0TmbZV+ZQ3s8T5Ogra+A6q2zz2Gtp5l1rRMib99j1nsndWGz46jkQv9R6nvU4nXQ6tKFdzKPqOz1/5+umwXOflFjktdl4vcXZXue2ORbahx7vy7FQrAP3rNTOPVHYWB+56W0sT3Zb1fHdXxhPksaFlLTX9MPjZcGY5G1Tyz2leWGPmNhco/1Kc2RJenvMkYGxPNjGa5XRrprc9Oz7ZawDcueHaN5CbVs7Z7ne0yd9H1rPY59Yt3Xm6dLYx8YjOwbrdN+H27U4dnjKUADmGKHGVcccmxPhaWC0DFdw0e5ePw3u5L+aVde8+gZV+ylAsjleJsngQzLz+JYnx+lltcpmf/LtTHqxuLiYeT/Xk1YWM28pk66wSMzKv5veydCHzhfKby9GlkWPYcTNSTwcy8x6jJZboKjO9X6WVibd0MVia1K5nQfuL7XN2umllye3rdqkjaG1xoW8spakLbepnHmhXkxyY1DanqSypKUXbv+B2Ar95XL+xQhJc3asjZeW0R+znPTiMRHWAVnzQ1p/D8bPMoVu0f0fThkftu05T5fGPtL3DJM/Darv+0sdTcNSX2lrPPkD1e1gjhFqXLXMsTnQxxZFy/HId8tiizvvIkebPHzHS8yIUN7ibdV6elvKFs239Umtc4k9+dvX6/nNrKfkPJp5Tb8+s104CxK7PNq/xVjWaLOJFNW51s9K2tZGg7W5nTu3L2yb2X0jszw+svqGMIbuWXfSeFl9TIrlS/rOca2YSHmp3Z6kOVJIT2z/Vv6l86ch8JQ9Yyx34lBYxhSk9KQ6iqWXMz+IeQu17U4Nk/XBhP9mnqfMqW2hwjwtlm9L/9DOO7e9eezVMAznNYjUd90PCPb8GgHmGKHGVW1btTFO6YOXb9Gw3Ryb23VM9ePs/wTfO6GEinM7cyyVzd5qZO7ykq71FdX6pNz5JFbPf1o9xb9TFc5/eMLTt8aFn2iJ5Xd2BNjtdi2fHMvcBUis3BIldb6WcVO/EesmdLy0nVsUts38vrHVHKe1VU8Bo2NoybggpS2Nl8VjktCm4vPCXjHx52W39ivOkQlmI9r+PR/GRc43t+h60ksw+m4bLyxjkFh6Qh3lrAMy5gc5b6G2vZwnbwPW52b7aev+87RUvsSn096+N6nhfN40nLdm96Oatb+n9u28eTQPzDFCjesuzXFkO02xOb7CtuqsCT3A+p1hzfxkbjO6vjkO5z+8DS70BDavXWSb48xtZ6mfzrvlTie/zi1znNtv1qP1zXFOW61hjrP6Rq45zmurngLKRnDjuFDFHO8yJlUwx5tj4s/Lbu33Icyx1MZrm+OU9G5ljtP6e3TXg9R+Lnm17nWVebos9sadvONRr8Z5VmM/qGkxxfNiklP6F+YYIbSzrrWtupY5ztvOGPlbrEQRw2sP3Ptvq46h3X/D1t09tlVveSqavMAraRc5i5/M3QNi3qLlziWnzqVt1aH85+Z353a+y7bqaIL55clpqw5bthCn5n+PbdWJaSe0qax5oVpMpGO129N9bqt28hNt45W3VW9Jr3hbdcb8kNDfpTVRfPw/32O06vIa83Rp7ANl0T/IHsbFDJ/N8jhkfA0Jc4wQ2ll7vJDL92KMauZ42bKjD97T4DwpWQ2rm7/kMlmj7y4/5eTbjhQqmz1peF4iFY6Lp5RG3u24+evRfWNm5qQr5D84QV5eGhN6IiaUP+vJgBTLwg90pN0JmTGL5zPn3LVMvrejVjPH2W1Vapv7pLfZLIlt1SZtDC0ZF6S6C4+XJWnLbUqaF/aJiT8G+7VfqSyJ6Qljc/oLuUK7dARzHG3jpWW0Q5aWXnrMhHVAyYengf4eNsdKaC/LbXvVOeuQW83TGbGX+t40GE+lp6FXvZGntDUe5hghtJuqPTkeBnX5bojz2v0Sc+ybJMzvtMR/9sL9CYf1rYhCyQY9Dbtc2jmRUdrMe8oCIV42O09m0lJcpLxb10s//zHpn2KnTVix/Nv17P7clGexndousr9TFotlfpuNlVtqj9vr3C6j0D6Mn+8wF5H+hVroeHk796QQaZv108stT35b1TnXk/7TKIGtk1vGBanupPGyaEwKtqnEbdU7xcSJwK7tV5ojN6QX+tmq0FiY8lNO0Q+0pTZeo4wb0kuOWeJPOSXOD/G8JZjj5R7iV4F87fba83R+7ON9zzc22vUS61+YY4TQztpnWzUAJDOPati0xRoAjs8dzJEp34ON3+D4Zbw3ct6VAlXBHCPUuDDHALdlHofsl3MBwL1wsDnS2dJb8g6Ey02PVcYHYB77wjqBrWCOEWpcmGMAAIC9ON4caf9cTrkJO14Z75blqwhFT/KhBMwxQo2r3BwDAAAAANw/mGOEGhfmGAAAAAAAc4xQ88IcAwAAAABgjhFqXphjAAAAAADMMULNC3MMAAAAAIA5Rqh5YY4BAAAAADDHCDUvzDEAAAAAAOYYoeaFOQYAAAAAwBwj1LwwxwAAAAAAmGOEmhfmGAAAAAAAc4xQ88IcAwAAAABgjhFqXkc1x/M83zoLEIH6AQAAgEcDc4xQ4zqeOZ7V2HeqHxfzNamh69Qw3TRTd8Te8bLrBwAAAOAxwBwj1Lgwx48G5hgAAABgC5hjhBpXHXN8Mkxdd1Y/qtU6TWroejVOo+qX412v/N7Kus8wqYvZG2PXx9L3JaPf66TVTMr5ncdeu3Y5dsrD5T7nNJZ/z2Ov5SuW31mNfa/GcYjGyp+HJf+l8Qod99UPAAAAwGOAOUaocZWb47Nh0ozSNOiG6mTWum5Qk/e4/372k+Pw9e6TTNOI2rhPVqdBv7+Q3jQYx/R/z2O/xmEaVN/3l3xNw5JHKb/neMYMfiQP5fHKPw4AAADwCGCOEWpcxeZ4HlWvGzWllGlAPdt8bXNn3lDeVq1f772X9RRXwmMu89LTzjubyHns1TAMZ7Os5UfMb4L5jMavMF418gcAAABwh2COEWpcxeZYM4QruoHa1xyb24tNxQ3c8oR1UaI5trYWmwZ8UsP5vGk4b83uRzVrf5fzm2LspTxsj1dq/jDHAAAA8GhgjhFqXA9hjqXvGJsZvpjiSxo5T46NP/u+d9yrcZ7V2A9qWkzxvJjklPzmPfV281AWr9T8YY4BAADg0cAcI9S4HnNbdQSfmd9ojn35ncf+9DKsflSz9nItvxEP3y/vXVcZH0ZI6SfmD3MMAAAAjwbmGKHGda0Xcu1mjn0vsJqG8Bux7bQvb65Oe/Lqv15LaxqMp9LT0KveMLtSfhPMcTQPpfFKO445BgAAgEcDc4xQ47rOTznlmGPte7H6TzlFr7fSD/5U1HK5/V3jvCfd5vXx7/yeyuJ/wZU/v2lPjsN5qBGv+HGzfvQ3cQMAAADcL5hjhBpXHXMMAAAAAHDfYI4RalyYYwAAAAAAzDFCzQtzDAAAAACAOUaoeWGOAQAAAAAwxwg1L8wxAAAAAADmGKHmhTkGAAAAAMAcI9S8MMcAAAAAAJhjhJoX5hgAAAAAAHOMUPPCHAMAAAAAYI4Ral6YYwAAAAAAzDFCzQtzDAAAAACAOUaoeWGOAQAAAAAwxwg1L8wxAAAAAADmGKHmhTkGAAAAAMAcI9S8MMcAAAAAAJhjhJoX5hgAAAAAAHOMUPPCHAMAAAAAYI4Ral6YYwAAAAAAzDFCzQtzDAAAAACAOUaoeWGOAQAAAAAwxwg1L8wxAAAAAADmGKHmhTkGAAAAAEg0xwghhBBCCCGE0KNLNMe3frKFENpPsUEAAAAAAKAVMMcINS7MMQAAAAAA5hih5oU5BgAAAADAHCPUvDDHAAAAAACYY4SaF+YYAAAAAABzjFDzwhwDAAAAAGCOEWpemGMAAAAAAMwxQs0LcwwAAAAAgDlGqHlhjgEAAAAAMMcINS/MMQAAAAAA5hih5oU5BgAAAADAHCPUvDDHAAAAAACYY4SaF+YYAAAAAABzjFDzwhwDAAAAAGCOEWpemGMAAAAAAMwxQs0LcwwAAAAAgDlGqHlhjgEAAAAAMMcINS/MMQAAAAAA5hih5oU5BgAAAADAHCPUvDDHAAAAAACYY4SaF+YYAAAAAABzjFDzwhwDAAAAAGCOEWpemGMAAAAAgKuY47fq912nOo9+/5c6i/vvXrn3+u6VntYr9d0BTAhCR1Q9czyrsbf6eT+qudLdtzANnRqmy7/U0HWq6wY1xS6qk/I5LZ+ukf79Mw2RmM2j6u84rrdrlwAAABDjpua4616qP/69bGG/mGDdHJvGGIOMUExVzLHXrCzq1XgDh7yYq+EmjiNmjm//ocHRMY2xx/xOw91+6HDbdgkAAAAxrmeOX/5J/VX7+2JgX37zj9Pf/vIqYpz/of748vS33796eT7+Qv3LC2tx9Ortmt7l+uXaek+qEXoklZtj7YmxteK/mJyLGVzO1Y3M2UhahnEee6N/O2bCMeTLPT1PsIdJhZ7Q2en0hpPX8msYMsmIhZ4GpuUhvax5eaxS1mheUsojPSldji8fqqz1udzndP+cD13MNtGPo9XmHrRdJtQVAAAArBzEHAeeLl+uWQ3ueuzf1L/af3v1Vv333/+kXlrpndIqf0qN0COq2BwvC3Dv09BlEW8bnbgJ8T851A1C4MlsP6o5w4SE0llNvudezjk+0s1xWVmFPCbENK+sUl5yyhMwap72dLqna5ZTTV+w7Jnm+L7apVxXAAAAYHLQbdXLNctWaM0cv3prnOvbVm1oeSJtmXOE0EnF5nh5chUwi+Y20gQT4jXb1nVRQ+5LV0vHvofxBDL81PJigJbyRk2GsK16fQRaoayePGrpD1PFskp5SSlPLk68Q7EVzLZedueeD9guE/ICAAAAJjc0xz5jbJ9rm2P3mqg5vmzV5qkxQiEdzhx7v0+6aDEHPoNkmiPRhATyvWxnNfPrMSq2CTGezIXN8WBmskJZ/eZzKUc/zvXKKuUlqTwZXO6nXeuYPnfbtfceZuDzt1XfW7tMyAsAAACY3GxbtaFlK7Sj7eb4r98s303GGCMU0x7bqqehs7aM1jbHyjWl1vG6JiThiaLXHC/XrXEwvjtapay1zbHwvdtYXiqa4/U7t/J1RlltrmqOhfioK7bLhLwAAACAySHM8WJkLy/nupjlbeZ4Nca8oRohSbu8kCvhpUTmy5U8ZjNzO6htOupuX5Vf1GTlxv1erRaT9aujNcpae1t1XlmNvFTayrsaY8+TzuCW6MCTY0/ZnTbXSLvkTdkAAABxDmGO3TdVL0o3x13XWW+rdsXbqhFytf9POZlP9OSXIyWcE0wv8FKj4hcfVTDHym/6ysta+4VcGU/Jpbh785L6tmpXp6zmv2iqSpurUldXbJcJeQEAAACTY5jjf5om9+U3/7g8/T0Z2rA5NrZkv/yT+mvQaGOOEfKpijlWSqW/2dk0N8PkN5uOQbDNj7P4t7aL6se9W52X0xJ/MsfO/wZzHPrZq7KyBn7Wx5O/KmWV4i6WRzDHke3L7tNW2Rg7cQ+2uQdslwl1BQAAACtXMMcIoSOrnjkOcVq0s5VzLwrfBt0kKR9wAAAAQGtgjhFqXPubY9gXzHE+mGMAAABwwRwj1Lgwx/cO5jgfzDEAAAC4YI4RalyYYwAAAAAAzDFCzQtzDAAAAACAOUaoeWGOAQAAAAAwxwg1L8wxAAAAAADmGKHmhTkGAAAAAMAcI9S8MMcAAAAAAJhjhJoX5hgAAAAAAHOMUPPCHAMAAAAAYI4Ral6YYwAAAAAAzDFCzQtzDAAAAACAOUaoeWGOAQAAAAAwxwg1L8wxKKXUPM+3zsLd8Eixyi3Lkct+5LzB40K7uy8erb4erTw57FV2zDFCjavUHM9jr7quC2qYlFJqUsPl/+FYzGrsO9WP7U6w6dixmtTQ9eo+Q5db70duJzXyptdl6P9919zLuHZveb2HfnWM8eA+5+At/a0UaZw4Qoxyyl9h3JsG1XWDyinyNFhtLCtgtep33/kIc4xQ46r65HgeVe8d+I4w6YCfI5ueo/FIscIch8Ec35Z7NccH4C7nYMzxNq5vjqfBNsOnPKQbZMwxQugOdFVzPI6qv3ziqJ83q7Hv1TgO1rHzwLtc04/KvLV03D43Pw3zU3k9z+dBftLLZE8ysXv7rjdjF067JN+Re1wmuJy4lpczP71Te7rcaxpVf4m9Z4HjLAC2xM4XK3uiL41DTlxD7dm6Q3JZ1Ln/+p46bWgny1hwyd/5umnw3KckdqG8mfdds3y6x1rk/pxWwZPjcesYkFpfoRjkjjduHNL6fO22K91vjbm7GD/HKLgYv9ZYJIwHVdt/Bpvn4Hge0uth7/62tf6kcSIUo5L+LPVZ3xjuiUXWuCflz5o7xxxzHKibrPk1Z85U5pyUVZdlYI4RalzXNMf6ADoNnsHOWfybnwyuE2vKcSdz+WnYg77xb7dMp4Xt8m/3E1WzzEJMommX5Nsfl/VeUr4Dcd1azo31aG5l7Jx6CZvjktjFtlGWxiE3rr72bJFdFjNup+1zofOFONrmazEFhhE3YxduA/ltyIikvoifBtX3/eXcaViu226OpTEguW1fYbwZJuUYlvL425T2BS3mgYW3fz18hLFIN8e12n8GhXNw8rgYqYdr9jfvmCiMmdKT42r9ObXPBs1jbp3lrpnc+8dJeUqcMpbkjfv6B7SxstYEc4xQ47rZtmrBsPgNnTYhS8fdzFVKI1ImZwFqX6tfI8QklnZRvm2suIj5ti/fo5yRevScby44CtPL+iDBXgwXxMFJSrpfwuIgqyzS9db5UhwdA2aXX/u32AY2jB92Oc4Lrnns1TAM5wWenUaN7xznlMuTz93Hm9N/s8bB6m1Xup9rEMwnkTulWzynuOa4TvvPYOscnNsGYvVwzf6m57t4zKzcn6X7efMTaft2eXPHZN/x7O8c60+ePR+QJbWj0AdfCfm1zsMcI4R20ZHMsX489pKRfpzF457MZadx+aT0/Dd3kvNv6epP+wGD28DXT87lmPjSLsu3Py7GBBvNt0VhOXPr0ftJvbEoKk0vFrvIYri4vnPjmrJ4zinLJWFz8RNYiIlxdMYCu7+s8ZDrpNAcq0kN53On4bxN8bK1M2TIMrZ5BsaArWPUnuONbytqefztsJT2BbOs+pbe6JbqK49Fsjmu1f4z2DgHp+QhuR527W+CwU8YM+PjRM3+LPRZ7xi+3RwnrZmic2cu2piitwtxLDmVb1N+vXGsD+YYocZ1aHMc2VaWv+0sPw2jBIO9sNzbHIfTLsu3zQHMcUY9VjHHm2N3b+Y4tyzWQk9aiMXimGsOxO/ulZjjWY19r8Z5VmM/qGlZpM/Lot3OX0VzvPG7o7uON9a55fF3Ml/VHK/9W2jzVx6Lqprjrd8xdrJUYI6lPKTWw6797cbmOKuebmCOc9dMReZYv0fq2sQyx5vXeJhjhNCOOqo5Frf7ZG8H2pBG4B7BhZb+t9rbbO2F8OZ8C8cOsa06grg1rHJ60cXV7bdV5227jJTFt7DM3sJn5z/NHMh1UmqOTwutYVwW5+fF+zgEvj++57bqHPYabzLrsnrbzTTHS1sfhYX8tceiSua4vJ3oWaq5rdq5eVo9qCv2t5tvq46Rtq26ljnetGbKKVPw3NyxPLatOjVvmGOE0I46rDlethjqC/ZpcJ58hY87mctPwx6cjfItT9rW43kvB8lcrHhe4LIt3/647P1CLnH7eGY9runZ9WAfX7aqJqaXEPeSF3LlfhgivVwmao5zyuI9N/akWYhjjjkQ20C5OT6dr28R7VVvxG/7Yl0cA1Lb9jXHm6yxtHbbzTXHat2CGW3wtxmLis1xdrqxEJTNwVIe0upB7drfxDIIY2bOC7mK+nPi/aqZ49Q1U3DulPDcXy1tIrUdeebMxHHH3MqPOUYI7ajjmuP17+t3UfxblMLH3XNz07B/8N6c3LvTy0aW44EtXf7j8oIznHZJvj2RcRY8sXx771BUzrx6dM8/1YF+P+27UF1v/dRTWezMWPmfcG2PQ05c054cp5fFPnfZDmktTmLtxNkKm2oOhHslxE5etPvKYreZjduq9Z9akcYAoW1fc7zxLvw3xt+lpC94Yu684GqPdKU4eFILjQdV2/+prpKMwOY5OLHsyfWwV3/LLIPXyIXGidr9WeqzpeY4c0x2jvfOTzmltDN7jMqLkTBnBvr9OifphxI/qNkA5hihxlXVHDdFZKsxXJea2xIBDknj402N70ZCOdRDBo332TsGc4xQ48Icb4WJ7zBgjuHhaXu8mcd+ty2UkA71kEPbffaewRwj1Lgwx1th4jsMmGN4eBodb5ZtlbXe5gzboB420GiffQAwxwg1LswxAAAAAADmGKHmhTkGAAAAAMAcI9S8MMcAAAAAAJhjhJoX5hgAAAAAAHOMUPPCHAMAAAAAYI4Ral6YYwAAAAAAzDFCzQtzDAAAAACAOUaoeWGOAQAAAAAwxwg1L8wxAAAAAADmGKHmhTkGAAAAAMAcI9S8MMcAAAAAAJhjhJpXLXM8z3OV+9yCe877PfLI8X7ksgHkQF84NtQPgB/MMUKNq9wcz2rsO9WPy0Q7qaHr1DAV3vZC7fvp2HkHg2lQXdeprqsVo73byi3xla1Xd9u0pkF13aBuUzWP1C5a5JH7+TXYO17MewAxMMcINS7MMYuEENPQqa5q4B950fxgbQlzDJt55H5+DTDHALcEc4xQ4yozx6dJdnm6eDJS54l9HFW//N15gmZd148qPE377mcv2uP3m8d+PXbJiy/vvvL1ahyH+LVJ6S1l6dU4bS2L73oztuG08+I+Ddp5lzzGrg/FKpD2Lm1liZF2r2lU/SX/nkWnYwJrtSX7yXFZvYrM+rUnreVMub8VtzFijudR9Z1e1+cyT9a/k/LmazdWPS3Xe/qo7wOceey1v0lxj7UHqU3XiX2sTdkxWP49j71WlpJ+qZ9Xo31eqZ8/QMzj80RpvELHU+Y9gLbBHCPUuPZ6cqwvrKfBnZz1T63NRYeNe7/TosI0bMH72ebHWfzGPkE/LySchc/W9NLKoi9YzNgJsc0sazzutvGQ8uaLlT+e+7UV6f4pZqhWW9LNcWG9irjlOn24EW538Ti75xvYZnUxxauLOJnnOSVvvnajXWMZFLfo/g83TuenxV1qD0kf3m2NfaRNGSZ/GlTf95c6moalvqQ+kt4v67XP68wJdx3zzHkiL175xwFgBXOMUOO6yrZqfeL3bte0PrE38G0x0/4m3S+6PTTNHBvHi9ITyjLrTzl912yJbWK+vZfYhieWt5QF185txXO++eFDYXpZbUkzx6X1ugXPYjur3LH0HcNq31/YFip+QLVcf/pvvE35njKf710c940mojT2+nlnQzOPvRqG4dwfpTbpfkAQLUP19rn3nODh3mKeO08Uj1OZ+QNoGMwxQo3r2ubY3Epmyj9Z+15stKYp38/cRmYuttLMsblDtCS9eFn0hZk/j4lPujxp58fdMsdi3lIWs/u2Fe/Tpjl9W3XdtqTVdXG9pqJvjU5/Yi7HzcJ4MmyVNZReMG++dmNt8RbW8Ho7tZ/81ehPaQZtW+zl8eJ03jSctwn3o5q1v6e22WgZqrfPvecEPT53GnMxD9vjlZo/zDGAH8wxQo3rJuY4ebvocj/BHCfeb/0erbndNdscb05vb3McTjs/7gcxxxl5rmKOq7Wla5rj1SRc0s94kravOZbyFjbHl6dgSd8/HdRk3+sq5rgs9sadvG2qV+M8q7Ef1LQYtHkxbClt9k7McfaccOcxj+ahLF6p+cMcA/jBHCPUuI6xrTrGlm3VqfnNN8dl6e28rTqW9oYnkVu2Vdc0x9l5FrcH126bsbZ0xW3VPnOz+7bqRHMs5k0wxxnb9U8vMNLyXGlbdbax3GjU9LIs5Z3H/lSuflTzYtzGIWAKI7GJleGQ26ojPELMo3kojFdi/jDHAH4wxwg1rqub42U7mb64mYbI9sm0l5ME72cvFIyF/QZzXJReYlmEF+MkL5o8ZU2Pu2WOxbztYI6z82zn0Y63fXzZ2piYXlZbyn8hV5E5dvKV/iRKjptFrjmO5k0yx0psp6fbnreSGjdKa7NSexDNcUnso21qOb62q2noVW/kSeojGVt8q7XPnfv5I8Q8YZ7YHq+045hjAD+YY4QaV7k5themKQsp8/tW8YXveeGt/yyH9LMV1v3MnyUKfBfXu5IJLXK2pneOzTCsx5N/gkO7PhLbWFnz4m6bYylvaU9L9m0r7vmnWOv3s77POtlPzWq1JdswltdrbDHr/vRW7pM/PX+JP+WUYo7FvCWY4+Uesa2iwbdax+K+puVvD2ltujT28T5rXm++YC5QRk+7k59ilrVP52479/NHiLk4TxTFK37cnvek8QWgJTDHCDWuGuYYUvFtq4Zd2fRiqwMyj2pg8Rom9h1pAACARDDHCDUuzPE1wRxfnQcxx/M4iG9tbpl57HnyBQAAxWCOEWpcmONrgjm+Og9ijiHA8n3TzDexAwAA+MAcI9S4MMcAAAAAAJhjhJoX5hgAAAAAAHOMUPPCHAMAAAAAYI4Ral6YYwAAAAAAzDFCzQtzDAAAAACAOUaoeWGOAQAAAAAwxwg1L8wxAAAAAADmGKHmhTkGAAAAAMAcI9S8MMcAAAAAAJhjhJoX5hgAAAAAAHOMUPPCHAMAAAAAYI4Ral6YYwAAAAAAzDFCzQtzDAAAAACAOUaoeWGOAQAAAAAwxwg1L8wxAAAAAADmGKHmhTkGAAAAAMAcI9S8MMcAAAAAAJhjhJoX5hgAAAAAAHOMUPPCHAMAAAAAYI4Ral6Yux8EjwAAIABJREFUYwAAAACARHOMEEIIIYQQQgg9ukRzfOsnWwih/RQbBAAAAAAAWgFzjFDjwhwDAAAAAGCOEWpemGMAAAAAAMwxQs0LcwwAAAAAgDlGqHlhjgEAAAAAMMcINS/MMQAAAAAA5hih5oU5BgAAAADAHCPUvDDHAAAAAACYY4SaF+YYAAAAAABzjFDzwhwDAAAAAGCOEWpemGMAAAAAAMwxQs0LcwwAAAAAgDlGqHlhjgEAAAAAMMcINS/MMQAAAAAA5hih5oU5BgAAAADAHCPUvDDHAAAAAACYY4SaF+YYAAAAAABzjFDzwhwDAAAAAGCOEWpemGMAAAAAAMwxQs0LcwwAAAAAgDlGqHlhjgEAAAAAMMcINS/MMQAAAAAA5hih5oU5BgAAAAC4ijl+q37fdarz6Pd/qbO4/+6VfS8rzVdvb25AEDqq6pnjSQ1WH+/HudK9749p6NQwXf51js2gpthFN8Gqt8HOoXT82NxPPQAAAMCtuak57rqX6o9/L1vYf/fKNtr/UH986UkLg4yQV1XM8TQE+vj9makaTMOp7Mcv+qzGPlZn7gce9/Shx/3UAwAAAByB65njl39Sf9X+vpjal9/84/S3v7yKGOfF8L5Uv3/18nz8hfqXFx4D/Pc/qZd6eva/EUKGys3xarB00zSP/blv9kr3UuvffUZrudegJsNwr0/6FsNjm27f3+20zEuWtHo1DFZe51H1xnhkPWl0PgxYyugxm8OkQk8sS2Nxvkkkr8KT0uXaflSz799LupfAaXny3c84ZynTeMrDck/vPSbrnJT6i5X9aPUAAAAA98BBzHHg6fLlGs/T4Jf/pv7V/pvv6fDZdF9MOELIULE5tg3VekCNvWloLgY2+KQy8CRTP2cxKEZ6i+lZjXgordX4eNLqRzUHnpau6cWOp5uyKrFIzmuiUTvHtl+DGMiT+YGHeYtAnjPNsVx/91QPAAAAcA8cdFv1cs0r9d0/f1GGObYMsLut2j2GMUYorGJzbBuqEJcna7qxsk2t5ym0Y4Y9Bs0+x2vYbVOmmR7dwQfNfjAAQcMV/K5rrVhk5zVSisE2n3qeXHm3KvvKFay/iDlOqb+Est9jPQAAAMDtuKE59hlj+1zbHLvXxMzxfxvXLvdCCOm6mjl2nkKeWLa0nv7sezLpPlVcrlnSdExQ7DvQjumxn4L6DKHvyat9XoY5rhaL1Lym4jGuxnbhdQu61xx7y2XnOcEcJ9WfXPb7rQcAAAC4BTfbVm1o+V6wow3mePnusvaEWTbQCLWrq22rzjIi0vdR9b95tg4XmWOl3O+Paud5j+1pjoVYxPIq4cmH9BKr0/HA/a9qjuWy3009AAAAwCE4hDn+6zenl2xdtj9fzPIGc+xcuzyNLn8zNkKPqPIXcq1PzaIv5Mrawiq/rOli0kbPk+ukba7y92fNtE5myX5qvZZrr23VcixCeRVx8m7lIfTCLukFX1q5Lu3AMcdrHp1zNm5Ttst+N/UAAAAAh+AQ5th9U3X+k2P9abHxt0W8rRohr675U07pLz9KMCLWdl/b4Ka/GMq6VnoyHCxr4CVPxS+CSvhubjAv8gu5vPnwGFldsS30ctwrnZPxBP/29QAAAAD3wDHM8T9NQ/vym39cniafngiHzbGxJTv0dmuMMUJBVTHHSinf9y59Jir5Z3Ps+3qe0oV+1sk57jFfeduqzXP0+/bjbG3Dta4Pbf2uFYtoXlPeVm0ZYCfOZr3Kv3Fs3m+YItvio+dI9SeVXR2oHgAAAOAeuII5RggdWfXMMYAPeQsyAAAAwBHAHCPUuDDHsC+YYwAAALgPMMcINS7MMewL5hgAAADuA8wxQo0LcwwAAAAAgDlGqHlhjgEAAAAAMMcINS/MMQAAAAAA5hih5oU5BgAAAADAHCPUvDDHAAAAAACYY4SaF+YYAAAAAABzjFDzwhwDAAAAAGCOEWpemGMAAAAAAMwxQs0LcwwAAAAAgDlGqHlhjgEAAAAAMMcINS/MMQAAAAAA5hih5oU53s48z7fOQhXuoRz3kEel7iefAC1DP70vHq2+7rU8e+f7KHHBHCPUuOqZ40kNXac6Tf14jIGuPrMae718kxq6Xl2/uKeYD9PW6+1yHJF7yKNS/jZRUjePwN79Qr9/6P9919xLvdxbXm8xBuZyjLF7HntjrrR1qvOj1f+W/laKNP4fIUY55a8wn02D6rpBpRU5JX4ped97Hj7WPI85RqhxVTHH86h6Z4I6m+XjzOwVOcpAjjk+Dphjl2saD8zxbblXc3wA5lH13tgduf4xx9s4mjlOBXO8gDlGqAGVm+PIoDYNqjMmzdO5l0/I+1GtV50n2OlktE/nrNdOg2u0zb/F7j2rse/VOA7Gfc1P763JfdbzoX+ab6UzTMpdHGwv5ynpSL7MCJwWBqN+L3vSDOXFLsf/VGOvLTKsDzzmsQ9fa5SvvPzB+1TNo5BWQvsJ53NpE3bd2G3Ed8+S2Nr4Yp3aPlKOS/fP6RdumnI9Fzw53tRn/IT7a2n8rYX/MiYljXk5/Sw1L7H7rTH3jdXz2Ec+KC0tR167Co7di0m99MnzOZP17+x0BSRzHBxD4nlIr4e9+9vW+vPVV0qMSvqz1Gd947YnFt7yhsoj5U/flbekvc+TY/9YtiXfJfN8alz2A3OMUOMqNsfBid058TTQaRPcNOgD3jIBrIO+cdz5tFRfOLoTgNco6YOrfT/j3+6n0dOg5y22Na9yOaOfErv3Ok1uoXz647IcNxZO06D6vr8cm4blvLx7useF8jtsz2O4DvxphM/3tB8hn3I5ffcsja1NnfaR05bN+7v9IjXvafW83Rxvj4l9O3kckdKS4jtMyrM7Z59+tnnc0mPujFmW+aqabm6fiIzd9ocPiyleXaI21+WmG0Ewx5vLnlEP1+xv3nFQGHulJ8fV+nNqn/UZwdl/fbw8uWO+e/84GeY4Opbl5rtsns+fw+uCOUaocRWb49QtPvOoeuc83YR6tkfFDKt+zJsHfSHgmSCytibZ50sLrIJyZuXLt6VM+1tuXKbhMvnMY6+GYThPTto10j3FNKV6ttmQR7EO7CSk81O2fCVsq462oVAccmJrU9g+trRl53jIMAl5T6nngsX69j7jyafw4VUwreT4nv6b1VZy+1mV8dk0COaTyJ3Sze4Tsjler7PTLmgnMXK2VWeVPaMertnf9HwXj72V+7M4pvnyE2n7dnl981numL/Xd45z5+E95/ncObwymGOEGtfVzLE2+a7oA6I8mOrbxPT/j73cRH+SaA6q5pad2ES53i/BHBeXMyVfev78W9T6cU6Oi1mOUz6m4bwl6rKd7vR36Z5ymoWTZkIe5Tqwwyidn7Lo3WaO9ePlsXUKVtY+ktpy+P768W15F+p582K9pM/YxPqrEJ/EscK3JbF6Pyset8yyOuNzqPMUpru1vsLm2L9VfP33KS/56UbYaI5T8pBcD7v2N8HgJ4y9eS+UKunP0pjmmwu2m+OkMd+OT+xDDoec+MXGsrx8F8/zuXN4ZTDHCDWufbdVz2q+rEHKzfH6b/NceTtb3NyctkzrC9B1Uer/pHRPcxzLl5NzeWGQtRX4/H2qeVZjv8R5UNO8LJTkWMtplppjOY93bY6LYusUrKx91DbHWXlPqOe9zPHGrXv+caTcHF+eIGnnVu9nlc3xuoAX+k4Nc5zdriqZ41pbPEvMsZSH1HrYtb/d2BxXHDN3Mce5Y/5u5ljPsj2W5eUbc4wQumvt+kIufZta8bY97ZzRupf49DrT3PgG5mttq47ly2HLlrL4veexP8W3H9W8LJjGQdhOlVqWQJ4zyy/mcadt1Xub4/LYOheUtY/dt1XHEeu51mI9q8+IuY4bO/1vWfFN2dYolPNq26rX/Dpjde10s+urjjkubyd6lmpuq3ZunlYP6or97ebbqmNIY1pdc7xpzN9rW3X02p3HH/v+bKtGCN1SNX/Kyf0eTue+eVAb2YIvn1lPcAbTy3Ye48TzvZ0XbpmfekbvrS9QvMfCn6KaE0xhOWP5cliecFtbz8UXkYVfKnM6rm/L61VvxC7tnuHjFT4cSM1jsA78aUgvhdndHBfH1qZO+6jykqbsvKuEet6+WN8eE18eQ/01Ma3UseIK/Wz7+OzG3D9W1043t11VMsdb2nMwBBvNcWIe0upB7drfxDIIY2/OC7mK+nPi/aqZ4+wx2M1fnAxzHB3LcvNdY4dYzhxeF8wxQo2rijlWSq2Dduw7PeZ3Wtw3PiYMpt7fVPbc2/cUw7pm3TrkfsfGPBbYyn1ZcPifmmwtZyxfVgmU83MJga1I/rj4Fk6+cvpfvBG6Z/x47qRZKY/ipBo7P8Uc+9pErjn25CMrtjbnPAxDJA6Z6fnacvD+Qr8QjYRUzwXbqgv6jHPHYH/dEH9hrPAu/Cv1s7JxyxPz4FhdM10pDp7UQmN3ljmW013f8iwVf6s5Tix7cj3s1d8yy2D1kbi5r92fpT5bao595ckZg3vnp5zi7cy+tybP2iW29sjLd415PncOrwfmGKHGVc8cA8Cx2Hsb2vW2ud0njccn67uRsBvUQwaN91lQSmGOEWpemGOARwVzfFvajs889mlPTmFXqIcc2u6zcAJzjFDjwhwDPCqY49vSaHyWdzRccRskeKAeNtBonwUDzDFCjQtzDAAAAACAOUaoeWGOAQAAAAAwxwg1L8wxAAAAAADmGKHmhTkGAAAAAMAcI9S8MMcAAAAAAJhjhJoX5hgAAAAAAHOMUPPCHAMAAAAAYI4Ral6YYwAAAAAAzDFCzQtzDAAAAACAOUaoeWGOAQAAAAAwxwg1L8wxAAAAAADmGKHmhTm+X+Z5vnUWHppHju8jl03nyOXcO28173/kOKZw7/mP8chlA7gFmGOEGtexzfGkhq5Tw3TrfByNWY19p/pxWRRNauh6Nd7LGmkaVNcN6qbVGs2DL76P0g7vue3k5NUu55bkYm2kJG57t68KZU++1959Y9v9p2G5hr58DPS8hf6/5J41uac2smdej9ye9gVzjFDjwhzfIzUXvzcAc3xD7rztJLO3OS4Bc5xO/v3nsVfd5QL68vHAHNdj57zOo+r7Ud1bCysFc4xQ46pjjk+TdNedZQ+m86j6TjtuD+b6cePa88A/6tcLk2HwXlI+zxPt5E9rGjptweX7W+zesxr7Xo3jYNx3HnstJla5gjGz0hkm5S4StpdTjKlTfyn3O9Xj5dgoGVM3VsVtLDkPofhK7VDIn4OVn2lU/SU/ngWPY9Ti6fnb1v5tJ9qmnfLb97LLZ7cDz6LamxdfOVPqKKedpubFZu/2ta3s6e3FFwc773bMpLxLbU7rC0s/D7qBSQ2X9OnL+/flUxp2/Sz/nsf+nO7GJ8cpc8+ckt+cOq3Rpu1ihPImjYNSWlL/KF8LTMM9fgBTBuYYocZVbo7dT6/XCVEp3+JgGvQJQD/u/5RfnyymITYRxe51niS0jJj3EtJyFjSxtOwYnNPW823fz/i3FLPYdrrCckZj6suLdD+5Tk08sSpuY9vykN4Opfzl3l9aUAvpRdvWjm0nmq6Ne6/TAtIyNr7F3Oy/Pl4naX00vY3k5MXm2u2rZnvxxSGhHoNtKq3NDZNyjJe35MZTY1/+6cu1+7IR82lQfd9f8rQaqy3mOGXuOV+bEKdwLPzpSm06uY0kzPXb+0+sf6TNm+K4NQ0JHxA9FphjhBpXsTn2TprWp8mxaxIW0PFP3ROPzfqn+b77S2lZx8Uy6DHwLDBzt2ymLoqKy5mbF+F+vntnbWkOnV/Yxkq3VWfVfyRvy9nGgqgwveyyVWo7We3Itx0w/oGTz5Amm44tMUv+znFun9q5fdUoezCvNkI9Sm0quc2d/ht/guXLK31ZS3ifvqyZp3ns1TAMZzOnx63Sd46duSdgjnXEWDiJxNt0hTaSnFZJ/xDzmTpu7bV9/bhgjhFqXKXm2NwuZMpd2OrHTwNw/FP5vEWn+OltYDvf+sl2PC19G7X+/3IMfBOnud0pNknbMYsuiiqU008oL/H7eevEO+GbedXvt0sbS8hD6oI6PX9aeaL5KU0v1rb2bDspbfpyoWfBpafl6zPbzbEUs/w2cj1znNu+csue115icfBcI7WpxDYnb9MPxJG+HI1rvb58um4aztt0L1upPUY22xzH5h7/NnOnXNFY+NILt+mt/dEfy8L+E+kfcj5Txy3hg+gHBHOMUOOqYo4Tvr9jTBySebKuPYo5Xv9tnivHID65nLaK6ZNbPGbXNcdSXq5kjmu3sdrmOGPbWZUFdWJ6btu6Tttx03Vydn1zHInZ4c1x1rbGvLIbpRLbi3PFVczx5YmdOA7E2tRyDn25bl+e1dj3apxnNfbL/DioyXiZ0/Zt1fG5x/8dWSO/e5jjjduM/XN9uTn29Y/UeTPVHLf0vWPMMUKNa59t1dZx33dY7m5btXbOaN1LfPKa8smrMCHealu1mJd9tlVnPdne0sZ23/YaQcxP5fQ8pvM6W/KlBai8rbqWOU5qQ3e1rTpGZtmj1x9lW7WnXEl5oS9rCe/Ul09GbBgXM3w2y+MQ+D50ojlOmnviLwrrxzkhFk7CG7ZV5yB8SFGrf4j55MlxCMwxQo2r1gu53JdNBb4LdHn7pH9hab5QZdtTTv+9Ml5sEUnrslXJOFGIQYrhm0fVJ8es/EUsmz9wEOrPvcbOz/I0IMMcF7exbXlIXlCL9e+/fzg/9vFlW15ierG2tWfbiaZr49aB78VI1cxxYh9NbyNXNMcb21dy2bPaiy8Ocj1WeSFXdrl9f6Mv1+/Ly/lrXqahV73RfzeaY3HuSY9TyQu5vG02tY1E81baf2L9Q8pn6riVsvX9scAcI9S4dvkpJ2sgXbcSLZOANSgbP9fgeVKbvOiM3cuTz9hPIoTSCr4xNRYD/yevZlzM41LMTJNuT14VyhnMp52XlPvp+ekTfsopN74JbSwrD7745pQxtgXRf/4w+HcpXO412U8QcuIR+A73Dm0nlq7J+V7DEEir1Bz7PsiS6iinjZSY4/3bV27Z09tLIA76z8Fk/VSTdNyNTczYuG+rpi/v35fd+5kvJVuO53/nWJ571mvj+ZXaoF2WzDYttJFw3qRxUMq71D9i+Uwct6wn+C38tBPmGKHGVcccA0ARxVv17o3YtkaArRzgKVdzfRm2c/xx0DHD86gGzDHmGKFHFuYY4AA0t6A+/qIQ7hPf0+Or0lxfhu0cfBw0Xqq2/Gl4+C3WmGOEGhfmGOAANLegPviiEO6YG79AqLm+DNs58jh4gF0YNwJzjFDjwhwDAAAAAGCOEWpemGMAAAAAAMwxQs0LcwwAAAAAgDlGqHlhjgEAAAAAMMcINS/MMQAAAAAA5hih5oU5BgAAAADAHCPUvDDHAAAAAACYY4SaF+YYAAAAAABzjFDzwhwDAAAAAGCOEWpemGMAAAAAAMwxQs0LcwwAAAAAgDlGqHk9kjme57no+JG557zfI48c70cuG0AO9IVjQ/3Ug1imgzlGqHHd1hxPauh6NRaP2bMa+071wRvZxyc1dJ0aptJ0F2rfT0cqW+NMg+q6TnVdrRjt3VZuia9sNfrfjZgG1XWDuk3VPFK7aJFH7ufXYO94bZv3pqG7zAdd16mOClUPN+5fAcwxQo0Lc1wDzPGtmIbaC6BHXjQ/WFvCHMNmHrmfX4PjmWN3LjjdA4P8YOP+FcAcI9S4apjjeey1T2tts3ueoJbj/ajWw7Y5jp2rlJpH1TvHrGucidB3/Dyxj9r9svJt47ufvWiP388fQ6lsyzm9Gschfm1SelqdTFvL4rvejO329mJF3XhKsOQxdn0oVoG0d2krS4y0e02j6i/59yw6HRNYqy3l9D+5XkX0/nvWWs6U+1txGyPmeB5V3+l1fS7zZP07KW++dmPV03K9p4/6PsCZx177mxT3WHuQ2nSd2MfalB2D5d/z2IfH6ax+qZ9Xo31eqZ8/QMzj80RpvELHU+Y9m8AH7TljZ+6YwbgfSddDxTFZHlPLwBwj1LiKzbE9gDsLN/MTS3Py1gfplHOXwdE+d9uTYz3f0+BOzuG8OEFw7neaMBLjkBlDX9nchc/W9NLKok9CZuyE2Ba1FxdzkpTy5ouVP577tRXp/ilmqFZbcvvf5noVcct1+nAj3O7icXbPN7DN6rIAW13EaaE2p+TN1260ayyD4hbdv8jVxzIp7lJ7SPrwbmvsI23KWJBOg+r7/lJH07DUl9RH0vtlvfZ5nTnhrmOeOU/kxSv/eJyUp8RCG8oaMxj35XTtEFQck6NjajmYY4QaV3VzLB7TBzFtkJbOjW6hrLCtWr+/mG+noJ4tZtrfrlq20vSEssz6p92+a7bENjHf3kvsyTWWt5QF185txXO++eFDYXpZbUnrf6X1ugXPYjur3AkLMfNJXezfsbz52s1y/em/8Tble8p8vndx3DdumSyNvX7eeaE8j70ahuHcH6U26X5AEC1D9fa595zg4d5injtPFI9TmfkL5Cn4JFdqQzljBuO+3E6dbNQckyNjagUwxwg1rvJt1eaWHHNXjL7dxtRpoF4HaencvE9lpePxAV/Ot41vS9eapny/cAxTy5YX91h68bLoCzN/HhOfdG1qL57I6+ZYzFvKYnbftuJtx3P69rq6bcn6cKqoXlOxFrA55U5a7OrHPF8XMP7t/xDIzZuv3VhbJIU1vN5O7Sd/NfpTmkHbFnt5vDidNw3n7Zf9qGbt76ltNlqG6u1z7zlBj8+dxlzMw/Z4peZv+/dktbin9rWMMYNxP6WdOkGoOCZHxtQKYI4Ralw1X8i1fgdUM7zidr+0c69ujpO3i5rl8KWZcz87hpvN8eb09jbH4bTz434Qc5yR5yqLpGpt6ZrmeF3kXNLPeJK2rzmW8hY2x5enNknfPx3UZN/rKua4LPbGnbxtqlfjPKuxH9S0GLR5MWwpbfZOzHH2nHDnMY/moSxeqfkrfomUPg7UNseM+0K6ThAqjskqPKZWAHOMUOOq/7Zqy0hFF8/Stmr91JyFjnS84lah0P3sxXPW/VxDl2OOy9LbeVt1LO0NTyK3bKuuaY6z8yxuD67dNmNt6Yrbqn2LsN23VScuxMS8CeY4aSF/vsdoxbnStupsY7nRqOllWco7j/2pXP2o5sW4jUN4URuKTawMh9xWHeERYh7NQ2G8EvOXbI6D98uYu3LHDMZ9IV37UM0xeU3LGVMrgDlGqHFV/86x56UVxiA3DYGnlCnnroO0722v1cyxmBcnCCrl5STB+yXEMMscF6WXWBYtwawXCBW1F5ctL+Sqao6z82zn0Y63fXzZtpaYXlZb8vS/rfUq4c1X+pMoOW4WJQtdJ2+SOVZiOz3d9rw10rhRWpuV2oNojktiH21Ty/G1XU1Dr3ojT1IfydjiW6197tzPHyHmCfPE9nilHc9+IZf3Dc6hMcRqQ1lPNhn3k9qpEYKaY/LyZ9+YWg7mGKHGVePJsfmTOgGjdjkeGxxj5yptgHQXxdIgaR5PWUgJeTEjoJyfO5B+tsK6XyyG8bKFFjlb0zvHZhjW48k/waFdH4nt9vbiEvxtS2/e0p6W7NtW3PNPsdbvZ32fdbI/Ga/VloT+t6FeY4tZ96e3cp9Q6Pnr037KKWmhK+UtwRwv94htfQy+1ToW9zUtf3tIa9OlsY/3Wc8Hl069xNps6lPMsvbp3G3nfv4IMRfniaJ4xY/b8540vvjymzV3ZX8nlnFfStcsfs0xWb9n3S3VSmGOEWpe9bdVw33j21YNu7JhO/khmUc1lH5H8JGp/EZVALhjHmXcvyU7jamYY4QaF+YYTDDHV+dBFknzOIhvbW6ZeewztokCwEPzIOP+LdlrTMUcI9S4MMdggjm+OiySHpvl6yCZb2IHgAeGcX87O4+pmGOEGhfmGAAAAAAAc4xQ88IcAwAAAABgjhFqXphjAAAAAADMMULNC3MMAAAAAIA5Rqh5YY4BAAAAADDHCDUvzDEAAAAAAOYYoeaFOQYAAAAAwBwj1LwwxwAAAAAAmGOEmhfmGAAAAAAAc4xQ88IcAwAAAABgjhFqXphjAAAAAADMMULNC3MMt2ae57u+/5FpueywP/fUvu4pr0rd17h4b7GF/bnnNoE5Rqhx3ac5ntTQ9Wq837H3gcmpm1mNfaf6koqcBtV1g5p2uX9mO5sG1XWd6rrCMlXBLvvOfebWZY+2g8plN9JqdSyq0HeLONI4Uxtf3+3UUC3xmnUn3at23q99/z3R2/CRxpHSmN56bCgHc4xQ47pPcwzH5UiL1utO0tPQqe4wq7TGyn5N83JVo3RU7mkBjDmO33/Pe2GOw2COjwrmGKHGVW6OZzX2vRrH5cnRMsCfBsjlaVLXj8ocKk8D8OWaaVS98TTGGpyDT2u2pl9ehnns12PGxHbO3zSq/nLcXljF7u273pw4w2mX5LtGXKxJftbLcNKpXq17XCo7s92MoUXr1vvbaVmLl0CdTINexiU/sbQ8sf1hVH2n/+2c72nwlCM3tvbiq6z9GVHKLnti/46mn9oO8uoxUMJIWqntPeVegf4Wu+ec12bS+/6SH18dBvqWns9ov/LFNzZe+uKSWqd7jzNSrKT8Cfe59N1ODWPs+tRxbVs8/O0mdC83jmbec+bClNja/SGUFyX2z7T+ccqPnebaDfpwXwnOlYI5vmq+E9pb9ry+4vsgdR77xLYozR11wBwj1LjqmGPfwt/85NA3YdifjHebzXFu+hXKYA/ITv7MRcBp8rKMg1bAadDTd683jkfTLsl3hbg4E75ZjycjFcprabvx59++fzjuNm5ZgnWi7ElfSssTW3thtxgcw3xsja2nz2xtf75IZZU9pX/H0s9tB3n1aJIyVqXWyen45V6XBaY1LgiLQeOeOW1mQ9/P7Yv6Ajn9yVHieBk1FjntZZ9xpl5/ktOPly9tvkuOR+Z8Y1I6F2aMJZbZC+Ul2Jcy+odh5qZB9X1/icE0LPHInStPw9DVAAAgAElEQVRDpvba+ZbaW+7cYxfHzp9u2kvnjjpgjhFqXLXMsTEQegcrbQD0HDcnzHxznJX+TmXQLvZsS7Incfta/Rqh/LG0i/JtsyW2wifgsYXVlrznLPDFuDuZjRofO23DIIppeWLrLO7sNIXtbtFFq1aW0vbnTTqn7GnmOKv9J3/nOLNsYloZ7X0aAk/kUo2G5545bSan74v9PKXvpiKMl9645NTpzuNM9f6UsK1anA8y5ruiOWPLtuqMuTA5ttYHT6mkzqu+6859eR57NQzDefyT4haaK7e832KnfG8xoBs+MDGfYOvjWd25aQuYY4QaVy1zHN7iY6ofZ/+n2sagmG+Oc9KvUQZ76487+fu3vfXj7F0kmxNK2mJP3l6Vm+8acfGVXd+iGP6Eubzd+PNvLAKjcbcpMMdiWp7Fq/Fk2E4/kIfE2Br3Km5/nkhllb3MHOe3g+3mOG2sSmvv5tZBX9oxQxOo56w2k973U8cRo+9mbaW2yxYZL71x2W6Oq48z1ftTnjneOt+lxiPeblKMUMFcmBjb+HZiX57CY2ba3Dip4XzdNJy3zF+2JKfWS645vk6+09tr6tzjyYU2X9hPs2vPTVvAHCPUuHYzx5GF0lXMcdZCrewe63cuYxNdTXMcTrss3zZb4uLb7hh6SpG3wMYcu5+gp8YWc3wNcxyvk23mWKjnTR+oyH1f7ud3bo5rjjNHMMcb5rstdee2m2OY48uTWnFuio2ZsXLazGrsezXOsxr7QU2LuZwXs7llroxvq75WvlPH5/S5x5eNpT9ZfRtzjBA6gvYwx3lbcHx/KzPH+YNlvXsEB3D9b3tuwyvKt/9YXlwEE5a93VFI+863VW82x7mx1e/Ftup9tlVLdZK4rdrJW+yeG82x0tLz9n2xn19/W3Utc1x9nDnktuoYpXXnfnBx+23VnnI5WZHGzFg5PUfH/vTSqn5U82I6xyEjronm+Nr5TmlvWXNPOI+nl35p5WBbNULoCNrFHC/bfPQBdBqcT5vXpyjLJ5HWNqH1SynnbUOJ5lhMv0IZ7AHZ87IkxzhtecmIkXZgMWSkXZLvCnGxzYKTVuypQ2m78ee/5gu5ks2xmFYFc5wVW7fP1HzpyaaXkUX7d8LXCpLbQYE5FtMqae/+cS+aN/uexW1GeGuy0BdDC2rvU/IgaeNlNXO80zhTrz9lmuON811yPBLmm5wXcuXNhZmxjZVb6ktZ/WM5fy37NPSqN9ppxlwpmeOr5nvL+iNnN8FyWa/cN1qXzh11wBwj1Lj2Mcfr38M/L2B9T2awFwvWd4mcn3qKmeOU9MvLYP6EjWdyGYb1eMnPU5wScxcY3rRL8l0jLuYk7/7Mj2cRbUyQOe2mF39iRbx/5hbxdHMspVW6rTo3tva9ytqfE6mssq9phPu3lH5OOygxx1Jaee3dKfc4CCZQuGdRmzHTWt9W6yu32xedvmX8vIsZT/feRgmF8bLUHO8/ztTuT27fzekP0nyXH49Yu/GbHL3svfkzVllzoXTcjU3sA0+pf6bPjW7a5i6QQN6DfTW2rfra+c5df6TM6x6CbxcvmTvqgDlGqHGVm+NK7LA15nbEtjICAJwRvyd5ReZRDcLTnn1gvARojuh7Im4L5hihxoU53gMWewBg4Wz5TNt+eC3mcUj/KZmqMF4CtMY89ocZ+2wwxwg1LszxHrDYAwAX++ddjro4vC6MlwDNsHz94ig7ZjxgjhFqXIcxxwAAAAAANwRzjFDjwhwDAAAAAGCOEWpemGMAAAAAAMwxQs0LcwwAAAAAgDlGqHlhjgEAAAAAMMcINS/MMQAAAAAA5hih5oU5BgAAAADAHCPUvDDHAAAAAACYY4SaF+YYAAAAAABzjFDzwhwDAAAAAGCOEWpemGMAgP/f3rnkPK9j53pQmkkQYEOjOI2D2oCGEWQAVWloGIWko24mEATV0hQKp8fTsGXzzrVIypbM5wFe7P1/snlZvIivRMkAAACYY4SGF+YYAAAAAABzjNDwwhzL2Pf920X4CYjj9aGNXIgH9IT+BHBtMMcIDa52c7yZZZrMsjUm08q2mGlaTLwYm1mm2axVa5LdrPNk5teXL1Lf2xGLY22b9GNfZzNNU1KPdh6lzenrLhfqs9vy6pPztwdNkdH7TYoL9ScASII5RmhwjWGOW8Aw9MGP4wXZVzNHF6ujtDl93eU6fXZbJjPdpiFG7zcprtOfACAN5hihwdXNHK+rmV933HyD8VgUvO7IzatxD9vfte/YHd+dzbouXtqPfF9/W6V3jp//v+XKmyj3svWpb5CNlVbw2Vxa+brEFtTu33Jpx+Pu3mn16p1sx1Qc7e/X1/ORdaZcUkrmuLrNU324oZ+Ix4k0j5q+Xpunst7+WN9WM7/GesSIBRfK8vnF+851+uy22G1+1Kumv/m0zMsmM29JxotfFObA1v4EAH3AHCM0uHqZY3sxui32iT28Wr6vs3U8XNw+FoPeIjBYtIR3uOTmOFden3JeuvrG42cvoN7ffdbdCo6bV6EsgUnI5eWXMxJ3Pz3n37J2jG8p7FzP2l0EBXNc3+aSPqzpJ1YZVOOklEddX9fl2btMJXNcyC/bd67TZ6OGLpl3rF1KcdXOy7m5RDvHMgc21xMAuoE5RmhwnbKt2l4wRBd9j4VActtdYXEbTVP8zLHkTlNY1uxW05b65vLe7Ttkdl0yz8LmFmuqcgrjnkNqNFrr2WtLvWZb9SmxLIyLoFgV4ySbh7Kv1+TZYXw87twJzXFVeXLx+E6fdcxxMW/B9t3Webk43yrmWObADvUEgF5gjhEaXGeb49wLj9zFm711MrzabqcfvdMUXVzYaX/GHMvrm6mLnW5ii+EjrXJd7EW1/f/lcsYWyu62v/giOt+O0YVhcz0l5RJQaY5rYqntJ35ZxONElUedOdbk2WV87PJt1dK2ifed6/RZxxwX8y5fZGmdl7W7HHJzLHNgn3oCQB8wxwgNro+Y4+zWr/dC4rVokCzAr2yOFVvdzl4Yvv/tfrZczvwC+/0cZPgMeK4dz14YhuVS0GKOlbHU9pNu4yRLJ3OcybPL+NCaY2F+Yd+5Tp89xRw3zMt3MsejzYEA0AbmGKHB9Z1t1d5n/UVBYQF+v23VGU7dUmh9ZvXSKpZTssXXio2wHT+zpVCwrTT6tZ7bqsPyNC1se42TLO3mWDTeW8dH4TnPti33ocm8Qp+t2VadHbut8/JttlVbnxlqDgSAWjDHCA2u081x8qUm1hVz+wT/etune/cmurXt/SCZ+oVcp5njUn2jZfPuZohfvCOry2v7oPPBUjkFxsc2k8J2bHkZjdgAJU1ugVpzXBNLbT9pGSfivtjBHAtjoS1Teqz7x49try3zz/X6bM0LuSSmrn5ezs1b2jmWObBXPQGgHcwxQoPrfHNsjP+clr8QDn+qRHIXxE5T+1NOukWGu7Bqr28kA+vnOeIviEn/vIegLs/08zH0yxmPu9tW7vF8O8biqPkZE8FzhZlyie4iV5vjulhq+0n7OCnnoevrtXkqx4f3+WWJ3xl8pbX5d+E080/iGeoP91mf8CeJcnlLX+zWMi+bzLxVYeSYA5vrKZ7nACAL5hihwdVujgEAPgh3zAAA4CQwxwgNLswxANwKzDEAAJwE5hihwYU5BoBbgTkGAICTwBwjNLgwxwAAAAAAmGOEhhfmGAAAAAAAc4zQ8MIcAwAAAABgjhEaXphjAAAAAADMMULDC3MMAAAAAIA5Rmh4YY4BAAAAADDHCA0vzDEAAAAAAOYYoeGFOQYAAAAAwBwjNLwwxwAAAAAAmGOEhhfmGAAAAAAAc4zQ8MIcAwAAAABgjhEaXphjAAAAAADMMULDC3MMAAAAAIA5Rmh4YY4BAAAAADDHCA0vzDEAAAAAAOYYoeGFOQYAAAAAwBwjNLwwxwAAAAAAmGOEhhfmGAAAAAAAc4zQ8MIcAwAAAAAIzTFCCCGEEEIIIfTrKprjb9/ZQgidp9wkAAAAAAAwCphjhAYX5hgAAAAAAHOM0PDCHAMAAAAAYI4RGl6YYwAAAAAAzDFCwwtzDAAAAACAOUZoeGGOAQAAAAAwxwgNL8wxAAAAAADmGKHhhTkGAAAAAMAcIzS8MMcAAAAAAJhjhIYX5hgAAAAAAHOM0PDCHAMAAAAAYI4RGl6YYwAAAAAAzDFCwwtzDAAAAACAOUZoeGGOAQAAAAAwxwgNL8wxAAAAAADmGKHhhTkGAAAAAMAcIzS8MMcAAAAAAJhjhIYX5hgAAAAAAHOM0PDCHAMAAAAAYI4RGl6YYwAAAAAAzDFCwwtzDAAAAACAOUZoeGGOAQAAAAAwxwgNL8wxAAAAAMBHzPF/mb9Mk5ki+st/9lnc//3PdFp//7NvXgj9mtrN8W7WOT7Gp2ky07JlvruZZZrMNC1mi/77DI48UuXz6pMt//XYlsm8i/yJeAIAAAD8Bl81x9P0h/nr/7Yt7LPm9z//7G7EEfo1jWWOE2W1yrgt2jpch6PsNykuAAAAwKX4nDn+4z/M/1h/P0ztH3/7x+NvlpENjfM/zF//ePztL3/+8Tz+L+b//Iu3gP3zv975/u9/mD9OuEuN0K+p67bqfTXzNJlpXs1+/G1bvLE9m/V9sGCO32b2ZfiOPF6yjXTBXPvlS/1bZdZdwz2v6+M7rxgcxyPltONkjNnX2YlVeFM7VfeI6V+2ZPn9fObVKcW7vE7beTHItgMAAADA/biIOU7cXX595zDH9rF/N//m/+1ljo/P/2n++rc/MMcIZXSuOfa2MB8KjsfN6GHiwm3C0vQKPM3fyxweZjC4k2wbej+JxB1zpTlOpfM2rrm6y81xsrzvqw/pnQCvz5TaAQAAAOB+XHRb9fGdP83f//n/jGOO7bvD/4xvq7b/9j+YY4SyOv3OsUPpTrH172dazl3NYvpyDpPopO+bZVPYqvy6e2qZ58Nga8xxtF7e9wR1D8vqxTdW3tdnjr+9zXFw0SBbXgAAAIB780VzHDPG/md9cxx+JzDHz+3Zx3ZtzDFCeX3GHPt3GkvmeDazv506mk7rdl7PgGrNceROc3hXWGCOg63ntg7TWq570RxHy+vfoT/KGzHQ2R0BbKsGAACAe/O1bdWOvOeD681xZPu1Le+uM0LoZHMcPJcqNccZ0xVNM73t2SG5bfppDLXbqj9qjst172uOC89It7QDAAAAwAW5hDk+7u6+Xs71MsuYY4TO1pnm+DBdrzuxxRdexZ85njOOS/WG5mT+T1OnfSFXZJvy62VXgTl+lzH4TOU2Zb/ufbdVl18glisLAAAAwN24hDkO31Stv3OcMr9sq0Yor1PvHCfviMrMcdrcSdMLib6QqvRirIzjK7+Qq9NninX30mh+IZfgGenSXX4AAACAG3ENc/xP1+T+8bd/eKY2bY6dLdmRPDDHCOV19jPHthmb193bwiv4nWP/OeDAmOV+GipaSPdtzMHdUO948Vao+/lli91ldbeLxz8TMa5+2bJ1947Pq9lbf8rJL392WzVbqgEAAODefMAcI4SurK7mGIxkCzIAAAAAXA/MMUKDC3PcG8wxAAAAwB3BHCM0uDDHvcEcAwAAANwRzDFCgwtzDAAAAACAOUZoeGGOAQAAAAAwxwgNL8wxAAAAAADmGKHhhTkGAAAAAMAcIzS8MMcAAAAAAJhjhIYX5hgAAAAAAHOM0PDCHAMAAAAAYI4RGl6YYwAAAAAAzDFCwwtzDAAAAACAOUZoeGGOAQAAAAAwxwgNL8wxAAAAAADmGKHhdXdzvO9703GAK0P/fUAc4Jehf9+LX2uvX6tPK5hjhAZXL3O8LZOZJkvLZh81yzQZ50/N7GadJzOvqUm9dNxnM8s0m8fHzyhvT65ePmhH239/FT8O9ji9Gv4cEvv/2HfuMpbvVtar9hOba/TvfZ3d87enR5tfrf1rxlsrpXn5CjHS1L/DeWZbzDQt5jLdogOYY4QGVw9zvC2+GX5MuO+/YY77cvXyQTuY4wd3jQPm+Lvc1RxfgH01czR2V25/zHEdmOMYmGOEBle7OU6ciJwJ83nCWFczv65G+995Gurj+Lya3Tk2m3Vdnsf/1fzff03dpY6kdRzf7fztK+J+PbwT3PG95x/cq+z5k3D6s5GTqH+SscvrxEMSz6Agmbrr6iSK45YqW+m4Mfm+UIqbIP1kXAt5H4vGVz989onN+7e4Hqlyxvuvqo1U4ym1EFbEMegHsTwS+SbTicXBn29qY3xUQRLTRx7+fPCeVuZnvg13jp2x7C80c3WMlDY75/jx0OSVnxdb2yJSk4b03jEPL94+Y5R0MK31kLZXoX93nW8UlMxx5Xlc3g5nj7fa9kusK4oxahnPpTEbm1MjsVCcZ8rle9TxldaKOUYI/ZjazbF/lzjGMZm+J9BtiZx0rDSix4MFvubOcWiqHlvBPVPlm2PvxBwY2NxV0+xnJSbPNQl+XdLxDAqSr7umTqI45srW2hdkcSvlH49r2KfeCzETmoFjkepcfHEXHsm0hHF4fV/VRjXjyUcTR+v46/PpMVu62BFLJ77tVNZXknVQxNRZxG+Lmef5VaZtOcpXb47tfB/mNlV/vx/5yZXnnFJeorHnz4vN/d2nsW3tmAft6pmvrvkq2yvXv7vONwoK5ri67op2+OR4q1mLlO4cdxvP0jEbu4Czx7+fr0+pfOW1yC+AOUZocPV55ti+kpi+0pg0NPtq5mByzZmY1N+M4rhXhqg5fvzXSUOzhUhpMp3Pt3xXW7bWbVHVpj9yvNgXGtPXXMwwxjgLuMAQ+HlZ/y6lVaxHwRznqBpPQTD0fSxX/uTftOn45qGhr2jH8nNe29fZLMvyXED7bdrjmWNNP4qUUzNvBIZXEk/pvKjp7x5d5oHcTqCT8tW2l8Ac95lvFGi2VavqrmiHT4635rVIIf2mdiqkFy1Ppu/79RWdZ6zyxY6zrRoh9Gvq/7Zqyyjnnjn2T6qJ7a2PSTt28qg1x56RzyymJFuu8guP3GfzMZFcTdab41TdNXUqpdXBvGb7Qlv6ubjmXkozr3tk0egvwt55F9PSLlo0bVQ1noJEhH0s36diYza3CEylEzUPzX1F0+83szy/ty3PbYqvrZ2pOUSxzTMyx8zrLuhHPqU5J52XNJ7l7ek1/d0PS4954F1Ge0tvdkt1Y7617ZU2x73mGwWV5lhSBnE7nDre2tcieXPcczwXxmx0Tq03x6XyRc+fuYscNwVzjNDgOu2nnJwT7BXM8XthF79KmjihRMt2fD1loCWf/aQ5LtVdUydJHG9sjnPbELWLVcG2Zbk5tj9WaKOPmONSP5CaY1k655hj+8+lfv98tm/fzTovZjsW6fuxaPfK1tMcVz47Gp9z2s1xbF5s7+9B4bua4/cCvtD3e5hjVXt1NMe1zxgHRWowx6UySNvh1PH2ZXOsaqcvmONM+TDHmGOEhlCzOU4ucBRb0YRbmZrMceykJ9qG12H7dvSzNVvUXh9sX2gKnlmN1kkUx1/aVm2HRb5YLd/JrzfHpnS8ajwpy1fsB0JzLEznlG3VAfmY7+v8eNHOvJr9WLyvS+J56IbFuqoflSjMOfbfVPHUbvtXtkXXbdXv8j5elFQa4x/aqm+Vq9Ucd93a2nVbdZC4rB3MB8fb17dV5yik19kc6x6dyfzt5mCOERpc3V7I5S1w3ZdGCLc3Wh+IvTSi2RzbE/jrDbmpk6uV37a8PxdNJ3MHL/lZv87Hdsh4zNwtaBXmOFf35jrJ74j36gvSuJXyd+Ma6ct222sWq6W0WhctuTaqGk8+yoVw0A8U5liQTssLuXR1yOwC2RZvi+hsZqc+9Yt1uxzFl6c5/ShWxlSdhHlJ4+mUo7W/+zS2bSTmry2j2Y7fmq+yvXqZY3W+uRBUmmNhGWTtYE4db63nH80LuZrGszC9bua4WD4/PmH5fgHMMUKDq9e26vcWvqdUP79jzNvkxL4fX8yXTrL+cbeMx1Yt+45A+oRin5D8uubO8fnPvreUTtPzuaqoUfBPPtqFZqnuLXWKxbHFHBuT7wuluAnST8Y1knewNVO6WC2kJShnvv+WzK1+PLmUy5fvB/Jnjkt9041D/I5g7byji2msXP64rNxWbf/USmJbZ7wfRVJM1ulZ/mXJjC1dPKML/8r+HtLStpGYBy+4OiPfUhwiuaX6d9f55tFWoh1O1eZYWHdxO5w13trOP/l1R+/xXBqzreY4Vp9S+ezjc/BTTuJ+dmEwxwgNrtOeOQYAgAsR26I5ED/4bOQtoR0UDD5mvwTmGKHBhTkGABiBsRfa+zrf/o7WL0A7aBh7zH4LzDFCgwtzDAAwAoMutI/HKHq9zRnqoB0qGHTMfhnMMUKDC3MMAAAAAIA5Rmh4YY4BAAAAADDHCA0vzDEAAAAAAOYYoeGFOQYAAAAAwBwjNLwwxwAAAAAAmGOEhhfmGAAAAAAAc4zQ8MIcAwAAAABgjhEaXphjAAAAAADMMULDC3MMAAAAAIA5Rmh4YY4BAAAAADDHCA0vzDEAAAAAAOYYoeF1NXO87/ut0/8kv1SXq/HLsf3lutlcuZ53mueuHEcJdy9/jl+uG8C3wBwjNLjazfFu1nky85o6SW9mmWaTPCxOp5Wz029hM8s0mWWTfl5bF7sNtHl1ZlvMNC3mW9mXy+DH9svx6kqsbpKxeQU0Ze0w1rN9pCVuZ/evnvOcZG4/c2zUpb8tx3cYy9fAP//E/r8lzZ7cqY+cWdYr96fzwRwjNLjON8efTudb6beAOb5OGUZaUP8qZ5vjFjDHcvTp7+tsptcXGMvXA3Pcj5PLuq9mnldztx7WA8wxQoPr03eO93U20zQ9dfz9kcbr797i5vV3Z6J+prutZg7Si5dRl74gHf/zu12Wh5wTl308qMtklrWhLtm8M+b4+F7qDCtJN9sGj/xex9aSMT0+k+kf2riLyxCLraRttP3IK8+2mvlVnsiCJzBq+fzkY8xfYLaNt3i+qfr7afn18/tBZFEdLUvtWNf0U2lZfM7uX3V1183JYczcsvsxK5W91OcUc5XZzPLKn7F8/lh+5OG3z/uUND/zrbxzLD6nlcqradMefdqvRqpspXmwlFdpfLSvn7bljhdg2sEcIzS4PmqO/YWB828/nTDd98n2SNc9mWxLeeHop28vtHTfj5fHXghti10++3j8jkZ9XSR5R8yxt5gJkdUpXe5yPWP1cuvdGve6MsjbplQ+bfqlBXUhP9UYs/tFaTwU4pDN1ydM67GA9IxNbDG3x7+fb5NSG2n7iKYsPp/uXz37SywOgnZM9ilZn5PNVf5d41j5Gcu9x7IT820x8zy/yvQ2VjXmWHFOE8RJfp6X9WlxH8mWrXX85MZHp/XTtgguEP0emGOEBtdXzXEunehn7SvVkqvymfR3+wq/XdbEAqxYnsJ3BGahui6lvKPm+PFf9VXhyMk9We5YHbT1OiPurduqi+2aKV/k8+6CqDE/dd2e/aI4HmrKlSI2znIXj7yyak1HTczEzxy3jt3O/atH3ZNl9Sm0Y6lPifucZK6KlZWxbGV8zli2zNO+zmZZlqeZ88/VHZ45Tp3TcuXVnudLfbpDHxHn1TI+uq2fztq+fm0wxwgNrs9uq3a3+bgnBTcddyuSq/fV6IZFafSKaLou5fLY9bWPP8qTvwPRyxzH844t5stbX6XppssdrXP0hO/Wy07vlLgLyiBdUMvLZ9UnW57W/ORjLFhgZseDzJDG8/WJLbjsvGKLzXpzXIqZvo98zhxr+5d+HtX0l1wcIt8p9Slhn5PNVTGjwVjOxbXfWH58b1ue23RfW6lT5x+NOZac0zLlVZ7nS326djzGY9k4fjLjo9/6qXAh+kfBHCM0uL71turHFil7Uo8s6iTPBn3SHAvK45wkS0axV10KeScX88UtU5J0P2COe8e9tzlWbDvrsqAW5lcaY30X1Ll8g5J93hxnYnZ5c6za1qidR+1sS/0l+MZHzLF8rsr1qeMzjOW+Y3k36zybdd/NOi9mO0yx8zKn+m3VsnNaprxnmOPKbcZhLPuY49j46Ld+EuxS+0EwxwgNru/+lFO4IM5vB/TT/fa2au947HmdT2yrLuWdXMwX2k6Ubv9t1fI4CMr4lW3VGYrl6ZxfbozZ/aJ1K2Y23yAIom3VvcyxqA/dalt1Du08mvv+VbZVR+olKgtj2cr4pLH8MGLLepjhp1lel8Tz0EJzrDqnZcr7kW3VGgoXKXqNj27rJ+4c+2COERpAX33meF/NnLwS/tyOZJ8gt8W76tpygte+qKNQnmjd/KvE7/K6L4/pYI6LeSfi5sTUQ1mn8Dt+jI+7AQpz3Bz3ujKIF9TFfhpPP10e//ixLU+Yn2qMRbYmJseDcqHv5OsTtkHsxUjdzHGxjbR95IPmuLJ/ieuu6i+xOJTbscsLudT1jv2Nsdx/LB+ff5dlW2YzO+O30hxLz2mCOLW8kCvaZ6V9JFu21vGTGx+91k+Sre+/B+YYocHVyxxHn295XGp1Jtf31qLwGZzXczLBYiK2tUu7KBWkr/0pJ++k4dbt2GJmldH5aQq7nO11yeedX8znFgvldEvltmM2C37KKXaVujHuqjL4sdXWMbcFMf75ZfHT854l2/w7CJp45MaYv/DJjYdyHHL5ujzTWpZEXq3mWDuX+MdLfaTFHJ/fv7R1183JkTjYPwej+qmm0nHdXBW+rZqxfP5YDtNzX0p2HNc/cyw/p5XKqznPV/TpQh9Jl600D5bKXhofHdZP3h38UX7aCXOM0OBqN8cA0ETzVr27kdvWCFDLBe5yDTeWoZ7rz4OBGd5Xs2COMccI/bowxwBfZrgF9fUXhXBPYnePP8pwYxnqufg86LxU7fjTMsQWa8wxQoMLcwzwZYZbUF98UQg35ssvEBpuLEM9V54HL7AL44tgjhEaXJhjAAAAAADMMULDC3MMAAAAAIA5Rmh4YY4BAAAAADDHCA0vzDEAAAAAAOYYoeGFOQYAAAAAwBwjNHslXy4AABWOSURBVLwwxwAAAAAAmGOEhhfmGAAAAAAAc4zQ8MIcAwAAAABgjhEaXphjAAAAAADMMULDC3MMAAAAAIA5Rmh4YY4BAAAAADDHCA2vXzLH+743Hb8ydy77HfnleP9y3QA0MBauDe3TD2IpB3OM0OD6rjnezDLNZm2es3ezzpOZkwn5xzezTJNZttZ8D3qnZ1Oq2+Bsi5mmyUxTrxid3Ve+SaxuPcbfl9gWM02L+U7T/FK/GJFfHuef4Ox41Z33tmV6nQ+maTITDWp+bt7/AJhjhAYX5rgHmONvsS29F0C/vGj+sb6EOYZqfnmcf4LrmePwXPBIA4P8Y/P+B8AcIzS4epjjfZ2tq7W+2X2eoI7j82reh31znPusMWZfzRwc874TnAhjx58n9tVKT1Vun1h6/qI9n148hqW6HZ+Zzbou+e+K8rPaZKutS+z7bmzr+4sXdecuwVHG3PdTsUrkfUpfOWJkpbWtZn6VP7LoDExgr76kGX/ldi1ij9+n3vWUpO/Fbc2Y430182S39bPOm/dvUdli/cZrp+P7kTEau4Czr7P1t1Lcc/2h1Kf7xD7Xp/wYHP/e1zk9T6vGpf25Hv3zQ+P8B2KeP0+0xit1XHLe80lcaNfMndo5g3k/k2+EjnNyeU5tA3OM0OBqNsf+BB4s3Nwrlu7J256kJZ89Jkf/s3V3ju1yb0t4ck6XJQhCkN7jhCGMgzKGsbqFC5/a/GR1sU9CbuwKsW3qLyHuSbJUtlis4vE8r6+U0peYoV59KRx/1e1aJKzX4+JGut/l4xx+3sE3q8cC7O0iHgu1XVK2WL+xvuMZlLDq8UWuPZeV4l7qD6KLd7Wxz/QpZ0G6LWae51cbbcvRXqUxIh+X/frnZ84Jt4658jyhi5f+eB7JXeJCH1LNGcz75Xz9EHSck7NzajuYY4QGV3dzXDxmT2LWJF36bHYLZYdt1Xb6xXIHFY1sMbP+9tG6teZXqMtuX+2OfacmtsJyR7/in1xzZZMsuE7uK5HPuxcfGvNT9SVr/LW2aw2Rxbaq3oKFmHunLvfvXNli/eb4/uO/+T4Vu8v8TLs57pVbJltjb3/uuVDe19ksy/Icj6U+GV4gyNahe/88+5wQ4W4x154nmucpZfkSZUreyS31Ic2cwbxf7qdBMXrOyZk5tQOYY4QGV/u2andLjrsrxt5u4+oxUb8n6dJndVdlS8fzE3653D6xLV3vPMvppWMorZsu7rn88nWxF2bxMgrvdFX1l0jkbXNcLJtkMXtuX4n2412+va5vX/IuTjW1qxRvAaupt2ixax+LPC7g/Dt+ESgsW6zfeFskC2t4u5/6d/56jCeZQauLfXm+eHxuW57bL+fV7NbfpX02W4fu/fPsc4Idn5vGvFiG+nhJy1f/nKwVd+lYU8wZzPuSfhoEoeOcnJlTO4A5Rmhw9Xwh1/sZUMvwFrf7yT77cXMs3i7q1iOWpyY9P4bV5rg6v7PNcTpvfdwvYo4VZe6ySOrWlz5pjt+LnFf+ijtp55rjUtnS5vh110b0/OliNj+tj5jjttg7KUX71GzWfTfrvJjtMGj7YdgkffYm5lh9Trh5zLNlaIuXtHzNL5Gy54He5ph5v5BvEISOc7JJz6kdwBwjNLj6v63aM1LZxXNpW7X9Uc1Cp3S841ahVHr+4lmVXmjoNOa4Lb+Tt1Xn8q64E1mzrbqnOVaXubg9uHffzPWlD26rji3CTt9WLVyIFctWMMeihfwzjdWLc6dt1WpjWWnU7Loc9d3X+VGveTX7YdzWJb2oTcUmV4dLbqvO8Asxz5ahMV7C8onNcTI9xblLO2cw7xfy9Q/1nJPfeQVzagcwxwgNru7PHEdeWuFMctuSuEsp+ex7ko697bWbOS6WJQiCkbycJJmeIIYqc9yUn7AuVoaqFwg19ZeQmhdydTXH6jL7ZfTj7R8/tq0J81P1pcj4q23XEtFyye9ElePm0bLQDcpWMsem2E8fyT63RjoJyfpsqT8UzXFL7LN96jj+7lfbMpvZKVNpjCi2+HbrnyeP81+IueA8UR8v2XH1C7mib3BOzSFeH1Ld2WTeF/VTJwQ95+Tjz7E5tR3MMUKDq8edY/cndRJG7XU8NznmPmusCTJcFJcmSfe4ZCFVKIsbARP83EHpZyu89HIxzNcttcipze8Zm2V5Hxf/BIf1/Uxs6/tLSPK3LaNlk90tObevhJ9/xNpOz3uedfOvjPfqS4XxV9GuucVs+NNb2jsUdvlm2U85iRa6pbIJzPGRRm7rY/Kt1rm4v/OK9wdZn26NfX7MRi5cBu2S67PSu5ht/TNI7eRx/gsxL54nmuKVP+6f90rzS6y8qnOX+plY5v1Svm71e87Jdpp9t1QbgzlGaHj131YN9ya2rRpOpWI7+SXZV7O0PiP4y3R+oyoA3Jhfmfe/yUlzKuYYocGFOQYXzPHH+ZFF0r4uxbc2j8y+zoptogDw0/zIvP9NzppTMccIDS7MMbhgjj8Oi6Tf5ngcRPkmdgD4YZj36zl5TsUcIzS4MMcAAAAAAJhjhIYX5hgAAAAAAHOM0PDCHAMAAAAAYI4RGl6YYwAAAAAAzDFCwwtzDAAAAACAOUZoeGGOAQAAAAAwxwgNL8wxAAAAAADmGKHhhTkGAAAAAMAcIzS8MMcAAAAAAJhjhIYX5hgAAAAAAHOM0PDCHAMAAAAAYI4RGl6YYwAAAAAAzDFCwwtzDN9m3/dbp39lRq47fJ479bc7ldWYe82Td4stnM+d+gTmGKHBdU9zvJllms16n7l2IDRts5t1nszc0pDbYqZpMdsp6Sv72baYaZrMNDXWqQt+3U8eM9+ue7YfdK67kxdz0YMOY7mJK807vYmN5cks3TLv2XaltHqX/dPpn4ndh680r7TG9Ntzgx7MMUKD657mGK7LlRapnz0pb8tkpsusygar+yfNykeN0V240wIYc5xP/8y0MMdpMMdXAXOM0OBqN8e7WefZrOtx5+iY0B8T4nE3aZpX406Njwn39Z1tNbNzN8abjJN3a2rzb6/Dvs7vY86J7Fm+bTXz67i/kMqlHfu+e6JM591S7h5x8U7qu12Hhx7t6qXxamxlv1lTi9Ta9P28vMVKok22xa7jUZ5cXpHY/vdq5sn+27Pc2xKphza2/mKrrf85UVLXXTi+s/lL+4GuHRM1zOQl7e+StBLjLZfmrusz8rEfI9WmibFmlzs7zmLxzs2fsThJ2/jseacUq1L5Cum8xvJkljX3fek8VxePeD9KpRXG0S275twoia0/PlJlMcXxKhsvj/L4eb6HwZweK8lzZ8Ecf7Tcgv6mPs9fG8wxQoOrjzmOLfzdK4WxE4R/JXyqNsfa/DvUwb9zEJTPPek/TlaecbAquC12/uH3nePZvFvK3SEuwQnebceHkUqVtbXfxMvvp5+Ou09Yl2SbHP/2F5fJvCKx9Rdyh8FxzEZtbCNjprb/xSKlqrtkfOfy1/YDXTu6SOYqaZs8jr/Sei0ovXmhcCHBSVPTZ1RjvxQH2di0F8jyO0fC+TNrLDT955x5p9/4Kuefr5/s/CeOh/L849J6blTMLZ7ZS5UlObYU42VfZ2cMzvP8isG2HPHQnjtTpvbT5S71N+256PpgjhEaXL3MsTPxRSdj6ypl5Lh7gtSbY1X+J9XB+nJkG5J/0va/a3+nUP9c3k3l9qmJbeGKd24hVVN2zbbqYtyDwmaNj5+3YxCLeUViGyzm/DwL29uyi1SrLq39L5q1pu4yc6zq/+JnjpV1K+al6O/bkrgDp1xE2mlq+kzLVuDiuJeMZXFm+fkzGidNG58873QfX4Jt1cXzg+L813QOqdlWrTg3imPrXYiSIj3Pxr73HNv7OptlWZ7zYSluqXNnzfsuTip3xflAd8HkemCOERpcvcxxekuPq3nd41exnZOe3hxr8u9RB3+7UHiyj29zm9c9ukh2TyCyxV15O5W23D3iEqu7vSUxfUW5vd/Ey+8s+rJx92kwx8W8IotV586wn3+iDMLYOmk1979IpFR1bzPH+n5Qb45lc5Wsvzt3aaJ55wxMop1VfUYz9iNxEMwrzlhWbaX265qZP6NxqjfH3eed7uNLZ45rz3/SeOT7kcQcN5wbhbHNbyeOlSk9h8rGy2aW5/e25bll/rUlWdouWnP8mXLL+6v0XHR9MMcIDa7TzHFmYfQRc6xamLWl8X7mMndi62mO03m3ldunJi6x7Y2puxK6BTXmOLxDIo0t5vgT5jjfJnXmuNDOVRdUJGNfEAf3E/c2xz3nnSuY44rzX03bhf3oGub4dae2eK7KzaG5evrsZp1ns+67WefFbIe53A+zWXPuzG+r/lS5pfO1/Fx0fTDHCA2uM8yxbstN7G9t5li/pa9fGsnFj/23M7fdNZU7fkwXl4IJU29vLOR9823V1eZYG1s7LbZVn7OtutQmwm3VQdlyaVaaY2PlJ1q0Fsf957dV9zLH3eedS26rztHaduGFi+9vq47UKyhKaQ7N1TNydJ0fL62aV7MfpnNdFHEVmuNPl1vS31TnouuDOUZocJ1ijo9tPfaEuS3B1eX3XZTjyqO3Leh1/NgmJDTHxfw71ME/GUVelhQYp5qXijh5JxY/Tt4t5e4QF98sBHnl7jK09pt4+Xu+kEtsjot5dTDHqtiGY6b+hVmRSFXUPT++BY8ViPtBgzku5tXS3+PzXrZsfprNfUa69VQ2NlML6uhd8ySy+bObOT5p3uk3vpTmuPL8J46H4PyjeSGX7tyojG2u3qWxpR0v2+LcPd2W2cxOP1WcO0vm+KPlrlmPaHYTXA/MMUKD6xxz/P57+ucEvOdiFn9x4D07FPzUU84cS/Jvr4P7EzaRk8myvI+3/BzFI7NwQRHNu6XcPeLintTDn/mJLJqnmFGS9Ju5+JMqxfSVW8Tl5riUV+u2am1s/bTa+l8QKVXd33mkx3cpf00/aDHHpbx0/T2o97oUTF8hzaY+4+b1fjutJA7h2AzGmvPzLm5883mV5s9Wc3z+vNN7fIVjWTM+Suc/fTxy/ShMy+bZTvbPWKnOjaXjYWxyF0BL41V+rgzzdneFJMqeHLu5bdWfLrd2PSI5z18bzDFCg6vdHHeiaRve1chtZQQAeFJ8LvKD7KtZLnF3h/kTAL4H5hihwYU5PgMWdwDgEWzxvNZ2w31d5D8dcyrMnwDwPTDHCA0uzPEZsLgDgBD/51yuYoyvBfMnAHwPzDFCg+sy5hgAAAAA4ItgjhEaXJhjAAAAAADMMULDC3MMAAAAAIA5Rmh4YY4BAAAAADDHCA0vzDEAAAAAAOYYoeGFOQYAAAAAwBwjNLwwxwAAAAAAmGOEhhfmGAAAAAAAc4zQ8MIcAwAAAABgjhEaXphjAAAAAADMMULDC3MMAAAAAIA5Rmh4YY6vx77vt04f2qB9XIjHZyDOAACYY4SG173M8WaWaTLL9u1iLGaaFhMvxmaWaTZr1TpzN+s8mfn15d719dMvYdflnNjv62ymaUrqkd9F2v10zm7/uxGLR+3YamRbXn1SPn6+hbbfXG9eAAD4FphjhAYX5rimGDlz3MJ45tgt3mrmqPm5SLufDubYRdtfz2NbJjPdpiEwxwAAtWCOERpcreY4tmjc19n622Ph9bobOK/mvQSLLKyKd2Uns6yrmV93F30zlcvPPA1Y7O7k8d3ZrOvipf3I9/W3VXrn+Pn/W668iXIvW5/6ZtMvxSOzCD6+9/yDewe48u5eyRxXxyHVrtLYeXVW9Z2W9inVuzZPZb39/r+tZn71f8kYzucX7zupePj1z80t+bEn7bPbYrf5Ua+a/ubTMld5x2Pzana8JMrQeV4AALgbmGOEBlfznePEQvixNnouvKyF0rbYC7k6c2wfd9ML74Ds65zN77Hw9Ra8wUI3vJsnN8e58vqU89LVV5Z+Oh6JRfBzAby8C+XGo/bOesEc18dB0q6l2PXoO3XtU6q3Ls/eZSqN4UJ+2b6T21Ytm1uSsVP2WfciYCnvWLuU4qqdq+zj2n5TKkuneQEA4IZgjhEaXO3bqmN3Dp6LKPv/o5+vvHOc+nz0u7ZZjyWZX8hH0xQ/c6ytn2BbbVN9BdsnnTRjdXn8txijGjTbqlVxELZrqa8ExaroO6r20RvPYp7aMkU+/7jjKjTHVeXJxePZP1rnFmWfdcxxMW/tOHPrK5qrWubJgJPmBQCAG4I5Rmhw9Xjm2F44OluqtyW5pfOxiOprjnMvd3IXbfY20fDun51+9K5adHFsp/0Zcyyvbyr9Ujxid8HLW5qr7xxVmuNyHBLtqopdKVY98qgzx5o8tWUq9/8+bRPvOxlz3Dy36PqsY46LeZcvsrTOVdpdDnXmuHVeAAC4H5hjhAZXlxdyvRbL3qLwG+Y4u5XxvZB7LQQlZuPK5rj4vGg5/XQ8EnWJtuvx9YaFcos5FmxhLbZrlk59J0snc5zJU1umLuZYmF/Yd840x7l8E2XrbY4b5qpzzXH/eQEA4C5gjhEaXH3eVv1cDK6eabzEtmrvs/7irWA27retOoeXfjEeqbqUtmFWvmW467bqsDzydojQq+9kaTfHojGgrXe2/5/ZR0/cVp3NN6RmW3X2bnTrXHXmturT5gUAgOuDOUZocPX6KafXNkH3daqyF9cEb7auXfRFXoSzLe87Qv4C8fVGVvdOVWxr57uM+hdynWaOS/UtpV+MR6Yuxbh+7s5xOQ6ZdpXGrqXv1LZPjTkWxkJbpnT/L43hmjEpuHNcnFuUpr3QZ2teyJXfqt06V7n1c38hoIM57jEvAADcEMwxQoOr2+8cJ99UWvrZmNzPxPhU/GyMt1ALf5ZFcsfHTlP7U066O3vuRYb2+ubTL8UjXxfbELjphJ8T3U2qNselOEjatRy79r6jbZ8acyzJU1em4PncxY99aQxrxmTiGepXPDQ/5ZTvM7l8fcKfrMvlLX2xW8tcZSzT6l+sa513+s4L3EkGgDuBOUZocPU1xx3eWAwA16bX28kBAAAuBuYYocHVc1s1dwgABgBzDAAAPwrmGKHB1WyOj619vKUUYAwwxwAA8KNgjhEaXN22VQMAAAAA3BjMMUKDC3MMAAAAAIA5Rmh4YY4BAAAAADDHCA0vzDEAAAAAAOYYoeGFOQYAAAAAwBwjNLwwxwAAAAAAmGOEhhfmGAAAAAAAc4zQ8MIcAwAAAABgjhEaXphjAAAAAADMMULDC3MMAAAAAIA5Rmh4YY4BAAAAADDHCA0vzDEAAAAAAOYYoeGFOQYAAAAAwBwjNLwwxwAAAAAAmGOEhhfmGAAAAAAAc4zQ8MIcAwAAAABgjhEaXphjAAAAAADMMULDC3MMAAAAAIA5Rmh4YY4BAAAAAITmGCGEEEIIIYQQ+nVlzTEAAAAAAADAyGCOAQAAAAAAYHj+P8+yWubswGB6AAAAAElFTkSuQmCC)"
      ],
      "metadata": {
        "id": "MoQMJRWRnGr_"
      }
    },
    {
      "cell_type": "markdown",
      "source": [
        "![4B3AQyL.png](data:image/png;base64,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)"
      ],
      "metadata": {
        "id": "X87DBO8oJlq5"
      }
    },
    {
      "cell_type": "markdown",
      "source": [
        "Присоединяем данные из questions к train:"
      ],
      "metadata": {
        "id": "UTh-6YAQfoP_"
      }
    },
    {
      "cell_type": "code",
      "source": [
        "train= pd.merge(train,questions[['question_id','part']], how='left', left_on='content_id', right_on='question_id').sort_values('row_id')"
      ],
      "metadata": {
        "id": "JGH85_ASobVK"
      },
      "execution_count": null,
      "outputs": []
    },
    {
      "cell_type": "markdown",
      "source": [
        "Проводим очистку столбца с правильными ответами от лекций:"
      ],
      "metadata": {
        "id": "hbLPRU68f2xx"
      }
    },
    {
      "cell_type": "code",
      "source": [
        "train= train.loc[train['answered_correctly'] != -1].reset_index(drop=True)"
      ],
      "metadata": {
        "id": "aaO4IbycHvPF"
      },
      "execution_count": null,
      "outputs": []
    },
    {
      "cell_type": "markdown",
      "source": [
        "Строим диаграмму корректности ответов в зависимости от того, к какой части экзамена относится вопрос:"
      ],
      "metadata": {
        "id": "51eDnKUHgJ4Z"
      }
    },
    {
      "cell_type": "code",
      "source": [
        "g=sns.countplot(train.part, hue=train.answered_correctly, palette='autumn')\n",
        "total = float(len(train.part))\n",
        "for p in g.patches:\n",
        "    height = p.get_height()\n",
        "    g.text(p.get_x() + p.get_width() / 2.,\n",
        "            height + 2,\n",
        "            '{:1.2f}%'.format((height / total) * 100),\n",
        "            ha='center')\n",
        "\n",
        "plt.title('False/Correct per Question Part', weight='bold')\n",
        "plt.show()"
      ],
      "metadata": {
        "colab": {
          "base_uri": "https://localhost:8080/",
          "height": 350
        },
        "id": "O8_krXRJGfZ9",
        "outputId": "b1ce4e36-a7fa-4a2a-e180-ba5840bf7a62"
      },
      "execution_count": null,
      "outputs": [
        {
          "output_type": "stream",
          "name": "stderr",
          "text": [
            "/usr/local/lib/python3.7/dist-packages/seaborn/_decorators.py:43: FutureWarning: Pass the following variable as a keyword arg: x. From version 0.12, the only valid positional argument will be `data`, and passing other arguments without an explicit keyword will result in an error or misinterpretation.\n",
            "  FutureWarning\n"
          ]
        },
        {
          "output_type": "display_data",
          "data": {
            "text/plain": [
              "<Figure size 432x288 with 1 Axes>"
            ],
            "image/png": "[encoded data removed]"
          },
          "metadata": {
            "needs_background": "light"
          }
        }
      ]
    },
    {
      "cell_type": "markdown",
      "source": [
        "Из диаграммы можем сделать вывод о том, что ряд типовых вопросов вызывает сложности у студентов, в то время как глава 5 отличается высокими показателями правильных и неправильных ответов.\n",
        "\n",
        "Какое количество лекций отведено каждой из частей TOEIC?"
      ],
      "metadata": {
        "id": "5kx4uPpFIa7d"
      }
    },
    {
      "cell_type": "code",
      "source": [
        "lectures['part'].value_counts()"
      ],
      "metadata": {
        "colab": {
          "base_uri": "https://localhost:8080/"
        },
        "id": "YL16TeqUKfCG",
        "outputId": "1f3232e0-e53e-44fa-d876-61a5644c111b"
      },
      "execution_count": null,
      "outputs": [
        {
          "output_type": "execute_result",
          "data": {
            "text/plain": [
              "5    143\n",
              "6     83\n",
              "2     56\n",
              "1     54\n",
              "7     32\n",
              "4     31\n",
              "3     19\n",
              "Name: part, dtype: int64"
            ]
          },
          "metadata": {},
          "execution_count": 83
        }
      ]
    },
    {
      "cell_type": "markdown",
      "source": [
        "Количество лекций, посвященных 5-ой главе, даёт дополнительное основание для предположения о том, что она отличается сложностью.\n",
        "\n",
        "Влияет ли просмотр объяснения предыдущего вопроса на корректность ответов?"
      ],
      "metadata": {
        "id": "ONIZJAMmRJN8"
      }
    },
    {
      "cell_type": "code",
      "source": [
        "train['prior_question_had_explanation']=train['prior_question_had_explanation'].astype('float')"
      ],
      "metadata": {
        "id": "7bi4b3OQUVtd"
      },
      "execution_count": null,
      "outputs": []
    },
    {
      "cell_type": "code",
      "source": [
        "fig = plt.figure(figsize=(8,6))\n",
        "sns.countplot(x=\"prior_question_had_explanation\", hue=\"answered_correctly\", data=train)"
      ],
      "metadata": {
        "colab": {
          "base_uri": "https://localhost:8080/",
          "height": 417
        },
        "id": "ZQp-1OooVMyd",
        "outputId": "d3124726-e13a-4608-eabf-dfc86bd44360"
      },
      "execution_count": null,
      "outputs": [
        {
          "output_type": "execute_result",
          "data": {
            "text/plain": [
              "<matplotlib.axes._subplots.AxesSubplot at 0x7f5d5a487d10>"
            ]
          },
          "metadata": {},
          "execution_count": 22
        },
        {
          "output_type": "display_data",
          "data": {
            "text/plain": [
              "<Figure size 576x432 with 1 Axes>"
            ],
            "image/png": "[encoded data removed]"
          },
          "metadata": {
            "needs_background": "light"
          }
        }
      ]
    },
    {
      "cell_type": "markdown",
      "source": [
        "1.0==True, 0.0==False\n",
        "\n",
        "Наблюдаем хорошую корреляцию между правильными ответами и просмотром объяснения предыдущего вопроса."
      ],
      "metadata": {
        "id": "fD3NENBpbMin"
      }
    },
    {
      "cell_type": "markdown",
      "source": [
        "# **Выводы:**\n",
        "*На основе вышеприведенного можно сделать вывод о том, что на успеваемости студентов сказываются сложность вопроса, количество просмотренных лекций, количество попыток ответа и просмотр ответа и объяснения для предыдущего вопроса.*"
      ],
      "metadata": {
        "id": "_f_XbHWsams6"
      }
    }
  ]
}