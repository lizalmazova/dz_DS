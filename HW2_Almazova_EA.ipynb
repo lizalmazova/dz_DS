{
  "cells": [
    {
      "cell_type": "markdown",
      "metadata": {
        "id": "w8ubsKGgr2UE"
      },
      "source": [
        "# Домашнее задание №2\n",
        "\n",
        "**SQLite как пример СУБД для работы с реляционными БД.**"
      ]
    },
    {
      "cell_type": "markdown",
      "metadata": {
        "id": "k3VEJkZbsJh1"
      },
      "source": [
        "Дан csv-файл с транзакциями с 2023–01-01 до 2023-04-20. Необходимо в Jupyter-ноутбуке выполнить следующие пункты, используя SQLite:"
      ]
    },
    {
      "cell_type": "markdown",
      "metadata": {
        "id": "MPvre1y6sO4L"
      },
      "source": [
        "Необходимо скачать CSV-файл — «final_transactions.csv», создать таблицу transaction_bd со всеми полями, загрузить данные из файла в таблицу и оставить таблицу со структурой:\n",
        "\n",
        "(0, 'TX_DATETIME', 'NUMERIC', 0, None, 0) - время транзакций\n",
        "\n",
        "(1, 'CUSTOMER_ID', 'INTEGER', 0, None, 0) - клиент\n",
        "\n",
        "(2, 'TX_AMOUNT', 'REAL', 0, None, 0) - сумма транзакций"
      ]
    },
    {
      "cell_type": "markdown",
      "metadata": {
        "id": "pYTC6b5s37cP"
      },
      "source": [
        "Импортируем таблицу:"
      ]
    },
    {
      "cell_type": "code",
      "execution_count": null,
      "metadata": {
        "id": "neMVB19IroXX"
      },
      "outputs": [],
      "source": [
        "import pandas as pd\n",
        "url_file = 'https://drive.google.com/file/d/1_YrZPaD1zNCcXUkUfeWM0ZOdg_was_iA/view'\n",
        "main = 'https://drive.google.com/uc?id='\n",
        "id_url = url_file.split('/')[-2]\n",
        "direct_url = main + id_url\n",
        "transaction_bd = pd.read_csv(direct_url)"
      ]
    },
    {
      "cell_type": "code",
      "execution_count": null,
      "metadata": {
        "id": "P1eCEVJGuSsI"
      },
      "outputs": [],
      "source": [
        "transaction_bd.drop('TERMINAL_ID', axis=1, inplace=True)"
      ]
    },
    {
      "cell_type": "code",
      "execution_count": null,
      "metadata": {
        "colab": {
          "base_uri": "https://localhost:8080/",
          "height": 206
        },
        "id": "xR_kOpZcuneW",
        "outputId": "9d1296c4-0525-4dda-ca4b-877170f21bb2"
      },
      "outputs": [
        {
          "data": {
            "text/html": [
              "<div>\n",
              "<style scoped>\n",
              "    .dataframe tbody tr th:only-of-type {\n",
              "        vertical-align: middle;\n",
              "    }\n",
              "\n",
              "    .dataframe tbody tr th {\n",
              "        vertical-align: top;\n",
              "    }\n",
              "\n",
              "    .dataframe thead th {\n",
              "        text-align: right;\n",
              "    }\n",
              "</style>\n",
              "<table border=\"1\" class=\"dataframe\">\n",
              "  <thead>\n",
              "    <tr style=\"text-align: right;\">\n",
              "      <th></th>\n",
              "      <th>TRANSACTION_ID</th>\n",
              "      <th>TX_DATETIME</th>\n",
              "      <th>CUSTOMER_ID</th>\n",
              "      <th>TX_AMOUNT</th>\n",
              "    </tr>\n",
              "  </thead>\n",
              "  <tbody>\n",
              "    <tr>\n",
              "      <th>0</th>\n",
              "      <td>0</td>\n",
              "      <td>2023-01-01 00:00:31</td>\n",
              "      <td>596</td>\n",
              "      <td>533.07</td>\n",
              "    </tr>\n",
              "    <tr>\n",
              "      <th>1</th>\n",
              "      <td>1</td>\n",
              "      <td>2023-01-01 00:02:10</td>\n",
              "      <td>4961</td>\n",
              "      <td>808.56</td>\n",
              "    </tr>\n",
              "    <tr>\n",
              "      <th>2</th>\n",
              "      <td>2</td>\n",
              "      <td>2023-01-01 00:07:56</td>\n",
              "      <td>2</td>\n",
              "      <td>1442.94</td>\n",
              "    </tr>\n",
              "    <tr>\n",
              "      <th>3</th>\n",
              "      <td>3</td>\n",
              "      <td>2023-01-01 00:09:29</td>\n",
              "      <td>4128</td>\n",
              "      <td>620.65</td>\n",
              "    </tr>\n",
              "    <tr>\n",
              "      <th>4</th>\n",
              "      <td>4</td>\n",
              "      <td>2023-01-01 00:10:34</td>\n",
              "      <td>927</td>\n",
              "      <td>490.66</td>\n",
              "    </tr>\n",
              "  </tbody>\n",
              "</table>\n",
              "</div>"
            ],
            "text/plain": [
              "   TRANSACTION_ID          TX_DATETIME  CUSTOMER_ID  TX_AMOUNT\n",
              "0               0  2023-01-01 00:00:31          596     533.07\n",
              "1               1  2023-01-01 00:02:10         4961     808.56\n",
              "2               2  2023-01-01 00:07:56            2    1442.94\n",
              "3               3  2023-01-01 00:09:29         4128     620.65\n",
              "4               4  2023-01-01 00:10:34          927     490.66"
            ]
          },
          "execution_count": 3,
          "metadata": {},
          "output_type": "execute_result"
        }
      ],
      "source": [
        "transaction_bd.head()"
      ]
    },
    {
      "cell_type": "code",
      "execution_count": null,
      "metadata": {
        "id": "iZvFKcR-uulv"
      },
      "outputs": [],
      "source": [
        "import sqlite3\n",
        "from sqlite3 import Error"
      ]
    },
    {
      "cell_type": "markdown",
      "metadata": {
        "id": "kE0_DrQZ3YGE"
      },
      "source": [
        "Подключаемся к БД:"
      ]
    },
    {
      "cell_type": "code",
      "execution_count": null,
      "metadata": {
        "id": "gKio9US8zk76"
      },
      "outputs": [],
      "source": [
        "def create_connection(path):\n",
        "    connection = None\n",
        "    try:\n",
        "        connection = sqlite3.connect(path)\n",
        "        print(\"Connection to SQLite DB successful\")\n",
        "    except Error as e:\n",
        "        print(f\"The error '{e}' occurred\")\n",
        "\n",
        "    return connection"
      ]
    },
    {
      "cell_type": "code",
      "execution_count": null,
      "metadata": {
        "colab": {
          "base_uri": "https://localhost:8080/"
        },
        "id": "InB4HxAfvGmF",
        "outputId": "e9dbddfa-09df-47ef-d946-b808a3d42f5a"
      },
      "outputs": [
        {
          "name": "stdout",
          "output_type": "stream",
          "text": [
            "Connection to SQLite DB successful\n"
          ]
        }
      ],
      "source": [
        "connection = create_connection(\"myhw.db\")"
      ]
    },
    {
      "cell_type": "markdown",
      "metadata": {
        "id": "7kUdGUhd3jrT"
      },
      "source": [
        "Функция выполнения запроса к базе данных:"
      ]
    },
    {
      "cell_type": "code",
      "execution_count": null,
      "metadata": {
        "id": "n2AI2HZS3pvZ"
      },
      "outputs": [],
      "source": [
        "def execute_query(connection, query):\n",
        "    cursor = connection.cursor()\n",
        "    try:\n",
        "        cursor.execute(query)\n",
        "        connection.commit()\n",
        "        print(\"Query executed successfully\")\n",
        "    except Error as e:\n",
        "        print(f\"The error '{e}' occurred\")"
      ]
    },
    {
      "cell_type": "markdown",
      "metadata": {
        "id": "HYIGRTH24aQD"
      },
      "source": [
        "Функция для добавления значений в таблицу:"
      ]
    },
    {
      "cell_type": "code",
      "execution_count": null,
      "metadata": {
        "id": "QPKDODPE4WnV"
      },
      "outputs": [],
      "source": [
        "def sql_insert(connection, data, name, m=0, n=transaction_bd.shape[1]):\n",
        "    cursor = connection.cursor()\n",
        "    try:\n",
        "        cursor.executemany(f\"\"\"\n",
        "                INSERT INTO {name} {tuple(data.columns[m:n])} \n",
        "                    VALUES ({str(\"?, \" * (n-m-1) + \"?\")})\"\"\",\n",
        "                data.iloc[:, m:n].values)\n",
        "        connection.commit()\n",
        "    except Error as e:\n",
        "        print(f\"The error '{e}' occurred\")"
      ]
    },
    {
      "cell_type": "code",
      "execution_count": null,
      "metadata": {
        "colab": {
          "base_uri": "https://localhost:8080/"
        },
        "id": "MZuijAqX4srW",
        "outputId": "7325bde1-5d16-4f05-a711-7e5e26cfa9ce"
      },
      "outputs": [
        {
          "name": "stdout",
          "output_type": "stream",
          "text": [
            "Query executed successfully\n"
          ]
        }
      ],
      "source": [
        "create_users_table = \"\"\"\n",
        "    CREATE TABLE IF NOT EXISTS transactions (\n",
        "        transaction_id INTEGER PRIMARY KEY AUTOINCREMENT,\n",
        "        tx_datetime NUMERIC NOT NULL,\n",
        "        customer_id INTEGER NOT NULL,\n",
        "        tx_amount REAL NOT NULL\n",
        "    );\n",
        "    \"\"\"\n",
        "execute_query(connection, create_users_table)"
      ]
    },
    {
      "cell_type": "code",
      "execution_count": null,
      "metadata": {
        "id": "llzAF-HP5oPw",
        "outputId": "e1c935ef-6fa7-4aa9-bc9e-fec865ac0e7c"
      },
      "outputs": [
        {
          "name": "stdout",
          "output_type": "stream",
          "text": [
            "The error 'UNIQUE constraint failed: transactions.transaction_id' occurred\n"
          ]
        }
      ],
      "source": [
        "sql_insert(connection, transaction_bd, 'transactions')"
      ]
    },
    {
      "cell_type": "code",
      "execution_count": null,
      "metadata": {
        "colab": {
          "base_uri": "https://localhost:8080/",
          "height": 424
        },
        "id": "L9v5aHtf6CNR",
        "outputId": "ec0fa426-c00e-4810-f89c-9bd3a15931ed"
      },
      "outputs": [
        {
          "data": {
            "text/html": [
              "<div>\n",
              "<style scoped>\n",
              "    .dataframe tbody tr th:only-of-type {\n",
              "        vertical-align: middle;\n",
              "    }\n",
              "\n",
              "    .dataframe tbody tr th {\n",
              "        vertical-align: top;\n",
              "    }\n",
              "\n",
              "    .dataframe thead th {\n",
              "        text-align: right;\n",
              "    }\n",
              "</style>\n",
              "<table border=\"1\" class=\"dataframe\">\n",
              "  <thead>\n",
              "    <tr style=\"text-align: right;\">\n",
              "      <th></th>\n",
              "      <th>transaction_id</th>\n",
              "      <th>tx_datetime</th>\n",
              "      <th>customer_id</th>\n",
              "      <th>tx_amount</th>\n",
              "    </tr>\n",
              "  </thead>\n",
              "  <tbody>\n",
              "    <tr>\n",
              "      <th>0</th>\n",
              "      <td>0</td>\n",
              "      <td>2023-01-01 00:00:31</td>\n",
              "      <td>596</td>\n",
              "      <td>533.07</td>\n",
              "    </tr>\n",
              "    <tr>\n",
              "      <th>1</th>\n",
              "      <td>1</td>\n",
              "      <td>2023-01-01 00:02:10</td>\n",
              "      <td>4961</td>\n",
              "      <td>808.56</td>\n",
              "    </tr>\n",
              "    <tr>\n",
              "      <th>2</th>\n",
              "      <td>2</td>\n",
              "      <td>2023-01-01 00:07:56</td>\n",
              "      <td>2</td>\n",
              "      <td>1442.94</td>\n",
              "    </tr>\n",
              "    <tr>\n",
              "      <th>3</th>\n",
              "      <td>3</td>\n",
              "      <td>2023-01-01 00:09:29</td>\n",
              "      <td>4128</td>\n",
              "      <td>620.65</td>\n",
              "    </tr>\n",
              "    <tr>\n",
              "      <th>4</th>\n",
              "      <td>4</td>\n",
              "      <td>2023-01-01 00:10:34</td>\n",
              "      <td>927</td>\n",
              "      <td>490.66</td>\n",
              "    </tr>\n",
              "    <tr>\n",
              "      <th>...</th>\n",
              "      <td>...</td>\n",
              "      <td>...</td>\n",
              "      <td>...</td>\n",
              "      <td>...</td>\n",
              "    </tr>\n",
              "    <tr>\n",
              "      <th>1048570</th>\n",
              "      <td>1048570</td>\n",
              "      <td>2023-04-20 10:07:13</td>\n",
              "      <td>2380</td>\n",
              "      <td>325.64</td>\n",
              "    </tr>\n",
              "    <tr>\n",
              "      <th>1048571</th>\n",
              "      <td>1048571</td>\n",
              "      <td>2023-04-20 10:07:28</td>\n",
              "      <td>738</td>\n",
              "      <td>20.38</td>\n",
              "    </tr>\n",
              "    <tr>\n",
              "      <th>1048572</th>\n",
              "      <td>1048572</td>\n",
              "      <td>2023-04-20 10:07:33</td>\n",
              "      <td>1000</td>\n",
              "      <td>182.79</td>\n",
              "    </tr>\n",
              "    <tr>\n",
              "      <th>1048573</th>\n",
              "      <td>1048573</td>\n",
              "      <td>2023-04-20 10:07:39</td>\n",
              "      <td>3028</td>\n",
              "      <td>455.44</td>\n",
              "    </tr>\n",
              "    <tr>\n",
              "      <th>1048574</th>\n",
              "      <td>1048574</td>\n",
              "      <td>2023-04-20 10:07:43</td>\n",
              "      <td>3252</td>\n",
              "      <td>304.55</td>\n",
              "    </tr>\n",
              "  </tbody>\n",
              "</table>\n",
              "<p>1048575 rows × 4 columns</p>\n",
              "</div>"
            ],
            "text/plain": [
              "         transaction_id          tx_datetime  customer_id  tx_amount\n",
              "0                     0  2023-01-01 00:00:31          596     533.07\n",
              "1                     1  2023-01-01 00:02:10         4961     808.56\n",
              "2                     2  2023-01-01 00:07:56            2    1442.94\n",
              "3                     3  2023-01-01 00:09:29         4128     620.65\n",
              "4                     4  2023-01-01 00:10:34          927     490.66\n",
              "...                 ...                  ...          ...        ...\n",
              "1048570         1048570  2023-04-20 10:07:13         2380     325.64\n",
              "1048571         1048571  2023-04-20 10:07:28          738      20.38\n",
              "1048572         1048572  2023-04-20 10:07:33         1000     182.79\n",
              "1048573         1048573  2023-04-20 10:07:39         3028     455.44\n",
              "1048574         1048574  2023-04-20 10:07:43         3252     304.55\n",
              "\n",
              "[1048575 rows x 4 columns]"
            ]
          },
          "execution_count": 11,
          "metadata": {},
          "output_type": "execute_result"
        }
      ],
      "source": [
        "pd.read_sql('SELECT * FROM transactions', connection)"
      ]
    },
    {
      "cell_type": "markdown",
      "metadata": {
        "id": "vTc1bHyrwIYK"
      },
      "source": [
        "A. Вывести всех клиентов, у которых сумма транзакций больше 700000 за весь период (сортируя клиентов по возрастанию);"
      ]
    },
    {
      "cell_type": "code",
      "execution_count": null,
      "metadata": {
        "colab": {
          "base_uri": "https://localhost:8080/",
          "height": 206
        },
        "id": "0huMFLOu01b-",
        "outputId": "3f0185d5-c0cd-4146-938c-a178286eb1da"
      },
      "outputs": [
        {
          "data": {
            "text/html": [
              "<div>\n",
              "<style scoped>\n",
              "    .dataframe tbody tr th:only-of-type {\n",
              "        vertical-align: middle;\n",
              "    }\n",
              "\n",
              "    .dataframe tbody tr th {\n",
              "        vertical-align: top;\n",
              "    }\n",
              "\n",
              "    .dataframe thead th {\n",
              "        text-align: right;\n",
              "    }\n",
              "</style>\n",
              "<table border=\"1\" class=\"dataframe\">\n",
              "  <thead>\n",
              "    <tr style=\"text-align: right;\">\n",
              "      <th></th>\n",
              "      <th>customer_id</th>\n",
              "      <th>sum(tx_amount)</th>\n",
              "    </tr>\n",
              "  </thead>\n",
              "  <tbody>\n",
              "    <tr>\n",
              "      <th>0</th>\n",
              "      <td>389</td>\n",
              "      <td>753411.90</td>\n",
              "    </tr>\n",
              "    <tr>\n",
              "      <th>1</th>\n",
              "      <td>2249</td>\n",
              "      <td>707478.64</td>\n",
              "    </tr>\n",
              "    <tr>\n",
              "      <th>2</th>\n",
              "      <td>2891</td>\n",
              "      <td>786115.87</td>\n",
              "    </tr>\n",
              "    <tr>\n",
              "      <th>3</th>\n",
              "      <td>3116</td>\n",
              "      <td>721980.69</td>\n",
              "    </tr>\n",
              "    <tr>\n",
              "      <th>4</th>\n",
              "      <td>4163</td>\n",
              "      <td>765153.63</td>\n",
              "    </tr>\n",
              "  </tbody>\n",
              "</table>\n",
              "</div>"
            ],
            "text/plain": [
              "   customer_id  sum(tx_amount)\n",
              "0          389       753411.90\n",
              "1         2249       707478.64\n",
              "2         2891       786115.87\n",
              "3         3116       721980.69\n",
              "4         4163       765153.63"
            ]
          },
          "execution_count": 12,
          "metadata": {},
          "output_type": "execute_result"
        }
      ],
      "source": [
        "pd.read_sql(\"\"\"select customer_id, sum(tx_amount) \n",
        "               from transactions \n",
        "               group by 1 \n",
        "               having sum(tx_amount)>700000 \n",
        "               order by customer_id\"\"\"\n",
        "            , connection)"
      ]
    },
    {
      "cell_type": "markdown",
      "metadata": {
        "id": "OUqExyCn_uYh"
      },
      "source": [
        "B. Вывести всех клиентов, у которых сумма транзакций больше 200000 за период 01.01.2023 - 13.01.2023 (сортируя клиентов по возрастанию);"
      ]
    },
    {
      "cell_type": "code",
      "execution_count": null,
      "metadata": {
        "colab": {
          "base_uri": "https://localhost:8080/",
          "height": 175
        },
        "id": "6UODW5cV_yKC",
        "outputId": "84cee779-c9f8-4c4b-8c2d-8f6e027a3fed"
      },
      "outputs": [
        {
          "data": {
            "text/html": [
              "<div>\n",
              "<style scoped>\n",
              "    .dataframe tbody tr th:only-of-type {\n",
              "        vertical-align: middle;\n",
              "    }\n",
              "\n",
              "    .dataframe tbody tr th {\n",
              "        vertical-align: top;\n",
              "    }\n",
              "\n",
              "    .dataframe thead th {\n",
              "        text-align: right;\n",
              "    }\n",
              "</style>\n",
              "<table border=\"1\" class=\"dataframe\">\n",
              "  <thead>\n",
              "    <tr style=\"text-align: right;\">\n",
              "      <th></th>\n",
              "      <th>customer_id</th>\n",
              "      <th>sum(tx_amount)</th>\n",
              "    </tr>\n",
              "  </thead>\n",
              "  <tbody>\n",
              "    <tr>\n",
              "      <th>0</th>\n",
              "      <td>1918</td>\n",
              "      <td>241299.96</td>\n",
              "    </tr>\n",
              "    <tr>\n",
              "      <th>1</th>\n",
              "      <td>3406</td>\n",
              "      <td>207733.48</td>\n",
              "    </tr>\n",
              "    <tr>\n",
              "      <th>2</th>\n",
              "      <td>3833</td>\n",
              "      <td>269107.40</td>\n",
              "    </tr>\n",
              "    <tr>\n",
              "      <th>3</th>\n",
              "      <td>4252</td>\n",
              "      <td>220650.36</td>\n",
              "    </tr>\n",
              "  </tbody>\n",
              "</table>\n",
              "</div>"
            ],
            "text/plain": [
              "   customer_id  sum(tx_amount)\n",
              "0         1918       241299.96\n",
              "1         3406       207733.48\n",
              "2         3833       269107.40\n",
              "3         4252       220650.36"
            ]
          },
          "execution_count": 13,
          "metadata": {},
          "output_type": "execute_result"
        }
      ],
      "source": [
        "pd.read_sql(\"\"\"select customer_id, sum(tx_amount) \n",
        "               from transactions \n",
        "               where date(tx_datetime) between '2023-01-01' and '2023-01-13' \n",
        "               group by 1 \n",
        "               having sum(tx_amount)>200000 \n",
        "               order by 1\"\"\"\n",
        "            , connection)"
      ]
    },
    {
      "cell_type": "markdown",
      "metadata": {
        "id": "nFQd26uoBwqV"
      },
      "source": [
        "C. Вывести тех клиентов, у которых id начинается с 4 и количество транзакций за весь период более 444;"
      ]
    },
    {
      "cell_type": "code",
      "execution_count": null,
      "metadata": {
        "colab": {
          "base_uri": "https://localhost:8080/",
          "height": 143
        },
        "id": "VCZyfaE4B2zj",
        "outputId": "a7020481-c24b-464a-a0ef-f0b71477133a"
      },
      "outputs": [
        {
          "data": {
            "text/html": [
              "<div>\n",
              "<style scoped>\n",
              "    .dataframe tbody tr th:only-of-type {\n",
              "        vertical-align: middle;\n",
              "    }\n",
              "\n",
              "    .dataframe tbody tr th {\n",
              "        vertical-align: top;\n",
              "    }\n",
              "\n",
              "    .dataframe thead th {\n",
              "        text-align: right;\n",
              "    }\n",
              "</style>\n",
              "<table border=\"1\" class=\"dataframe\">\n",
              "  <thead>\n",
              "    <tr style=\"text-align: right;\">\n",
              "      <th></th>\n",
              "      <th>customer_id</th>\n",
              "      <th>count(transaction_id)</th>\n",
              "    </tr>\n",
              "  </thead>\n",
              "  <tbody>\n",
              "    <tr>\n",
              "      <th>0</th>\n",
              "      <td>4231</td>\n",
              "      <td>451</td>\n",
              "    </tr>\n",
              "    <tr>\n",
              "      <th>1</th>\n",
              "      <td>4539</td>\n",
              "      <td>445</td>\n",
              "    </tr>\n",
              "    <tr>\n",
              "      <th>2</th>\n",
              "      <td>4661</td>\n",
              "      <td>449</td>\n",
              "    </tr>\n",
              "  </tbody>\n",
              "</table>\n",
              "</div>"
            ],
            "text/plain": [
              "   customer_id  count(transaction_id)\n",
              "0         4231                    451\n",
              "1         4539                    445\n",
              "2         4661                    449"
            ]
          },
          "execution_count": 14,
          "metadata": {},
          "output_type": "execute_result"
        }
      ],
      "source": [
        "pd.read_sql(\"\"\"select customer_id, count(transaction_id)\n",
        "               from transactions\n",
        "               where customer_id like '4%'\n",
        "               group by 1\n",
        "               having count(transaction_id)>444\n",
        "               order by 1\"\"\"\n",
        "            , connection)"
      ]
    },
    {
      "cell_type": "markdown",
      "metadata": {
        "id": "UaxKVDVdDI_m"
      },
      "source": [
        "D. Создать флаг доходности клиентов по логике:\n",
        "1. Если сумма транзакций не более 50000, тогда вывести 'низкая доходность';\n",
        "2. Если сумма транзакций больше 50000 и не более 10000 тогда вывести 'средняя доходность';\n",
        "3. Если сумма транзакций больше 100000 тогда вывести 'высокая доходность'."
      ]
    },
    {
      "cell_type": "code",
      "execution_count": null,
      "metadata": {
        "colab": {
          "base_uri": "https://localhost:8080/",
          "height": 424
        },
        "id": "7NWJV4MPDIPI",
        "outputId": "dd06417a-5922-46e3-f797-5b86b39df031"
      },
      "outputs": [
        {
          "data": {
            "text/html": [
              "<div>\n",
              "<style scoped>\n",
              "    .dataframe tbody tr th:only-of-type {\n",
              "        vertical-align: middle;\n",
              "    }\n",
              "\n",
              "    .dataframe tbody tr th {\n",
              "        vertical-align: top;\n",
              "    }\n",
              "\n",
              "    .dataframe thead th {\n",
              "        text-align: right;\n",
              "    }\n",
              "</style>\n",
              "<table border=\"1\" class=\"dataframe\">\n",
              "  <thead>\n",
              "    <tr style=\"text-align: right;\">\n",
              "      <th></th>\n",
              "      <th>customer_id</th>\n",
              "      <th>sum(tx_amount)</th>\n",
              "      <th>income_flag</th>\n",
              "    </tr>\n",
              "  </thead>\n",
              "  <tbody>\n",
              "    <tr>\n",
              "      <th>0</th>\n",
              "      <td>0</td>\n",
              "      <td>119568.47</td>\n",
              "      <td>высокая доходность</td>\n",
              "    </tr>\n",
              "    <tr>\n",
              "      <th>1</th>\n",
              "      <td>1</td>\n",
              "      <td>323510.82</td>\n",
              "      <td>высокая доходность</td>\n",
              "    </tr>\n",
              "    <tr>\n",
              "      <th>2</th>\n",
              "      <td>2</td>\n",
              "      <td>162541.90</td>\n",
              "      <td>высокая доходность</td>\n",
              "    </tr>\n",
              "    <tr>\n",
              "      <th>3</th>\n",
              "      <td>3</td>\n",
              "      <td>2406.56</td>\n",
              "      <td>низкая доходность</td>\n",
              "    </tr>\n",
              "    <tr>\n",
              "      <th>4</th>\n",
              "      <td>4</td>\n",
              "      <td>300589.33</td>\n",
              "      <td>высокая доходность</td>\n",
              "    </tr>\n",
              "    <tr>\n",
              "      <th>...</th>\n",
              "      <td>...</td>\n",
              "      <td>...</td>\n",
              "      <td>...</td>\n",
              "    </tr>\n",
              "    <tr>\n",
              "      <th>4981</th>\n",
              "      <td>4995</td>\n",
              "      <td>149962.31</td>\n",
              "      <td>высокая доходность</td>\n",
              "    </tr>\n",
              "    <tr>\n",
              "      <th>4982</th>\n",
              "      <td>4996</td>\n",
              "      <td>27135.67</td>\n",
              "      <td>низкая доходность</td>\n",
              "    </tr>\n",
              "    <tr>\n",
              "      <th>4983</th>\n",
              "      <td>4997</td>\n",
              "      <td>131288.62</td>\n",
              "      <td>высокая доходность</td>\n",
              "    </tr>\n",
              "    <tr>\n",
              "      <th>4984</th>\n",
              "      <td>4998</td>\n",
              "      <td>337988.39</td>\n",
              "      <td>высокая доходность</td>\n",
              "    </tr>\n",
              "    <tr>\n",
              "      <th>4985</th>\n",
              "      <td>4999</td>\n",
              "      <td>101289.30</td>\n",
              "      <td>высокая доходность</td>\n",
              "    </tr>\n",
              "  </tbody>\n",
              "</table>\n",
              "<p>4986 rows × 3 columns</p>\n",
              "</div>"
            ],
            "text/plain": [
              "      customer_id  sum(tx_amount)         income_flag\n",
              "0               0       119568.47  высокая доходность\n",
              "1               1       323510.82  высокая доходность\n",
              "2               2       162541.90  высокая доходность\n",
              "3               3         2406.56   низкая доходность\n",
              "4               4       300589.33  высокая доходность\n",
              "...           ...             ...                 ...\n",
              "4981         4995       149962.31  высокая доходность\n",
              "4982         4996        27135.67   низкая доходность\n",
              "4983         4997       131288.62  высокая доходность\n",
              "4984         4998       337988.39  высокая доходность\n",
              "4985         4999       101289.30  высокая доходность\n",
              "\n",
              "[4986 rows x 3 columns]"
            ]
          },
          "execution_count": 15,
          "metadata": {},
          "output_type": "execute_result"
        }
      ],
      "source": [
        "pd.read_sql(\"\"\"select customer_id, sum(tx_amount), \n",
        "                      case when sum(tx_amount)<=50000 then 'низкая доходность'\n",
        "                           when sum(tx_amount)>50000 and sum(tx_amount)<=100000 then 'средняя доходность'\n",
        "                           else 'высокая доходность'\n",
        "                      end as income_flag\n",
        "                from transactions\n",
        "                group by 1\n",
        "                order by 1\"\"\"\n",
        "           , connection)"
      ]
    },
    {
      "cell_type": "markdown",
      "metadata": {
        "id": "zHwcA0pIFiI3"
      },
      "source": [
        "E. Посмотреть количество клиентов с каждым видом доходности (из пункта 2.d);"
      ]
    },
    {
      "cell_type": "code",
      "execution_count": null,
      "metadata": {
        "colab": {
          "base_uri": "https://localhost:8080/",
          "height": 143
        },
        "id": "Hg_n6U2LFmPr",
        "outputId": "4e0b9108-4e59-4f87-e73f-9d667b021f65"
      },
      "outputs": [
        {
          "data": {
            "text/html": [
              "<div>\n",
              "<style scoped>\n",
              "    .dataframe tbody tr th:only-of-type {\n",
              "        vertical-align: middle;\n",
              "    }\n",
              "\n",
              "    .dataframe tbody tr th {\n",
              "        vertical-align: top;\n",
              "    }\n",
              "\n",
              "    .dataframe thead th {\n",
              "        text-align: right;\n",
              "    }\n",
              "</style>\n",
              "<table border=\"1\" class=\"dataframe\">\n",
              "  <thead>\n",
              "    <tr style=\"text-align: right;\">\n",
              "      <th></th>\n",
              "      <th>count(customer_id)</th>\n",
              "    </tr>\n",
              "  </thead>\n",
              "  <tbody>\n",
              "    <tr>\n",
              "      <th>0</th>\n",
              "      <td>2167</td>\n",
              "    </tr>\n",
              "    <tr>\n",
              "      <th>1</th>\n",
              "      <td>1812</td>\n",
              "    </tr>\n",
              "    <tr>\n",
              "      <th>2</th>\n",
              "      <td>1007</td>\n",
              "    </tr>\n",
              "  </tbody>\n",
              "</table>\n",
              "</div>"
            ],
            "text/plain": [
              "   count(customer_id)\n",
              "0                2167\n",
              "1                1812\n",
              "2                1007"
            ]
          },
          "execution_count": 16,
          "metadata": {},
          "output_type": "execute_result"
        }
      ],
      "source": [
        "pd.read_sql(\"\"\"with income as (select customer_id, sum(tx_amount), \n",
        "                      case when sum(tx_amount)<=50000 then 'низкая доходность'\n",
        "                           when sum(tx_amount)>50000 and sum(tx_amount)<=100000 then 'средняя доходность'\n",
        "                           else 'высокая доходность'\n",
        "                      end as income_flag\n",
        "                from transactions\n",
        "                group by 1\n",
        "                order by 1)\n",
        "                select count(customer_id)\n",
        "                from income\n",
        "                group by income_flag\"\"\"\n",
        "           , connection)"
      ]
    },
    {
      "cell_type": "markdown",
      "metadata": {
        "id": "4Ea4MsEAGme9"
      },
      "source": [
        "F. Вывести сумму транзакций за каждый день (сортируя дни по возрастанию)."
      ]
    },
    {
      "cell_type": "code",
      "execution_count": null,
      "metadata": {
        "colab": {
          "base_uri": "https://localhost:8080/",
          "height": 424
        },
        "id": "OMhe8O9HGlbe",
        "outputId": "b606adfb-95d9-4fd6-d407-21b3b147c46e"
      },
      "outputs": [
        {
          "data": {
            "text/html": [
              "<div>\n",
              "<style scoped>\n",
              "    .dataframe tbody tr th:only-of-type {\n",
              "        vertical-align: middle;\n",
              "    }\n",
              "\n",
              "    .dataframe tbody tr th {\n",
              "        vertical-align: top;\n",
              "    }\n",
              "\n",
              "    .dataframe thead th {\n",
              "        text-align: right;\n",
              "    }\n",
              "</style>\n",
              "<table border=\"1\" class=\"dataframe\">\n",
              "  <thead>\n",
              "    <tr style=\"text-align: right;\">\n",
              "      <th></th>\n",
              "      <th>date(tx_datetime)</th>\n",
              "      <th>sum(tx_amount)</th>\n",
              "    </tr>\n",
              "  </thead>\n",
              "  <tbody>\n",
              "    <tr>\n",
              "      <th>0</th>\n",
              "      <td>2023-01-01</td>\n",
              "      <td>4827656.26</td>\n",
              "    </tr>\n",
              "    <tr>\n",
              "      <th>1</th>\n",
              "      <td>2023-01-02</td>\n",
              "      <td>4862551.41</td>\n",
              "    </tr>\n",
              "    <tr>\n",
              "      <th>2</th>\n",
              "      <td>2023-01-03</td>\n",
              "      <td>5058973.71</td>\n",
              "    </tr>\n",
              "    <tr>\n",
              "      <th>3</th>\n",
              "      <td>2023-01-04</td>\n",
              "      <td>4938142.47</td>\n",
              "    </tr>\n",
              "    <tr>\n",
              "      <th>4</th>\n",
              "      <td>2023-01-05</td>\n",
              "      <td>5002954.23</td>\n",
              "    </tr>\n",
              "    <tr>\n",
              "      <th>...</th>\n",
              "      <td>...</td>\n",
              "      <td>...</td>\n",
              "    </tr>\n",
              "    <tr>\n",
              "      <th>105</th>\n",
              "      <td>2023-04-16</td>\n",
              "      <td>5299386.81</td>\n",
              "    </tr>\n",
              "    <tr>\n",
              "      <th>106</th>\n",
              "      <td>2023-04-17</td>\n",
              "      <td>5100973.31</td>\n",
              "    </tr>\n",
              "    <tr>\n",
              "      <th>107</th>\n",
              "      <td>2023-04-18</td>\n",
              "      <td>5233557.39</td>\n",
              "    </tr>\n",
              "    <tr>\n",
              "      <th>108</th>\n",
              "      <td>2023-04-19</td>\n",
              "      <td>5194846.44</td>\n",
              "    </tr>\n",
              "    <tr>\n",
              "      <th>109</th>\n",
              "      <td>2023-04-20</td>\n",
              "      <td>1795235.72</td>\n",
              "    </tr>\n",
              "  </tbody>\n",
              "</table>\n",
              "<p>110 rows × 2 columns</p>\n",
              "</div>"
            ],
            "text/plain": [
              "    date(tx_datetime)  sum(tx_amount)\n",
              "0          2023-01-01      4827656.26\n",
              "1          2023-01-02      4862551.41\n",
              "2          2023-01-03      5058973.71\n",
              "3          2023-01-04      4938142.47\n",
              "4          2023-01-05      5002954.23\n",
              "..                ...             ...\n",
              "105        2023-04-16      5299386.81\n",
              "106        2023-04-17      5100973.31\n",
              "107        2023-04-18      5233557.39\n",
              "108        2023-04-19      5194846.44\n",
              "109        2023-04-20      1795235.72\n",
              "\n",
              "[110 rows x 2 columns]"
            ]
          },
          "execution_count": 17,
          "metadata": {},
          "output_type": "execute_result"
        }
      ],
      "source": [
        "pd.read_sql(\"\"\"select date(tx_datetime), sum(tx_amount)\n",
        "               from transactions\n",
        "               group by 1\n",
        "               order by 1\"\"\"\n",
        "            , connection)"
      ]
    },
    {
      "cell_type": "markdown",
      "metadata": {
        "id": "OJa6tKTiHls8"
      },
      "source": [
        "Подготовить дашборд с помощью Dash по пункту 2.f, включив туда графики bar и histogram; вставить в конце ноутбука скрин графиков из дашборда."
      ]
    },
    {
      "cell_type": "code",
      "execution_count": null,
      "metadata": {
        "colab": {
          "base_uri": "https://localhost:8080/",
          "height": 1000
        },
        "id": "sqf_pEL4HpaA",
        "outputId": "0a0637e9-e81f-4f08-d6a1-9ed4caa3d756"
      },
      "outputs": [
        {
          "name": "stderr",
          "output_type": "stream",
          "text": [
            "C:\\Users\\никита\\AppData\\Local\\Temp\\ipykernel_17108\\1413397042.py:3: UserWarning: \n",
            "The dash_core_components package is deprecated. Please replace\n",
            "`import dash_core_components as dcc` with `from dash import dcc`\n",
            "  import dash_core_components as dcc\n",
            "C:\\Users\\никита\\AppData\\Local\\Temp\\ipykernel_17108\\1413397042.py:4: UserWarning: \n",
            "The dash_html_components package is deprecated. Please replace\n",
            "`import dash_html_components as html` with `from dash import html`\n",
            "  import dash_html_components as html\n"
          ]
        },
        {
          "name": "stdout",
          "output_type": "stream",
          "text": [
            "Dash is running on http://127.0.0.1:8050/\n",
            "\n",
            " * Serving Flask app '__main__'\n",
            " * Debug mode: off\n"
          ]
        },
        {
          "name": "stderr",
          "output_type": "stream",
          "text": [
            "WARNING: This is a development server. Do not use it in a production deployment. Use a production WSGI server instead.\n",
            " * Running on http://127.0.0.1:8050\n",
            "Press CTRL+C to quit\n",
            "127.0.0.1 - - [31/Mar/2023 15:42:05] \"GET / HTTP/1.1\" 200 -\n",
            "127.0.0.1 - - [31/Mar/2023 15:42:05] \"GET /_dash-dependencies HTTP/1.1\" 200 -\n",
            "127.0.0.1 - - [31/Mar/2023 15:42:05] \"GET /_dash-layout HTTP/1.1\" 200 -\n",
            "127.0.0.1 - - [31/Mar/2023 15:42:05] \"GET /_dash-component-suites/dash/dcc/async-graph.js HTTP/1.1\" 304 -\n",
            "127.0.0.1 - - [31/Mar/2023 15:42:05] \"GET /_dash-component-suites/dash/dcc/async-plotlyjs.js HTTP/1.1\" 304 -\n"
          ]
        }
      ],
      "source": [
        "import plotly.express as px\n",
        "import dash\n",
        "import dash_core_components as dcc\n",
        "import dash_html_components as html\n",
        "from dash.dependencies import Input, Output\n",
        "\n",
        "app = dash.Dash()\n",
        "\n",
        "df1=pd.read_sql(\"\"\"select date(tx_datetime) as tx_date, sum(tx_amount) as tx_sum\n",
        "               from transactions\n",
        "               group by 1\n",
        "               order by 1\"\"\"\n",
        "            , connection)\n",
        "fig1 = px.bar(df1, x=\"tx_date\", y=\"tx_sum\")\n",
        "fig2 = px.histogram(df1, x='tx_sum', nbins=40)\n",
        "app.layout = html.Div(children=[\n",
        "    html.H1(children='Данные по сумме транзакций'),\n",
        "\n",
        "    html.Div(children='''\n",
        "        Сумма транзакций в разрезе дат.\n",
        "    '''),\n",
        "\n",
        "    dcc.Graph(\n",
        "        id='example-graph',\n",
        "        figure=fig1\n",
        "    ),\n",
        "    html.Div(children='''\n",
        "        Распределение сумм транзакций.\n",
        "    '''),\n",
        "     dcc.Graph(\n",
        "        id='example-graph1',\n",
        "        figure=fig2\n",
        "    )\n",
        "])\n",
        "app.run_server()"
      ]
    },
    {
      "cell_type": "markdown",
      "source": [
        "![h4H6J3j_TZg.jpg](data:image/jpeg;base64,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)"
      ],
      "metadata": {
        "id": "d0vlZsuhbCIh"
      }
    },
    {
      "cell_type": "code",
      "execution_count": null,
      "metadata": {
        "id": "dhiDZ1LfRqn0"
      },
      "outputs": [],
      "source": [
        "connection.close()"
      ]
    }
  ],
  "metadata": {
    "colab": {
      "provenance": []
    },
    "kernelspec": {
      "display_name": "Python 3",
      "name": "python3"
    },
    "language_info": {
      "codemirror_mode": {
        "name": "ipython",
        "version": 3
      },
      "file_extension": ".py",
      "mimetype": "text/x-python",
      "name": "python",
      "nbconvert_exporter": "python",
      "pygments_lexer": "ipython3",
      "version": "3.10.9"
    }
  },
  "nbformat": 4,
  "nbformat_minor": 0
}