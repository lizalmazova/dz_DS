{
  "nbformat": 4,
  "nbformat_minor": 0,
  "metadata": {
    "colab": {
      "provenance": [],
      "collapsed_sections": []
    },
    "kernelspec": {
      "name": "python3",
      "display_name": "Python 3"
    },
    "language_info": {
      "name": "python"
    }
  },
  "cells": [
    {
      "cell_type": "markdown",
      "source": [
        "# ***Python Base. Функции. Домашнее задание (HW)***\n",
        "*Алмазова Е.А.*\n",
        "\n",
        "Используя библиотеку kaggle-environments, реализующую функционал взаимодействия между виртуальными агентами в рамках нескольких популярных игр, реализовать самостоятельно несколько агентов и сравнить их в игре «камень-ножницы-бумага».![kamen-nojnicy-bumaga-i-teoriya-igr.png](data:image/png;base64,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)\n"
      ],
      "metadata": {
        "id": "Z-z6ls3oVvZd"
      }
    },
    {
      "cell_type": "code",
      "source": [
        "!pip install -q -U kaggle_environments"
      ],
      "metadata": {
        "colab": {
          "base_uri": "https://localhost:8080/"
        },
        "id": "qm4lEOjAWSyK",
        "outputId": "aea7fc76-7fd5-4225-806d-aed10795c43a"
      },
      "execution_count": 1,
      "outputs": [
        {
          "output_type": "stream",
          "name": "stdout",
          "text": [
            "\u001b[K     |████████████████████████████████| 1.9 MB 5.0 MB/s \n",
            "\u001b[K     |████████████████████████████████| 62 kB 959 kB/s \n",
            "\u001b[?25h"
          ]
        }
      ]
    },
    {
      "cell_type": "code",
      "source": [
        "import numpy as np\n",
        "import pandas as pd\n",
        "import random\n",
        "\n",
        "import matplotlib.pyplot as plt\n",
        "import seaborn as sns\n",
        "\n",
        "from kaggle_environments import make, evaluate"
      ],
      "metadata": {
        "id": "jQ2FazU2WkmI"
      },
      "execution_count": 2,
      "outputs": []
    },
    {
      "cell_type": "markdown",
      "source": [
        "# 1. Всегда \"камень\":"
      ],
      "metadata": {
        "id": "KiQ5mllKX1jv"
      }
    },
    {
      "cell_type": "code",
      "source": [
        "%%writefile rock_agent.py\n",
        "#0 - rock\n",
        "#1 - paper\n",
        "#2 - scissors\n",
        "def rock_agent(observation, configuration):\n",
        "    return 0"
      ],
      "metadata": {
        "colab": {
          "base_uri": "https://localhost:8080/"
        },
        "id": "a-TYtHSxWnWO",
        "outputId": "7cccd070-7c93-4ad3-ddb3-f80620752544"
      },
      "execution_count": 45,
      "outputs": [
        {
          "output_type": "stream",
          "name": "stdout",
          "text": [
            "Overwriting rock_agent.py\n"
          ]
        }
      ]
    },
    {
      "cell_type": "code",
      "source": [
        "evaluate(\n",
        "    \"rps\", #environment to use - no need to change\n",
        "    [\"rock_agent.py\", \"statistical\"], #agents to evaluate\n",
        "    configuration={\"episodeSteps\": 100}, #number of episodes\n",
        ")"
      ],
      "metadata": {
        "colab": {
          "base_uri": "https://localhost:8080/"
        },
        "id": "uJL7Vx7-YPIS",
        "outputId": "e65f5a72-74e2-47a7-80f6-c06fcfbcf5ed"
      },
      "execution_count": 46,
      "outputs": [
        {
          "output_type": "execute_result",
          "data": {
            "text/plain": [
              "[[-98.0, 98.0]]"
            ]
          },
          "metadata": {},
          "execution_count": 46
        }
      ]
    },
    {
      "cell_type": "markdown",
      "source": [
        "# 2. Всегда \"бумага\":"
      ],
      "metadata": {
        "id": "IWRC7OHvYhWg"
      }
    },
    {
      "cell_type": "code",
      "source": [
        "%%writefile paper_agent.py\n",
        "\n",
        "def paper_agent(observation, configuration):\n",
        "    return 1"
      ],
      "metadata": {
        "colab": {
          "base_uri": "https://localhost:8080/"
        },
        "id": "CodqhvIAYrUF",
        "outputId": "7d62e1e0-548b-4626-9f44-3d355b1a4ed8"
      },
      "execution_count": 47,
      "outputs": [
        {
          "output_type": "stream",
          "name": "stdout",
          "text": [
            "Overwriting paper_agent.py\n"
          ]
        }
      ]
    },
    {
      "cell_type": "code",
      "source": [
        "evaluate(\n",
        "    \"rps\", #environment to use - no need to change\n",
        "    [\"paper_agent.py\", \"statistical\"], #agents to evaluate\n",
        "    configuration={\"episodeSteps\": 100} #number of episodes \n",
        ")"
      ],
      "metadata": {
        "colab": {
          "base_uri": "https://localhost:8080/"
        },
        "id": "fWRLt3gqYujy",
        "outputId": "5fd75c36-4fbd-4cbb-e5a8-6f898ac5d69e"
      },
      "execution_count": 48,
      "outputs": [
        {
          "output_type": "execute_result",
          "data": {
            "text/plain": [
              "[[-97.0, 97.0]]"
            ]
          },
          "metadata": {},
          "execution_count": 48
        }
      ]
    },
    {
      "cell_type": "markdown",
      "source": [
        "# 3. Всегда \"ножницы\":"
      ],
      "metadata": {
        "id": "M5Gw-azTY16w"
      }
    },
    {
      "cell_type": "code",
      "source": [
        "%%writefile scissors_agent.py\n",
        "\n",
        "def scissors_agent(observation, configuration):\n",
        "    return 2"
      ],
      "metadata": {
        "colab": {
          "base_uri": "https://localhost:8080/"
        },
        "id": "6lugajToY7Z2",
        "outputId": "e5000c4f-5d37-4714-d709-fb6c6420a16f"
      },
      "execution_count": 49,
      "outputs": [
        {
          "output_type": "stream",
          "name": "stdout",
          "text": [
            "Overwriting scissors_agent.py\n"
          ]
        }
      ]
    },
    {
      "cell_type": "code",
      "source": [
        "evaluate(\n",
        "    \"rps\", #environment to use - no need to change\n",
        "    [\"scissors_agent.py\", \"statistical\"], #agents to evaluate\n",
        "    configuration={\"episodeSteps\": 100}, #number of episodes\n",
        ")"
      ],
      "metadata": {
        "colab": {
          "base_uri": "https://localhost:8080/"
        },
        "id": "2LFO53cSZJeU",
        "outputId": "342e865b-e6be-4a21-ae56-a62eeae04900"
      },
      "execution_count": 50,
      "outputs": [
        {
          "output_type": "execute_result",
          "data": {
            "text/plain": [
              "[[-99.0, 99.0]]"
            ]
          },
          "metadata": {},
          "execution_count": 50
        }
      ]
    },
    {
      "cell_type": "markdown",
      "source": [
        "# 4. Копирует предыдущий ход оппонента:"
      ],
      "metadata": {
        "id": "EsvkbWKaZfXl"
      }
    },
    {
      "cell_type": "code",
      "source": [
        "%%writefile copy_opponent.py\n",
        "\n",
        "import random\n",
        "\n",
        "def copy_opponent(observation, configuration):\n",
        "    if observation.step > 0:\n",
        "        return observation.lastOpponentAction\n",
        "    else:\n",
        "        return random.randrange(0, configuration.signs)"
      ],
      "metadata": {
        "colab": {
          "base_uri": "https://localhost:8080/"
        },
        "id": "4xjENVVUZvk4",
        "outputId": "21a249ae-bb42-444d-bc1d-0f2836400bbd"
      },
      "execution_count": 51,
      "outputs": [
        {
          "output_type": "stream",
          "name": "stdout",
          "text": [
            "Overwriting copy_opponent.py\n"
          ]
        }
      ]
    },
    {
      "cell_type": "code",
      "source": [
        "evaluate(\n",
        "    \"rps\", #environment to use - no need to change\n",
        "    [\"copy_opponent.py\", \"statistical\"], #agents to evaluate\n",
        "    configuration={\"episodeSteps\": 100}, #number of episodes\n",
        ")"
      ],
      "metadata": {
        "colab": {
          "base_uri": "https://localhost:8080/"
        },
        "id": "oFHb7w51Z1Yy",
        "outputId": "ed673a3c-1c5c-4926-a816-103f1f677e51"
      },
      "execution_count": 52,
      "outputs": [
        {
          "output_type": "execute_result",
          "data": {
            "text/plain": [
              "[[-22.0, 22.0]]"
            ]
          },
          "metadata": {},
          "execution_count": 52
        }
      ]
    },
    {
      "cell_type": "markdown",
      "source": [
        "# 5. Рандомный ход:"
      ],
      "metadata": {
        "id": "mQtV7P_lalpx"
      }
    },
    {
      "cell_type": "code",
      "source": [
        "%%writefile random_opponent.py\n",
        "\n",
        "import random\n",
        "\n",
        "def random_opponent(observation, configuration):\n",
        "    return random.randrange(0, configuration.signs)"
      ],
      "metadata": {
        "colab": {
          "base_uri": "https://localhost:8080/"
        },
        "id": "wa6bQ-bTauO4",
        "outputId": "f7d8dfb6-b0db-46f0-cdff-de411a269972"
      },
      "execution_count": 53,
      "outputs": [
        {
          "output_type": "stream",
          "name": "stdout",
          "text": [
            "Overwriting random_opponent.py\n"
          ]
        }
      ]
    },
    {
      "cell_type": "code",
      "source": [
        "evaluate(\n",
        "    \"rps\", #environment to use - no need to change\n",
        "    [\"random_opponent.py\", \"statistical\"], #agents to evaluate\n",
        "    configuration={\"episodeSteps\": 100}, #number of episodes\n",
        ")"
      ],
      "metadata": {
        "colab": {
          "base_uri": "https://localhost:8080/"
        },
        "id": "Ib9RyvTfa8bk",
        "outputId": "221d1cfb-f18b-43fc-c0bc-50d7b6025781"
      },
      "execution_count": 54,
      "outputs": [
        {
          "output_type": "execute_result",
          "data": {
            "text/plain": [
              "[[0, 0]]"
            ]
          },
          "metadata": {},
          "execution_count": 54
        }
      ]
    },
    {
      "cell_type": "markdown",
      "source": [
        "# 6. Всегда не \"бумага\":\n",
        "\n",
        "\n"
      ],
      "metadata": {
        "id": "oOfR0ekebB15"
      }
    },
    {
      "cell_type": "code",
      "source": [
        "%%writefile not_paper.py\n",
        "\n",
        "import random\n",
        "\n",
        "def not_paper(observation, configuration):\n",
        "    return random.randrange(0, configuration.signs, 2)"
      ],
      "metadata": {
        "colab": {
          "base_uri": "https://localhost:8080/"
        },
        "id": "3TyQ8aWsc9LI",
        "outputId": "5e8fe4e2-76c0-49aa-eb21-4b049788e5ae"
      },
      "execution_count": 55,
      "outputs": [
        {
          "output_type": "stream",
          "name": "stdout",
          "text": [
            "Overwriting not_paper.py\n"
          ]
        }
      ]
    },
    {
      "cell_type": "code",
      "source": [
        "evaluate(\n",
        "    \"rps\", #environment to use - no need to change\n",
        "    [\"not_paper.py\", \"statistical\"], #agents to evaluate\n",
        "    configuration={\"episodeSteps\": 100}, #number of episodes\n",
        ")"
      ],
      "metadata": {
        "colab": {
          "base_uri": "https://localhost:8080/"
        },
        "id": "_z9BboEedeF3",
        "outputId": "ee573d13-ecfd-4e4d-bf47-2edbcdfa5a7a"
      },
      "execution_count": 56,
      "outputs": [
        {
          "output_type": "execute_result",
          "data": {
            "text/plain": [
              "[[-53.0, 53.0]]"
            ]
          },
          "metadata": {},
          "execution_count": 56
        }
      ]
    },
    {
      "cell_type": "markdown",
      "source": [
        "# 7. Всегда не \"камень\":\n",
        "\n",
        "\n"
      ],
      "metadata": {
        "id": "RDyYyMzTdvAM"
      }
    },
    {
      "cell_type": "code",
      "source": [
        "%%writefile not_rock.py\n",
        "\n",
        "import random\n",
        "\n",
        "def not_rock(observation, configuration):\n",
        "    return random.randrange(1, configuration.signs)"
      ],
      "metadata": {
        "colab": {
          "base_uri": "https://localhost:8080/"
        },
        "id": "WHsUt5B3d2pO",
        "outputId": "94bc4a20-fda3-40f7-e48e-289dd4a78977"
      },
      "execution_count": 57,
      "outputs": [
        {
          "output_type": "stream",
          "name": "stdout",
          "text": [
            "Overwriting not_rock.py\n"
          ]
        }
      ]
    },
    {
      "cell_type": "code",
      "source": [
        "evaluate(\n",
        "    \"rps\", #environment to use - no need to change\n",
        "    [\"not_rock.py\", \"statistical\"], #agents to evaluate\n",
        "    configuration={\"episodeSteps\": 100}, #number of episodes\n",
        ")"
      ],
      "metadata": {
        "colab": {
          "base_uri": "https://localhost:8080/"
        },
        "id": "6CstUpkMeJuX",
        "outputId": "17f6347b-242a-4285-9037-32364c492cef"
      },
      "execution_count": 58,
      "outputs": [
        {
          "output_type": "execute_result",
          "data": {
            "text/plain": [
              "[[-31.0, 31.0]]"
            ]
          },
          "metadata": {},
          "execution_count": 58
        }
      ]
    },
    {
      "cell_type": "markdown",
      "source": [
        "# 8. Всегда не \"ножницы\":"
      ],
      "metadata": {
        "id": "tb4DooJ4eeFK"
      }
    },
    {
      "cell_type": "code",
      "source": [
        "%%writefile not_scissors.py\n",
        "\n",
        "import random\n",
        "\n",
        "def not_scissors(observation, configuration):\n",
        "    return random.randrange(0, configuration.signs - 1)"
      ],
      "metadata": {
        "colab": {
          "base_uri": "https://localhost:8080/"
        },
        "id": "VoQvO0bJejep",
        "outputId": "e468db43-ba08-4ed5-c8db-d64e4eeff745"
      },
      "execution_count": 59,
      "outputs": [
        {
          "output_type": "stream",
          "name": "stdout",
          "text": [
            "Overwriting not_scissors.py\n"
          ]
        }
      ]
    },
    {
      "cell_type": "code",
      "source": [
        "evaluate(\n",
        "    \"rps\", #environment to use - no need to change\n",
        "    [\"not_scissors.py\", \"statistical\"], #agents to evaluate\n",
        "    configuration={\"episodeSteps\": 100}, #number of episodes\n",
        ")"
      ],
      "metadata": {
        "colab": {
          "base_uri": "https://localhost:8080/"
        },
        "id": "O1W34w1Xe0Sp",
        "outputId": "151b8f3c-c19b-4108-ac86-1c0967dd98f5"
      },
      "execution_count": 60,
      "outputs": [
        {
          "output_type": "execute_result",
          "data": {
            "text/plain": [
              "[[-32.0, 32.0]]"
            ]
          },
          "metadata": {},
          "execution_count": 60
        }
      ]
    },
    {
      "cell_type": "markdown",
      "source": [
        "# 9. +1 к предыдущему ходу оппонента:"
      ],
      "metadata": {
        "id": "qAkj40LjfyQ-"
      }
    },
    {
      "cell_type": "code",
      "source": [
        "%%writefile copy_opponent_plus.py\n",
        "\n",
        "import random\n",
        "\n",
        "def copy_opponent_plus(observation, configuration):\n",
        "    if observation.step > 0: return (observation.lastOpponentAction + 1) % configuration.signs\n",
        "    return random.randrange(0, configuration.signs)"
      ],
      "metadata": {
        "colab": {
          "base_uri": "https://localhost:8080/"
        },
        "id": "uuHQtmuJgABZ",
        "outputId": "7e57cf3f-228f-476a-bfff-1275c7b6fb8f"
      },
      "execution_count": 61,
      "outputs": [
        {
          "output_type": "stream",
          "name": "stdout",
          "text": [
            "Overwriting copy_opponent_plus.py\n"
          ]
        }
      ]
    },
    {
      "cell_type": "code",
      "source": [
        "evaluate(\n",
        "    \"rps\", #environment to use - no need to change\n",
        "    [\"copy_opponent_plus.py\", \"statistical\"], #agents to evaluate\n",
        "    configuration={\"episodeSteps\": 100}, #number of episodes\n",
        ")"
      ],
      "metadata": {
        "colab": {
          "base_uri": "https://localhost:8080/"
        },
        "id": "1XUmvgm9gWAL",
        "outputId": "72f1f53e-7243-47d4-aa28-91358e1c9bf8"
      },
      "execution_count": 62,
      "outputs": [
        {
          "output_type": "execute_result",
          "data": {
            "text/plain": [
              "[[59.0, -59.0]]"
            ]
          },
          "metadata": {},
          "execution_count": 62
        }
      ]
    },
    {
      "cell_type": "markdown",
      "source": [
        "# 10. -1 к предыдущему ходу оппонента:"
      ],
      "metadata": {
        "id": "8YRBwJzkhG0j"
      }
    },
    {
      "cell_type": "code",
      "source": [
        "%%writefile copy_opponent_minus.py\n",
        "\n",
        "import random\n",
        "\n",
        "def copy_opponent_minus(observation, configuration):\n",
        "    if observation.step > 0: return (observation.lastOpponentAction + 2) % configuration.signs\n",
        "    return random.randrange(0, configuration.signs)"
      ],
      "metadata": {
        "colab": {
          "base_uri": "https://localhost:8080/"
        },
        "id": "B1VzBZobhNk7",
        "outputId": "0fe8e1d3-2310-4759-cd46-49b14564b3c7"
      },
      "execution_count": 63,
      "outputs": [
        {
          "output_type": "stream",
          "name": "stdout",
          "text": [
            "Overwriting copy_opponent_minus.py\n"
          ]
        }
      ]
    },
    {
      "cell_type": "code",
      "source": [
        "evaluate(\n",
        "    \"rps\", #environment to use - no need to change\n",
        "    [\"copy_opponent_minus.py\", \"statistical\"], #agents to evaluate\n",
        "    configuration={\"episodeSteps\": 100}, #number of episodes\n",
        ")"
      ],
      "metadata": {
        "colab": {
          "base_uri": "https://localhost:8080/"
        },
        "id": "8Sdh9wjWhR5P",
        "outputId": "867708c4-5f98-430b-895f-1e8cf8828e96"
      },
      "execution_count": 64,
      "outputs": [
        {
          "output_type": "execute_result",
          "data": {
            "text/plain": [
              "[[-96.0, 96.0]]"
            ]
          },
          "metadata": {},
          "execution_count": 64
        }
      ]
    },
    {
      "cell_type": "markdown",
      "source": [
        "# 11. Меняет выбор при проигрыше:"
      ],
      "metadata": {
        "id": "9Z8jLdOFi72Y"
      }
    },
    {
      "cell_type": "code",
      "source": [
        "%%writefile change_lose_action.py\n",
        "\n",
        "import random\n",
        "\n",
        "change_lose_action = None\n",
        "def change_if_lose(observation, configuration):\n",
        "    global change_lose_action\n",
        "    if observation.step == 0:\n",
        "        change_lose_action = random.randrange(0, configuration.signs)\n",
        "    elif (observation.lastOpponentAction - change_lose_action) in [-2, 0, 1]:\n",
        "        change_lose_action = (observation.lastOpponentAction + 1) % configuration.signs\n",
        "    return change_lose_action"
      ],
      "metadata": {
        "colab": {
          "base_uri": "https://localhost:8080/"
        },
        "id": "mQaVFnS3jESL",
        "outputId": "08dfd0fe-47c0-4dde-d3f6-889e18f40453"
      },
      "execution_count": 65,
      "outputs": [
        {
          "output_type": "stream",
          "name": "stdout",
          "text": [
            "Overwriting change_lose_action.py\n"
          ]
        }
      ]
    },
    {
      "cell_type": "code",
      "source": [
        "evaluate(\n",
        "    \"rps\", #environment to use - no need to change\n",
        "    [\"change_lose_action.py\", \"statistical\"], #agents to evaluate\n",
        "    configuration={\"episodeSteps\": 100}, #number of episodes\n",
        ")"
      ],
      "metadata": {
        "colab": {
          "base_uri": "https://localhost:8080/"
        },
        "id": "mZ9E0yXNkxsu",
        "outputId": "1999dc1c-f6a7-4838-98d2-1236e984157c"
      },
      "execution_count": 66,
      "outputs": [
        {
          "output_type": "execute_result",
          "data": {
            "text/plain": [
              "[[59.0, -59.0]]"
            ]
          },
          "metadata": {},
          "execution_count": 66
        }
      ]
    },
    {
      "cell_type": "markdown",
      "source": [
        "# 12. Меняет выбор при выигрыше:"
      ],
      "metadata": {
        "id": "4BTS_ZCIlAb2"
      }
    },
    {
      "cell_type": "code",
      "source": [
        "%%writefile change_win_action.py\n",
        "\n",
        "import random\n",
        "\n",
        "change_win_action = None\n",
        "def change_if_win(observation, configuration):\n",
        "    global change_win_action\n",
        "    if observation.step == 0:\n",
        "        change_win_action = random.randrange(0, configuration.signs)\n",
        "    elif (observation.lastOpponentAction - change_win_action) in [-1, 2]:\n",
        "        change_win_action = (observation.lastOpponentAction + 1) % configuration.signs\n",
        "    return change_win_action\n"
      ],
      "metadata": {
        "colab": {
          "base_uri": "https://localhost:8080/"
        },
        "id": "jm2QWHgLlJCk",
        "outputId": "4cae70ce-9da9-4c26-d85c-89ad92075dc1"
      },
      "execution_count": 67,
      "outputs": [
        {
          "output_type": "stream",
          "name": "stdout",
          "text": [
            "Overwriting change_win_action.py\n"
          ]
        }
      ]
    },
    {
      "cell_type": "code",
      "source": [
        "evaluate(\n",
        "    \"rps\", #environment to use - no need to change\n",
        "    [\"change_win_action.py\", \"statistical\"], #agents to evaluate\n",
        "    configuration={\"episodeSteps\": 100}, #number of episodes\n",
        ")"
      ],
      "metadata": {
        "colab": {
          "base_uri": "https://localhost:8080/"
        },
        "id": "JE4fQGuplsTD",
        "outputId": "f0e2e29e-8b95-4dc6-f25e-c4380409428b"
      },
      "execution_count": 68,
      "outputs": [
        {
          "output_type": "execute_result",
          "data": {
            "text/plain": [
              "[[-99.0, 99.0]]"
            ]
          },
          "metadata": {},
          "execution_count": 68
        }
      ]
    },
    {
      "cell_type": "markdown",
      "source": [
        "# 13. Камень, ножницы, бумага поочередно:"
      ],
      "metadata": {
        "id": "3xVab-THm4Ws"
      }
    },
    {
      "cell_type": "code",
      "source": [
        "%%writefile rps_line.py\n",
        "\n",
        "counter = -1\n",
        "\n",
        "def rps_line(observation, configuration):\n",
        "    global counter\n",
        "    counter += 1\n",
        "    if counter % 3 == 0:\n",
        "        return 0\n",
        "    elif counter % 3 == 1:\n",
        "        return 1\n",
        "    else:\n",
        "        return 2"
      ],
      "metadata": {
        "colab": {
          "base_uri": "https://localhost:8080/"
        },
        "id": "yYUKnvnYnAMY",
        "outputId": "ccb8e90e-2936-4740-c839-be1d99aec1b3"
      },
      "execution_count": 72,
      "outputs": [
        {
          "output_type": "stream",
          "name": "stdout",
          "text": [
            "Overwriting rps_line.py\n"
          ]
        }
      ]
    },
    {
      "cell_type": "code",
      "source": [
        "evaluate(\n",
        "    \"rps\", #environment to use - no need to change\n",
        "    [\"rps_line.py\", \"statistical\"], #agents to evaluate\n",
        "    configuration={\"episodeSteps\": 100}, #number of episodes\n",
        ")"
      ],
      "metadata": {
        "colab": {
          "base_uri": "https://localhost:8080/"
        },
        "id": "iabL-lgpnQUH",
        "outputId": "e6450a3d-1ddb-44f4-df9a-70b428b17972"
      },
      "execution_count": 74,
      "outputs": [
        {
          "output_type": "execute_result",
          "data": {
            "text/plain": [
              "[[0, 0]]"
            ]
          },
          "metadata": {},
          "execution_count": 74
        }
      ]
    },
    {
      "cell_type": "markdown",
      "source": [
        "# **Турнир:**"
      ],
      "metadata": {
        "id": "y8sY_e5WniVf"
      }
    },
    {
      "cell_type": "code",
      "source": [
        "agents = ['rock_agent.py',\n",
        "          'paper_agent.py',\n",
        "          'scissors_agent.py',\n",
        "          'copy_opponent.py',\n",
        "          'random_opponent.py',\n",
        "          'not_paper.py',\n",
        "          'not_rock.py',\n",
        "          'not_scissors.py', \n",
        "          'copy_opponent_plus.py', \n",
        "          'copy_opponent_minus.py', \n",
        "          'change_lose_action.py', \n",
        "          'change_win_action.py', \n",
        "          'rps_line.py']\n",
        "\n",
        "\n",
        "rank = {agent: 0 for agent in agents}\n",
        "\n",
        "for times in range(3):\n",
        "# сколько раундов сыграет каждая пара\n",
        "          \n",
        "    for i in range(len(agents)):\n",
        "        for j in range(i+1, len(agents)):\n",
        "            e = evaluate(\n",
        "            \"rps\", #environment to use - no need to change\n",
        "            [agents[i], agents[j]], #agents to evaluate\n",
        "            configuration={\"episodeSteps\": 100, 'tieRewardThreshold': 1} #number of episodes \n",
        "            )\n",
        "            if e[0][0] > e[0][1]:\n",
        "                rank[agents[i]] += 1\n",
        "            elif e[0][0] < e[0][1]:\n",
        "                rank[agents[j]] += 1\n",
        "            "
      ],
      "metadata": {
        "id": "HP5YlYYYnnpP"
      },
      "execution_count": 75,
      "outputs": []
    },
    {
      "cell_type": "markdown",
      "source": [
        "# **Итоги:**"
      ],
      "metadata": {
        "id": "WZ3O1YqWpaer"
      }
    },
    {
      "cell_type": "code",
      "source": [
        "rank_se = pd.Series(rank, name=\"Рейтинг турнира по количеству выигрышей\").sort_values(ascending=False).to_frame()\n",
        "rank_se"
      ],
      "metadata": {
        "colab": {
          "base_uri": "https://localhost:8080/",
          "height": 457
        },
        "id": "eb7RsS56ppQd",
        "outputId": "fee01904-393f-479c-c906-57be79c3477f"
      },
      "execution_count": 77,
      "outputs": [
        {
          "output_type": "execute_result",
          "data": {
            "text/plain": [
              "                        Рейтинг турнира по количеству выигрышей\n",
              "change_lose_action.py                                        29\n",
              "copy_opponent_plus.py                                        26\n",
              "random_opponent.py                                           21\n",
              "not_scissors.py                                              18\n",
              "not_paper.py                                                 17\n",
              "not_rock.py                                                  16\n",
              "paper_agent.py                                               13\n",
              "scissors_agent.py                                            13\n",
              "change_win_action.py                                         13\n",
              "copy_opponent.py                                             12\n",
              "rock_agent.py                                                11\n",
              "copy_opponent_minus.py                                        9\n",
              "rps_line.py                                                   8"
            ],
            "text/html": [
              "\n",
              "  <div id=\"df-01dcfc1d-61dc-4785-a894-faa519ebf463\">\n",
              "    <div class=\"colab-df-container\">\n",
              "      <div>\n",
              "<style scoped>\n",
              "    .dataframe tbody tr th:only-of-type {\n",
              "        vertical-align: middle;\n",
              "    }\n",
              "\n",
              "    .dataframe tbody tr th {\n",
              "        vertical-align: top;\n",
              "    }\n",
              "\n",
              "    .dataframe thead th {\n",
              "        text-align: right;\n",
              "    }\n",
              "</style>\n",
              "<table border=\"1\" class=\"dataframe\">\n",
              "  <thead>\n",
              "    <tr style=\"text-align: right;\">\n",
              "      <th></th>\n",
              "      <th>Рейтинг турнира по количеству выигрышей</th>\n",
              "    </tr>\n",
              "  </thead>\n",
              "  <tbody>\n",
              "    <tr>\n",
              "      <th>change_lose_action.py</th>\n",
              "      <td>29</td>\n",
              "    </tr>\n",
              "    <tr>\n",
              "      <th>copy_opponent_plus.py</th>\n",
              "      <td>26</td>\n",
              "    </tr>\n",
              "    <tr>\n",
              "      <th>random_opponent.py</th>\n",
              "      <td>21</td>\n",
              "    </tr>\n",
              "    <tr>\n",
              "      <th>not_scissors.py</th>\n",
              "      <td>18</td>\n",
              "    </tr>\n",
              "    <tr>\n",
              "      <th>not_paper.py</th>\n",
              "      <td>17</td>\n",
              "    </tr>\n",
              "    <tr>\n",
              "      <th>not_rock.py</th>\n",
              "      <td>16</td>\n",
              "    </tr>\n",
              "    <tr>\n",
              "      <th>paper_agent.py</th>\n",
              "      <td>13</td>\n",
              "    </tr>\n",
              "    <tr>\n",
              "      <th>scissors_agent.py</th>\n",
              "      <td>13</td>\n",
              "    </tr>\n",
              "    <tr>\n",
              "      <th>change_win_action.py</th>\n",
              "      <td>13</td>\n",
              "    </tr>\n",
              "    <tr>\n",
              "      <th>copy_opponent.py</th>\n",
              "      <td>12</td>\n",
              "    </tr>\n",
              "    <tr>\n",
              "      <th>rock_agent.py</th>\n",
              "      <td>11</td>\n",
              "    </tr>\n",
              "    <tr>\n",
              "      <th>copy_opponent_minus.py</th>\n",
              "      <td>9</td>\n",
              "    </tr>\n",
              "    <tr>\n",
              "      <th>rps_line.py</th>\n",
              "      <td>8</td>\n",
              "    </tr>\n",
              "  </tbody>\n",
              "</table>\n",
              "</div>\n",
              "      <button class=\"colab-df-convert\" onclick=\"convertToInteractive('df-01dcfc1d-61dc-4785-a894-faa519ebf463')\"\n",
              "              title=\"Convert this dataframe to an interactive table.\"\n",
              "              style=\"display:none;\">\n",
              "        \n",
              "  <svg xmlns=\"http://www.w3.org/2000/svg\" height=\"24px\"viewBox=\"0 0 24 24\"\n",
              "       width=\"24px\">\n",
              "    <path d=\"M0 0h24v24H0V0z\" fill=\"none\"/>\n",
              "    <path d=\"M18.56 5.44l.94 2.06.94-2.06 2.06-.94-2.06-.94-.94-2.06-.94 2.06-2.06.94zm-11 1L8.5 8.5l.94-2.06 2.06-.94-2.06-.94L8.5 2.5l-.94 2.06-2.06.94zm10 10l.94 2.06.94-2.06 2.06-.94-2.06-.94-.94-2.06-.94 2.06-2.06.94z\"/><path d=\"M17.41 7.96l-1.37-1.37c-.4-.4-.92-.59-1.43-.59-.52 0-1.04.2-1.43.59L10.3 9.45l-7.72 7.72c-.78.78-.78 2.05 0 2.83L4 21.41c.39.39.9.59 1.41.59.51 0 1.02-.2 1.41-.59l7.78-7.78 2.81-2.81c.8-.78.8-2.07 0-2.86zM5.41 20L4 18.59l7.72-7.72 1.47 1.35L5.41 20z\"/>\n",
              "  </svg>\n",
              "      </button>\n",
              "      \n",
              "  <style>\n",
              "    .colab-df-container {\n",
              "      display:flex;\n",
              "      flex-wrap:wrap;\n",
              "      gap: 12px;\n",
              "    }\n",
              "\n",
              "    .colab-df-convert {\n",
              "      background-color: #E8F0FE;\n",
              "      border: none;\n",
              "      border-radius: 50%;\n",
              "      cursor: pointer;\n",
              "      display: none;\n",
              "      fill: #1967D2;\n",
              "      height: 32px;\n",
              "      padding: 0 0 0 0;\n",
              "      width: 32px;\n",
              "    }\n",
              "\n",
              "    .colab-df-convert:hover {\n",
              "      background-color: #E2EBFA;\n",
              "      box-shadow: 0px 1px 2px rgba(60, 64, 67, 0.3), 0px 1px 3px 1px rgba(60, 64, 67, 0.15);\n",
              "      fill: #174EA6;\n",
              "    }\n",
              "\n",
              "    [theme=dark] .colab-df-convert {\n",
              "      background-color: #3B4455;\n",
              "      fill: #D2E3FC;\n",
              "    }\n",
              "\n",
              "    [theme=dark] .colab-df-convert:hover {\n",
              "      background-color: #434B5C;\n",
              "      box-shadow: 0px 1px 3px 1px rgba(0, 0, 0, 0.15);\n",
              "      filter: drop-shadow(0px 1px 2px rgba(0, 0, 0, 0.3));\n",
              "      fill: #FFFFFF;\n",
              "    }\n",
              "  </style>\n",
              "\n",
              "      <script>\n",
              "        const buttonEl =\n",
              "          document.querySelector('#df-01dcfc1d-61dc-4785-a894-faa519ebf463 button.colab-df-convert');\n",
              "        buttonEl.style.display =\n",
              "          google.colab.kernel.accessAllowed ? 'block' : 'none';\n",
              "\n",
              "        async function convertToInteractive(key) {\n",
              "          const element = document.querySelector('#df-01dcfc1d-61dc-4785-a894-faa519ebf463');\n",
              "          const dataTable =\n",
              "            await google.colab.kernel.invokeFunction('convertToInteractive',\n",
              "                                                     [key], {});\n",
              "          if (!dataTable) return;\n",
              "\n",
              "          const docLinkHtml = 'Like what you see? Visit the ' +\n",
              "            '<a target=\"_blank\" href=https://colab.research.google.com/notebooks/data_table.ipynb>data table notebook</a>'\n",
              "            + ' to learn more about interactive tables.';\n",
              "          element.innerHTML = '';\n",
              "          dataTable['output_type'] = 'display_data';\n",
              "          await google.colab.output.renderOutput(dataTable, element);\n",
              "          const docLink = document.createElement('div');\n",
              "          docLink.innerHTML = docLinkHtml;\n",
              "          element.appendChild(docLink);\n",
              "        }\n",
              "      </script>\n",
              "    </div>\n",
              "  </div>\n",
              "  "
            ]
          },
          "metadata": {},
          "execution_count": 77
        }
      ]
    },
    {
      "cell_type": "markdown",
      "source": [
        "Таким образом, лучшей стала стратегия *change_lose_action*, в то время как тактика поочередного использования *камень-ножницы-бумага* стала худшей. Стоит отметить высокие показатели тактики рандомного хода в отличие от тактик стабильного хода ножницами, камнем или бумагой, результаты которых оказались ниже среднего уровня."
      ],
      "metadata": {
        "id": "oVEFx_3Rqpru"
      }
    }
  ]
}